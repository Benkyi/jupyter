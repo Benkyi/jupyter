{
 "cells": [
  {
   "cell_type": "markdown",
   "metadata": {},
   "source": [
    "# Introduction to Jupyter Notebooks\n",
    "* ### Cells, magics, plotting, mixing languages "
   ]
  },
  {
   "cell_type": "markdown",
   "metadata": {},
   "source": [
    "In this lesson you will learn \n",
    "- how *markdown* and *code* cells work\n",
    "- how to use keyboard shortcuts to speed up your work\n",
    "- how to take advantage of notebook *magics* \n",
    "- how to create new custom magic commands\n",
    "- how to plot interactively\n",
    "- how to mix in different markup and programming languages (html, LaTeX, bash, ruby, perl, R, octave)"
   ]
  },
  {
   "cell_type": "markdown",
   "metadata": {},
   "source": [
    "## Cells\n",
    "\n",
    "- *code cells* contain code to be interpreted by the *kernel* (Python, R, Julia, Octave/Matlab...)\n",
    "- *markdown cells* contain formatted text written in Markdown "
   ]
  },
  {
   "cell_type": "markdown",
   "metadata": {},
   "source": [
    "## Markdown\n",
    "\n",
    "This cell contains simple [markdown](https://daringfireball.net/projects/markdown/syntax), a simple language for writing text that can be automatically converted to other formats, e.g. HTML, LaTeX or any of a number of others.\n",
    "\n",
    "* bullet points\n",
    "\n",
    "or\n",
    "\n",
    "1. numbered\n",
    "3. lists\n",
    "\n",
    "Images ![CodeRefinery Logo](https://pbs.twimg.com/profile_images/854619450141806593/AdHFIZ1e_bigger.jpg)\n"
   ]
  },
  {
   "cell_type": "code",
   "execution_count": 9,
   "metadata": {},
   "outputs": [
    {
     "name": "stdout",
     "output_type": "stream",
     "text": [
      "hello world\n"
     ]
    }
   ],
   "source": [
    "# a code cell can run statements of code.\n",
    "# when you run this cell, the output is sent \n",
    "# from the web page to a back-end process, run \n",
    "# and the results are displayed to you\n",
    "print(\"hello world\")"
   ]
  },
  {
   "cell_type": "markdown",
   "metadata": {},
   "source": [
    "### <font color=\"red\"> *Exercise 1.1* </font>"
   ]
  },
  {
   "cell_type": "markdown",
   "metadata": {},
   "source": [
    "* Spend a couple of minutes playing around with the Markdown cell and code cell above\n",
    "* You can edit the cell by double-clicking on it\n",
    "* You can run the cell by pressing the play-button in the toolbar (or press `Shift-Enter`)\n",
    "* You can change the type of the cell from the toolbar as well (or press `m` for Markdown and `y` for code)\n",
    "\n",
    "*p.s.* feel free to switch your Jupyter kernel to another language, if you prefer and have it installed  \n",
    "*p.p.s.* you can also add inline HTML to the markdown cells. See how the red font in the exercise header has been implemented."
   ]
  },
  {
   "cell_type": "markdown",
   "metadata": {},
   "source": [
    "### Keyboard shortcuts \n",
    "\n",
    "Jupyter has two modes *Edit* mode and *Command* mode. In edit mode you edit the contents of a cell and in *Command* mode you make operations on entire cells.\n",
    "\n",
    "\n",
    "* `Enter` key to enter Edit mode (`Escape` to enter Command mode)\n",
    "* `Ctrl`-`Enter`: run the cell\n",
    "* `Shift`-`Enter`: run the cell and select the cell below\n",
    "* `Alt`-`Enter`: run the cell and insert a new cell below\n",
    "* `Ctrl`-`s`: save the notebook\n",
    "* `Tab` key for code completion or indentation\n",
    "* `m` and `y` to toggle between Markdown and Code cells\n",
    "* `d-d` to delete a cell\n",
    "* `z` to undo deleting\n",
    "* `a/b` to insert cells above/below current cell\n",
    "* `x/c/v` to cut/copy/paste cells\n",
    "* `Up/Down` or `k/j` to select previous/next cells\n",
    "* `h` for help menu for keyboard shortcuts\n",
    "* Append `?` for help on commands/methods, `??` to show source "
   ]
  },
  {
   "cell_type": "markdown",
   "metadata": {},
   "source": [
    "### <font color=\"red\"> *Exercise 1.2* </font>\n",
    "\n",
    "\n",
    "* Spend a few minutes trying around the commands listed above\n",
    "* They will save your time and wrists"
   ]
  },
  {
   "cell_type": "markdown",
   "metadata": {},
   "source": [
    "### Shell commands\n",
    "  - You can run shell commands by prepending with !\n",
    "  - Useful, e.g., for managing the python environment\n",
    "  - Remember to make sure your cell command doesn't require interaction"
   ]
  },
  {
   "cell_type": "code",
   "execution_count": 10,
   "metadata": {},
   "outputs": [
    {
     "name": "stdout",
     "output_type": "stream",
     "text": [
      "hello\r\n"
     ]
    }
   ],
   "source": [
    "!echo \"hello\""
   ]
  },
  {
   "cell_type": "code",
   "execution_count": 11,
   "metadata": {
    "collapsed": true
   },
   "outputs": [
    {
     "name": "stdout",
     "output_type": "stream",
     "text": [
      "\u001b[31mDEPRECATION: The default format will switch to columns in the future. You can use --format=(legacy|columns) (or define a format=(legacy|columns) in your pip.conf under the [list] section) to disable this warning.\u001b[0m\r\n",
      "aiida-core (0.8.0)\r\n",
      "alabaster (0.7.9)\r\n",
      "aldjemy (0.6.0)\r\n",
      "amqp (1.4.9)\r\n",
      "anaconda-client (1.6.0)\r\n",
      "anaconda-navigator (1.4.3)\r\n",
      "anyjson (0.3.3)\r\n",
      "appnope (0.1.0)\r\n",
      "appscript (1.0.1)\r\n",
      "argcomplete (1.0.0)\r\n",
      "ase (3.12.0)\r\n",
      "astroid (1.4.9)\r\n",
      "astropy (1.3)\r\n",
      "Babel (2.3.4)\r\n",
      "backports-abc (0.5)\r\n",
      "backports.shutil-get-terminal-size (1.0.0)\r\n",
      "backports.ssl-match-hostname (3.4.0.2)\r\n",
      "beautifulsoup4 (4.5.3)\r\n",
      "billiard (3.3.0.19)\r\n",
      "bitarray (0.8.1)\r\n",
      "blaze (0.10.1)\r\n",
      "bokeh (0.12.4)\r\n",
      "boto (2.45.0)\r\n",
      "Bottleneck (1.2.0)\r\n",
      "cdecimal (2.3)\r\n",
      "celery (3.1.17)\r\n",
      "cffi (1.9.1)\r\n",
      "chardet (2.3.0)\r\n",
      "chest (0.2.3)\r\n",
      "click (6.7)\r\n",
      "cloudpickle (0.2.2)\r\n",
      "clyent (1.2.2)\r\n",
      "colorama (0.3.7)\r\n",
      "conda (4.3.16)\r\n",
      "conda-build (1.21.3)\r\n",
      "configobj (5.0.6)\r\n",
      "configparser (3.5.0)\r\n",
      "contextlib2 (0.5.4)\r\n",
      "cryptography (1.7.1)\r\n",
      "cycler (0.10.0)\r\n",
      "Cython (0.25.2)\r\n",
      "cytoolz (0.8.2)\r\n",
      "dask (0.13.0)\r\n",
      "datashape (0.5.4)\r\n",
      "decorator (4.0.11)\r\n",
      "dill (0.2.5)\r\n",
      "Django (1.7.4)\r\n",
      "django-celery (3.1.16)\r\n",
      "django-extensions (1.5.0)\r\n",
      "django-tastypie (0.12.1)\r\n",
      "docutils (0.13.1)\r\n",
      "dynd (0.7.3.dev1)\r\n",
      "ecdsa (0.13)\r\n",
      "enum34 (1.1.6)\r\n",
      "et-xmlfile (1.0.1)\r\n",
      "ete3 (3.0.0b35)\r\n",
      "fastcache (1.0.2)\r\n",
      "Flask (0.12)\r\n",
      "Flask-Cors (3.0.2)\r\n",
      "fortran-magic (0.7)\r\n",
      "frozendict (1.0)\r\n",
      "funcsigs (1.0.2)\r\n",
      "functools32 (3.2.3.post2)\r\n",
      "futures (3.0.5)\r\n",
      "gevent (1.2.1)\r\n",
      "gitdb2 (2.0.0)\r\n",
      "GitPython (2.1.1)\r\n",
      "greenlet (0.4.11)\r\n",
      "grin (1.2.1)\r\n",
      "h5py (2.6.0)\r\n",
      "HeapDict (1.0.0)\r\n",
      "idna (2.2)\r\n",
      "imagesize (0.7.1)\r\n",
      "ipaddress (1.0.18)\r\n",
      "ipykernel (4.5.2)\r\n",
      "ipyparallel (5.2.0)\r\n",
      "ipython (5.1.0)\r\n",
      "ipython-genutils (0.1.0)\r\n",
      "ipython-sql (0.3.8)\r\n",
      "ipywidgets (5.2.2)\r\n",
      "isort (4.2.5)\r\n",
      "itsdangerous (0.24)\r\n",
      "jdcal (1.3)\r\n",
      "jedi (0.9.0)\r\n",
      "Jinja2 (2.9.4)\r\n",
      "jsonschema (2.5.1)\r\n",
      "julia (0.1.1)\r\n",
      "jupyter (1.0.0)\r\n",
      "jupyter-client (4.4.0)\r\n",
      "jupyter-console (5.0.0)\r\n",
      "jupyter-core (4.2.1)\r\n",
      "jupyterlab (0.16.2)\r\n",
      "kombu (3.0.35)\r\n",
      "lazy-object-proxy (1.2.2)\r\n",
      "line-profiler (2.0)\r\n",
      "llvmlite (0.15.0)\r\n",
      "locket (0.2.0)\r\n",
      "lxml (3.7.2)\r\n",
      "MarkupSafe (0.23)\r\n",
      "matplotlib (2.0.0)\r\n",
      "meld3 (1.0.0)\r\n",
      "metakernel (0.15.1)\r\n",
      "mistune (0.7.3)\r\n",
      "mpmath (0.19)\r\n",
      "multipledispatch (0.4.9)\r\n",
      "nb-anacondacloud (1.2.0)\r\n",
      "nb-conda (2.0.0)\r\n",
      "nb-conda-kernels (2.0.0)\r\n",
      "nbconvert (4.2.0)\r\n",
      "nbformat (4.2.0)\r\n",
      "nbpresent (3.0.2)\r\n",
      "networkx (1.11)\r\n",
      "nltk (3.2.2)\r\n",
      "nose (1.3.7)\r\n",
      "notebook (4.3.1)\r\n",
      "numba (0.30.1+0.g8c1033f.dirty)\r\n",
      "numexpr (2.6.1)\r\n",
      "numpy (1.11.3)\r\n",
      "numpydoc (0.6.0)\r\n",
      "octave-kernel (0.18.0)\r\n",
      "odo (0.5.0)\r\n",
      "openpyxl (2.4.1)\r\n",
      "pandas (0.19.2)\r\n",
      "paramiko (2.1.1)\r\n",
      "partd (0.3.7)\r\n",
      "pathlib2 (2.2.0)\r\n",
      "patsy (0.4.1)\r\n",
      "pep8 (1.7.0)\r\n",
      "pexpect (4.2.1)\r\n",
      "pickleshare (0.7.4)\r\n",
      "Pillow (4.0.0)\r\n",
      "pip (9.0.1)\r\n",
      "plum (0.4.3)\r\n",
      "ply (3.9)\r\n",
      "prettytable (0.7.2)\r\n",
      "prompt-toolkit (1.0.9)\r\n",
      "psutil (5.0.1)\r\n",
      "psycopg2 (2.7.1)\r\n",
      "ptyprocess (0.5.1)\r\n",
      "py (1.4.32)\r\n",
      "pyasn1 (0.1.9)\r\n",
      "PyAudio (0.2.7)\r\n",
      "pycosat (0.6.1)\r\n",
      "pycparser (2.17)\r\n",
      "pycrypto (2.6.1)\r\n",
      "pycurl (7.43.0)\r\n",
      "pyflakes (1.5.0)\r\n",
      "Pygments (2.1.3)\r\n",
      "pylint (1.6.4)\r\n",
      "pyOpenSSL (16.2.0)\r\n",
      "pyparsing (2.1.4)\r\n",
      "pytest (3.0.5)\r\n",
      "python-dateutil (2.6.0)\r\n",
      "python-gssapi (0.6.4)\r\n",
      "python-mimeparse (0.1.4)\r\n",
      "pytz (2016.10)\r\n",
      "PyYAML (3.12)\r\n",
      "pyzmq (16.0.2)\r\n",
      "QtAwesome (0.4.3)\r\n",
      "qtconsole (4.2.1)\r\n",
      "QtPy (1.2.1)\r\n",
      "redis (2.10.5)\r\n",
      "requests (2.12.4)\r\n",
      "rise (4.0.0b1)\r\n",
      "rope (0.9.4)\r\n",
      "rpy2 (2.8.4)\r\n",
      "ruamel-yaml (-VERSION)\r\n",
      "scandir (1.4)\r\n",
      "scikit-image (0.12.3)\r\n",
      "scikit-learn (0.18.1)\r\n",
      "scipy (0.18.1)\r\n",
      "seaborn (0.7.1)\r\n",
      "setuptools (32.3.1)\r\n",
      "simplegeneric (0.8.1)\r\n",
      "singledispatch (3.4.0.3)\r\n",
      "six (1.10.0)\r\n",
      "smmap2 (2.0.1)\r\n",
      "snowballstemmer (1.2.1)\r\n",
      "sockjs-tornado (1.0.3)\r\n",
      "Sphinx (1.5.1)\r\n",
      "sphinx-rtd-theme (0.1.9)\r\n",
      "spyder (3.1.2)\r\n",
      "SQLAlchemy (1.0.12)\r\n",
      "SQLAlchemy-Utils (0.31.2)\r\n",
      "sqlparse (0.2.2)\r\n",
      "statsmodels (0.6.1)\r\n",
      "subprocess32 (3.2.7)\r\n",
      "supervisor (3.1.3)\r\n",
      "sympy (1.0)\r\n",
      "tables (3.3.0)\r\n",
      "tabulate (0.7.5)\r\n",
      "terminado (0.6)\r\n",
      "toolz (0.8.2)\r\n",
      "tornado (4.4.2)\r\n",
      "traitlets (4.3.1)\r\n",
      "ultrajson (1.35)\r\n",
      "unicodecsv (0.14.1)\r\n",
      "validate-email (1.3)\r\n",
      "virtualenv (15.0.3)\r\n",
      "voluptuous (0.8.11)\r\n",
      "wcwidth (0.1.7)\r\n",
      "Werkzeug (0.11.15)\r\n",
      "wheel (0.29.0)\r\n",
      "widgetsnbextension (1.2.6)\r\n",
      "wrapt (1.10.8)\r\n",
      "xlrd (1.0.0)\r\n",
      "XlsxWriter (0.9.6)\r\n",
      "xlwings (0.10.2)\r\n",
      "xlwt (1.2.0)\r\n"
     ]
    }
   ],
   "source": [
    "!pip list"
   ]
  },
  {
   "cell_type": "markdown",
   "metadata": {},
   "source": [
    " - Many common linux shell commands are available as magics: %ls, %pwd, %mkdir, %cp, %mv, %cd, *etc.*"
   ]
  },
  {
   "cell_type": "markdown",
   "metadata": {},
   "source": [
    "## Jupyter magics"
   ]
  },
  {
   "cell_type": "markdown",
   "metadata": {},
   "source": [
    "Magics are a simple command language which significantly extend the power of Jupyter "
   ]
  },
  {
   "cell_type": "markdown",
   "metadata": {},
   "source": [
    "Two kinds of magics:\n",
    "\n",
    "  - **Line magics**: commands prepended by one % character and whose arguments only extend to the end of the current line.\n",
    "  - **Cell magics**: use two percent characters as a marker (%%), receive as argument the whole cell (must be used as the first line in a cell)"
   ]
  },
  {
   "cell_type": "markdown",
   "metadata": {},
   "source": [
    "Other features:\n",
    "  - Use `%lsmagic` magic to list all available line and cell magics\n",
    "  - Question mark shows help: `%lsmagic?`\n",
    "  - Default behavior: `Automagic is ON, % prefix IS NOT needed for line magics`\n",
    "  - Additional magics can be created, for an example see bottom of notebook"
   ]
  },
  {
   "cell_type": "code",
   "execution_count": 12,
   "metadata": {},
   "outputs": [
    {
     "data": {
      "application/json": {
       "cell": {
        "!": "OSMagics",
        "HTML": "Other",
        "SVG": "Other",
        "bash": "Other",
        "capture": "ExecutionMagics",
        "debug": "ExecutionMagics",
        "file": "Other",
        "html": "DisplayMagics",
        "javascript": "DisplayMagics",
        "js": "DisplayMagics",
        "latex": "DisplayMagics",
        "perl": "Other",
        "prun": "ExecutionMagics",
        "pypy": "Other",
        "python": "Other",
        "python2": "Other",
        "python3": "Other",
        "ruby": "Other",
        "script": "ScriptMagics",
        "sh": "Other",
        "svg": "DisplayMagics",
        "sx": "OSMagics",
        "system": "OSMagics",
        "time": "ExecutionMagics",
        "timeit": "ExecutionMagics",
        "writefile": "OSMagics"
       },
       "line": {
        "alias": "OSMagics",
        "alias_magic": "BasicMagics",
        "autocall": "AutoMagics",
        "automagic": "AutoMagics",
        "autosave": "KernelMagics",
        "bookmark": "OSMagics",
        "cat": "Other",
        "cd": "OSMagics",
        "clear": "KernelMagics",
        "colors": "BasicMagics",
        "config": "ConfigMagics",
        "connect_info": "KernelMagics",
        "cp": "Other",
        "debug": "ExecutionMagics",
        "dhist": "OSMagics",
        "dirs": "OSMagics",
        "doctest_mode": "BasicMagics",
        "ed": "Other",
        "edit": "KernelMagics",
        "env": "OSMagics",
        "gui": "BasicMagics",
        "hist": "Other",
        "history": "HistoryMagics",
        "killbgscripts": "ScriptMagics",
        "ldir": "Other",
        "less": "KernelMagics",
        "lf": "Other",
        "lk": "Other",
        "ll": "Other",
        "load": "CodeMagics",
        "load_ext": "ExtensionMagics",
        "loadpy": "CodeMagics",
        "logoff": "LoggingMagics",
        "logon": "LoggingMagics",
        "logstart": "LoggingMagics",
        "logstate": "LoggingMagics",
        "logstop": "LoggingMagics",
        "ls": "Other",
        "lsmagic": "BasicMagics",
        "lx": "Other",
        "macro": "ExecutionMagics",
        "magic": "BasicMagics",
        "man": "KernelMagics",
        "matplotlib": "PylabMagics",
        "mkdir": "Other",
        "more": "KernelMagics",
        "mv": "Other",
        "notebook": "BasicMagics",
        "page": "BasicMagics",
        "pastebin": "CodeMagics",
        "pdb": "ExecutionMagics",
        "pdef": "NamespaceMagics",
        "pdoc": "NamespaceMagics",
        "pfile": "NamespaceMagics",
        "pinfo": "NamespaceMagics",
        "pinfo2": "NamespaceMagics",
        "popd": "OSMagics",
        "pprint": "BasicMagics",
        "precision": "BasicMagics",
        "profile": "BasicMagics",
        "prun": "ExecutionMagics",
        "psearch": "NamespaceMagics",
        "psource": "NamespaceMagics",
        "pushd": "OSMagics",
        "pwd": "OSMagics",
        "pycat": "OSMagics",
        "pylab": "PylabMagics",
        "qtconsole": "KernelMagics",
        "quickref": "BasicMagics",
        "recall": "HistoryMagics",
        "rehashx": "OSMagics",
        "reload_ext": "ExtensionMagics",
        "rep": "Other",
        "rerun": "HistoryMagics",
        "reset": "NamespaceMagics",
        "reset_selective": "NamespaceMagics",
        "rm": "Other",
        "rmdir": "Other",
        "run": "ExecutionMagics",
        "save": "CodeMagics",
        "sc": "OSMagics",
        "set_env": "OSMagics",
        "store": "StoreMagics",
        "sx": "OSMagics",
        "system": "OSMagics",
        "tb": "ExecutionMagics",
        "time": "ExecutionMagics",
        "timeit": "ExecutionMagics",
        "unalias": "OSMagics",
        "unload_ext": "ExtensionMagics",
        "who": "NamespaceMagics",
        "who_ls": "NamespaceMagics",
        "whos": "NamespaceMagics",
        "xdel": "NamespaceMagics",
        "xmode": "BasicMagics"
       }
      },
      "text/plain": [
       "Available line magics:\n",
       "%alias  %alias_magic  %autocall  %automagic  %autosave  %bookmark  %cat  %cd  %clear  %colors  %config  %connect_info  %cp  %debug  %dhist  %dirs  %doctest_mode  %ed  %edit  %env  %gui  %hist  %history  %killbgscripts  %ldir  %less  %lf  %lk  %ll  %load  %load_ext  %loadpy  %logoff  %logon  %logstart  %logstate  %logstop  %ls  %lsmagic  %lx  %macro  %magic  %man  %matplotlib  %mkdir  %more  %mv  %notebook  %page  %pastebin  %pdb  %pdef  %pdoc  %pfile  %pinfo  %pinfo2  %popd  %pprint  %precision  %profile  %prun  %psearch  %psource  %pushd  %pwd  %pycat  %pylab  %qtconsole  %quickref  %recall  %rehashx  %reload_ext  %rep  %rerun  %reset  %reset_selective  %rm  %rmdir  %run  %save  %sc  %set_env  %store  %sx  %system  %tb  %time  %timeit  %unalias  %unload_ext  %who  %who_ls  %whos  %xdel  %xmode\n",
       "\n",
       "Available cell magics:\n",
       "%%!  %%HTML  %%SVG  %%bash  %%capture  %%debug  %%file  %%html  %%javascript  %%js  %%latex  %%perl  %%prun  %%pypy  %%python  %%python2  %%python3  %%ruby  %%script  %%sh  %%svg  %%sx  %%system  %%time  %%timeit  %%writefile\n",
       "\n",
       "Automagic is ON, % prefix IS NOT needed for line magics."
      ]
     },
     "execution_count": 12,
     "metadata": {},
     "output_type": "execute_result"
    }
   ],
   "source": [
    "%lsmagic"
   ]
  },
  {
   "cell_type": "code",
   "execution_count": 13,
   "metadata": {
    "collapsed": true
   },
   "outputs": [],
   "source": [
    "%magic"
   ]
  },
  {
   "cell_type": "markdown",
   "metadata": {},
   "source": [
    "You can capture the output of line magic (and shell) commands"
   ]
  },
  {
   "cell_type": "code",
   "execution_count": 14,
   "metadata": {},
   "outputs": [
    {
     "name": "stdout",
     "output_type": "stream",
     "text": [
      "README.md         \u001b[34mimg\u001b[m\u001b[m/              lesson_3.ipynb    slides.ipynb\r\n",
      "\u001b[34mdata\u001b[m\u001b[m/             lesson_1.ipynb    random_walk.py    solutions.ipynb\r\n",
      "debug_example.py  lesson_2.ipynb    requirements.txt\r\n"
     ]
    }
   ],
   "source": [
    "ls_out = %ls\n",
    "ls_out"
   ]
  },
  {
   "cell_type": "code",
   "execution_count": 6,
   "metadata": {
    "collapsed": true
   },
   "outputs": [],
   "source": [
    "%sx?"
   ]
  },
  {
   "cell_type": "code",
   "execution_count": 9,
   "metadata": {},
   "outputs": [
    {
     "data": {
      "text/plain": [
       "['README.md',\n",
       " 'Untitled.ipynb',\n",
       " 'Untitled1.ipynb',\n",
       " '_temp',\n",
       " '_temp.cpp',\n",
       " 'cpp_ext.py',\n",
       " 'cpp_ext.pyc',\n",
       " 'data',\n",
       " 'debug_example.py',\n",
       " 'foo.py',\n",
       " 'img',\n",
       " 'lesson_1.ipynb',\n",
       " 'lesson_2.ipynb',\n",
       " 'lesson_3.ipynb',\n",
       " 'octave-workspace',\n",
       " 'random_walk.py',\n",
       " 'requirements.txt',\n",
       " 'slides.ipynb',\n",
       " 'solutions.ipynb']"
      ]
     },
     "execution_count": 9,
     "metadata": {},
     "output_type": "execute_result"
    }
   ],
   "source": [
    "ls_out = %sx ls\n",
    "ls_out"
   ]
  },
  {
   "cell_type": "code",
   "execution_count": 8,
   "metadata": {},
   "outputs": [
    {
     "data": {
      "text/plain": [
       "['README.md',\n",
       " 'Untitled.ipynb',\n",
       " 'Untitled1.ipynb',\n",
       " '_temp',\n",
       " '_temp.cpp',\n",
       " 'cpp_ext.py',\n",
       " 'cpp_ext.pyc',\n",
       " 'data',\n",
       " 'debug_example.py',\n",
       " 'foo.py',\n",
       " 'img',\n",
       " 'lesson_1.ipynb',\n",
       " 'lesson_2.ipynb',\n",
       " 'lesson_3.ipynb',\n",
       " 'octave-workspace',\n",
       " 'random_walk.py',\n",
       " 'requirements.txt',\n",
       " 'slides.ipynb',\n",
       " 'solutions.ipynb']"
      ]
     },
     "execution_count": 8,
     "metadata": {},
     "output_type": "execute_result"
    }
   ],
   "source": [
    "ls_out = !ls\n",
    "ls_out"
   ]
  },
  {
   "cell_type": "markdown",
   "metadata": {},
   "source": [
    "### %timeit\n",
    "- timing execution\n",
    "- both Line and Cell level"
   ]
  },
  {
   "cell_type": "code",
   "execution_count": 18,
   "metadata": {},
   "outputs": [
    {
     "name": "stdout",
     "output_type": "stream",
     "text": [
      "1 loop, best of 3: 1 s per loop\n"
     ]
    }
   ],
   "source": [
    "%timeit import time ; time.sleep(1)"
   ]
  },
  {
   "cell_type": "code",
   "execution_count": 19,
   "metadata": {
    "collapsed": true
   },
   "outputs": [],
   "source": [
    "import numpy as np"
   ]
  },
  {
   "cell_type": "code",
   "execution_count": 20,
   "metadata": {},
   "outputs": [
    {
     "name": "stdout",
     "output_type": "stream",
     "text": [
      "The slowest run took 38.68 times longer than the fastest. This could mean that an intermediate result is being cached.\n",
      "100 loops, best of 3: 4.21 ms per loop\n"
     ]
    }
   ],
   "source": [
    "%%timeit \n",
    "a = np.random.rand(100, 100)\n",
    "np.linalg.eigvals(a)"
   ]
  },
  {
   "cell_type": "markdown",
   "metadata": {},
   "source": [
    "### %capture\n",
    "This magic captures the stdout/stderr of any code cell, either to discard it or to store it in a variable for later use"
   ]
  },
  {
   "cell_type": "code",
   "execution_count": 21,
   "metadata": {
    "collapsed": true
   },
   "outputs": [],
   "source": [
    "%%capture output\n",
    "%ls"
   ]
  },
  {
   "cell_type": "code",
   "execution_count": 22,
   "metadata": {},
   "outputs": [
    {
     "data": {
      "text/plain": [
       "(u'README.md         \\x1b[34mimg\\x1b[m\\x1b[m/              lesson_3.ipynb    slides.ipynb\\r\\n\\x1b[34mdata\\x1b[m\\x1b[m/             lesson_1.ipynb    random_walk.py    solutions.ipynb\\r\\ndebug_example.py  lesson_2.ipynb    requirements.txt\\r\\n',\n",
       " '')"
      ]
     },
     "execution_count": 22,
     "metadata": {},
     "output_type": "execute_result"
    }
   ],
   "source": [
    "output.stdout, output.stderr    "
   ]
  },
  {
   "cell_type": "markdown",
   "metadata": {},
   "source": [
    "### %%writefile\n",
    "Writes the cell contents as a named file"
   ]
  },
  {
   "cell_type": "code",
   "execution_count": 23,
   "metadata": {},
   "outputs": [
    {
     "name": "stdout",
     "output_type": "stream",
     "text": [
      "Writing foo.py\n"
     ]
    }
   ],
   "source": [
    "%%writefile foo.py\n",
    "print('Hello world')"
   ]
  },
  {
   "cell_type": "markdown",
   "metadata": {},
   "source": [
    "### %run \n",
    " - executes python code from .py files \n",
    " - can also execute other jupyter notebooks"
   ]
  },
  {
   "cell_type": "code",
   "execution_count": 24,
   "metadata": {},
   "outputs": [
    {
     "name": "stdout",
     "output_type": "stream",
     "text": [
      "Hello world\n"
     ]
    }
   ],
   "source": [
    "%run foo"
   ]
  },
  {
   "cell_type": "markdown",
   "metadata": {},
   "source": [
    "### %load\n",
    " - loads code directly into cell. File either from local disk or from the internet\n",
    " - after uncommenting the code below and executing, it will replace the content of cell with contents of file."
   ]
  },
  {
   "cell_type": "code",
   "execution_count": 25,
   "metadata": {
    "collapsed": true
   },
   "outputs": [],
   "source": [
    "# %load http://matplotlib.org/mpl_examples/pylab_examples/contour_demo.py"
   ]
  },
  {
   "cell_type": "markdown",
   "metadata": {},
   "source": [
    "### %pastebin\n",
    "Upload code to Github's Gist paste bin, returning the URL"
   ]
  },
  {
   "cell_type": "code",
   "execution_count": 26,
   "metadata": {},
   "outputs": [
    {
     "data": {
      "text/plain": [
       "u'https://gist.github.com/dc8dbf12f0ff7a434255d1916ae5346c'"
      ]
     },
     "execution_count": 26,
     "metadata": {},
     "output_type": "execute_result"
    }
   ],
   "source": [
    "%pastebin foo.py"
   ]
  },
  {
   "cell_type": "markdown",
   "metadata": {},
   "source": [
    "### %bookmark "
   ]
  },
  {
   "cell_type": "markdown",
   "metadata": {},
   "source": [
    "- Manage IPython's bookmark system.\n",
    "- Examples:\n",
    "    ```\n",
    "    %bookmark <name>       - set bookmark to current dir\n",
    "    %bookmark <name> <dir> - set bookmark to <dir>\n",
    "    %bookmark -l           - list all bookmarks\n",
    "    %bookmark -d <name>    - remove bookmark\n",
    "    %bookmark -r           - remove all bookmarks```\n",
    "- You can later on access a bookmarked folder with\n",
    "\n",
    "    ```\n",
    "    %cd -b <name>\n",
    "    ```"
   ]
  },
  {
   "cell_type": "markdown",
   "metadata": {
    "collapsed": true
   },
   "source": [
    "### %env\n",
    "Manage environment variables of your notebook without restarting the jupyter server process. Some libraries use environment variables to control behavior, and %env is the most convenient way."
   ]
  },
  {
   "cell_type": "code",
   "execution_count": 27,
   "metadata": {},
   "outputs": [
    {
     "name": "stdout",
     "output_type": "stream",
     "text": [
      "env: OMP_NUM_THREADS=4\n"
     ]
    }
   ],
   "source": [
    "%env OMP_NUM_THREADS=4"
   ]
  },
  {
   "cell_type": "markdown",
   "metadata": {},
   "source": [
    "### %store\n",
    "\n",
    "Pass variables between notebooks"
   ]
  },
  {
   "cell_type": "markdown",
   "metadata": {},
   "source": [
    "To access stored variable in new notebook:\n",
    "\n",
    "```\n",
    "%store -r data\n",
    "print data\n",
    "```"
   ]
  },
  {
   "cell_type": "code",
   "execution_count": 28,
   "metadata": {},
   "outputs": [
    {
     "name": "stdout",
     "output_type": "stream",
     "text": [
      "Stored 'data' (str)\n"
     ]
    }
   ],
   "source": [
    "data = 'string to pass to a different notebook'\n",
    "%store data\n",
    "del data # This has deleted the variable"
   ]
  },
  {
   "cell_type": "markdown",
   "metadata": {},
   "source": [
    "### %debug\n",
    "Activate interactive debugger"
   ]
  },
  {
   "cell_type": "code",
   "execution_count": 29,
   "metadata": {
    "collapsed": true
   },
   "outputs": [],
   "source": [
    "%debug?"
   ]
  },
  {
   "cell_type": "markdown",
   "metadata": {},
   "source": [
    "Go ahead, try the debug and figure out what to do below."
   ]
  },
  {
   "cell_type": "code",
   "execution_count": 30,
   "metadata": {
    "collapsed": true
   },
   "outputs": [],
   "source": [
    "# %load debug_example.py"
   ]
  },
  {
   "cell_type": "markdown",
   "metadata": {},
   "source": [
    "Don't forget to exit the debugger!\n",
    "\n",
    "If you don't, the background process will not be ready for your next command."
   ]
  },
  {
   "cell_type": "markdown",
   "metadata": {},
   "source": [
    "### %prun\n",
    " - Python code profiler\n",
    " - Cell and Line magic"
   ]
  },
  {
   "cell_type": "markdown",
   "metadata": {},
   "source": [
    "### <font color=\"red\"> *Exercise 1.3* </font>"
   ]
  },
  {
   "cell_type": "markdown",
   "metadata": {},
   "source": [
    "* load the file random_walk.py into a cell below using %load\n",
    "* add the prun *cell* magic\n",
    "* run the cell and view the output\n",
    "* `Extra`: can you make a simple adjustment to speed up the code?"
   ]
  },
  {
   "cell_type": "code",
   "execution_count": null,
   "metadata": {
    "collapsed": true
   },
   "outputs": [],
   "source": []
  },
  {
   "cell_type": "code",
   "execution_count": null,
   "metadata": {
    "collapsed": true
   },
   "outputs": [],
   "source": []
  },
  {
   "cell_type": "markdown",
   "metadata": {},
   "source": [
    "### <font color=\"green\"> *Solution* </font>"
   ]
  },
  {
   "cell_type": "markdown",
   "metadata": {
    "collapsed": true
   },
   "source": [
    "> The solution can be found in the solutions.ipynb notebook"
   ]
  },
  {
   "cell_type": "markdown",
   "metadata": {},
   "source": [
    "### Installing a new magic command"
   ]
  },
  {
   "cell_type": "markdown",
   "metadata": {},
   "source": [
    "Magics can be loaded like plugins and installed using `pip`.\n",
    "\n",
    "We will now install a line-profiler to get more detailed profile, and hopefully find insight to speed up the code."
   ]
  },
  {
   "cell_type": "code",
   "execution_count": 31,
   "metadata": {
    "collapsed": true
   },
   "outputs": [],
   "source": [
    "# %load random_walk.py"
   ]
  },
  {
   "cell_type": "code",
   "execution_count": 32,
   "metadata": {
    "collapsed": true
   },
   "outputs": [],
   "source": [
    "#!pip install line_profiler"
   ]
  },
  {
   "cell_type": "code",
   "execution_count": 33,
   "metadata": {
    "collapsed": true
   },
   "outputs": [],
   "source": [
    "#%load_ext line_profiler"
   ]
  },
  {
   "cell_type": "code",
   "execution_count": 34,
   "metadata": {
    "collapsed": true
   },
   "outputs": [],
   "source": [
    "#%lprun -f walk main()"
   ]
  },
  {
   "cell_type": "markdown",
   "metadata": {},
   "source": [
    "### Interactive plotting"
   ]
  },
  {
   "cell_type": "code",
   "execution_count": 35,
   "metadata": {
    "collapsed": true
   },
   "outputs": [],
   "source": [
    "%matplotlib?"
   ]
  },
  {
   "cell_type": "code",
   "execution_count": 36,
   "metadata": {},
   "outputs": [
    {
     "data": {
      "image/png": "[encoded data removed]",
      "text/plain": [
       "<matplotlib.figure.Figure at 0x113e33250>"
      ]
     },
     "metadata": {},
     "output_type": "display_data"
    }
   ],
   "source": [
    "%matplotlib inline\n",
    "import numpy as np\n",
    "import matplotlib.pyplot as plt\n",
    "x = np.linspace(0,2*np.pi,100)\n",
    "y = np.sin(x)\n",
    "plt.plot(x,y, 'r-')\n",
    "plt.show()"
   ]
  },
  {
   "cell_type": "markdown",
   "metadata": {},
   "source": [
    "### More interactivity using widgets"
   ]
  },
  {
   "cell_type": "code",
   "execution_count": 37,
   "metadata": {},
   "outputs": [
    {
     "data": {
      "image/png": "[encoded data removed]",
      "text/plain": [
       "<matplotlib.figure.Figure at 0x10abb3510>"
      ]
     },
     "metadata": {},
     "output_type": "display_data"
    }
   ],
   "source": [
    "from ipywidgets import interact # IPython.html.widgets before IPython 4.0\n",
    "\n",
    "@interact\n",
    "def plot(n=(1,6)):\n",
    "    x = np.linspace(0,2*np.pi,100)\n",
    "    y = np.sin(n*x)\n",
    "    plt.plot(x,y, 'r-')\n",
    "    plt.show()"
   ]
  },
  {
   "cell_type": "markdown",
   "metadata": {},
   "source": [
    "### <font color=\"red\"> *Exercise 1.4* </font>"
   ]
  },
  {
   "cell_type": "markdown",
   "metadata": {},
   "source": [
    "- Create a widget using `interact` that computes and prints the square of an integer between 0 and 10\n",
    "- The [documentation](http://ipywidgets.readthedocs.io/en/latest/examples/Using%20Interact.html)\n"
   ]
  },
  {
   "cell_type": "markdown",
   "metadata": {},
   "source": [
    "### <font color=\"green\"> *Solution* </font>"
   ]
  },
  {
   "cell_type": "markdown",
   "metadata": {
    "collapsed": true
   },
   "source": [
    "> The solution can be found in the solutions.ipynb notebook"
   ]
  },
  {
   "cell_type": "markdown",
   "metadata": {},
   "source": [
    "### Other types of media"
   ]
  },
  {
   "cell_type": "code",
   "execution_count": 10,
   "metadata": {
    "collapsed": true
   },
   "outputs": [
    {
     "data": {
      "image/jpeg": "[encoded data removed]",
      "text/html": [
       "\n",
       "        <iframe\n",
       "            width=\"400\"\n",
       "            height=\"300\"\n",
       "            src=\"https://www.youtube.com/embed/j9YpkSX7NNM\"\n",
       "            frameborder=\"0\"\n",
       "            allowfullscreen\n",
       "        ></iframe>\n",
       "        "
      ],
      "text/plain": [
       "<IPython.lib.display.YouTubeVideo at 0x101e25410>"
      ]
     },
     "execution_count": 10,
     "metadata": {},
     "output_type": "execute_result"
    }
   ],
   "source": [
    "from IPython.display import YouTubeVideo\n",
    "YouTubeVideo('j9YpkSX7NNM')"
   ]
  },
  {
   "cell_type": "code",
   "execution_count": 11,
   "metadata": {
    "collapsed": true
   },
   "outputs": [
    {
     "data": {
      "text/html": [
       "\n",
       "                <audio controls=\"controls\" >\n",
       "                    <source src=\"data:audio/x-wav;base64,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\" type=\"audio/x-wav\" />\n",
       "                    Your browser does not support the audio element.\n",
       "                </audio>\n",
       "              "
      ],
      "text/plain": [
       "<IPython.lib.display.Audio object>"
      ]
     },
     "execution_count": 11,
     "metadata": {},
     "output_type": "execute_result"
    }
   ],
   "source": [
    "from IPython.display import Audio\n",
    "Audio(\"data/GW150914_L1_whitenbp.wav\")"
   ]
  },
  {
   "cell_type": "code",
   "execution_count": 13,
   "metadata": {
    "collapsed": true
   },
   "outputs": [
    {
     "data": {
      "text/html": [
       "\n",
       "        <iframe\n",
       "            width=\"100%\"\n",
       "            height=\"350\"\n",
       "            src=\"http://jupyter.org\"\n",
       "            frameborder=\"0\"\n",
       "            allowfullscreen\n",
       "        ></iframe>\n",
       "        "
      ],
      "text/plain": [
       "<IPython.lib.display.IFrame at 0x1024dd2d0>"
      ]
     },
     "execution_count": 13,
     "metadata": {},
     "output_type": "execute_result"
    }
   ],
   "source": [
    "from IPython.display import IFrame\n",
    "IFrame(\"http://jupyter.org\",width='100%',height=350)"
   ]
  },
  {
   "cell_type": "markdown",
   "metadata": {},
   "source": [
    "### Version control, diffing and merging notebooks\n",
    "Jupyter Notebooks are stored in json format, which is easy to parse but basic diff and merge tools do not handle it well.  \n",
    "This reduces the power of version control systems like Git. Tools like [nbdime](http://nbdime.readthedocs.io/en/latest/) provide \"content-aware\" diffing and merging"
   ]
  },
  {
   "cell_type": "markdown",
   "metadata": {},
   "source": [
    "- nbdime can be installed with `pip install nbdime` \n",
    "- to diff two notebooks in terminal do `nbdiff notebook_1.ipynb notebook_2.ipynb`\n",
    "- or if you want a rich web-based rendering: `nbdiff-web notebook_1.ipynb notebook_2.ipynb`\n",
    "- to integrate nbdime with Git, type `nbdime config-git --enable --global`\n",
    " "
   ]
  },
  {
   "cell_type": "markdown",
   "metadata": {},
   "source": [
    "### <font color=\"red\"> *Exercise 1.5* </font>"
   ]
  },
  {
   "cell_type": "markdown",
   "metadata": {},
   "source": [
    "- Install nbdime on your own machine, and activate the Git integration\n",
    "- Do a `git diff` on this notebook, to show all your changes since you cloned the repo. Try to understand the output\n",
    "- Try disabling the Git integration, and see how the output of `git diff` changes"
   ]
  },
  {
   "cell_type": "markdown",
   "metadata": {},
   "source": [
    "### Further shell access with %%bash magic\n",
    " - Run cells with bash in a subprocess."
   ]
  },
  {
   "cell_type": "code",
   "execution_count": 2,
   "metadata": {},
   "outputs": [
    {
     "name": "stdout",
     "output_type": "stream",
     "text": [
      "/Users/ktw/coderefinery/workshops/tromso_june2017/jupyter/tmpdir\n",
      "test.file\n",
      "foo\n"
     ]
    }
   ],
   "source": [
    "%%bash\n",
    "mkdir tmpdir\n",
    "cd tmpdir\n",
    "pwd\n",
    "echo \"foo\" > test.file\n",
    "ls\n",
    "cat test.file\n",
    "cd ..\n",
    "rm -r tmpdir"
   ]
  },
  {
   "cell_type": "code",
   "execution_count": 40,
   "metadata": {},
   "outputs": [
    {
     "name": "stdout",
     "output_type": "stream",
     "text": [
      "hi, stdout\n"
     ]
    },
    {
     "name": "stderr",
     "output_type": "stream",
     "text": [
      "hello, stderr\n"
     ]
    }
   ],
   "source": [
    "%%bash\n",
    "echo \"hi, stdout\"\n",
    "echo \"hello, stderr\" >&2"
   ]
  },
  {
   "cell_type": "code",
   "execution_count": 41,
   "metadata": {
    "collapsed": true
   },
   "outputs": [],
   "source": [
    "%%bash --out output --err error\n",
    "echo \"hi, stdout\"\n",
    "echo \"hello, stderr\" >&2"
   ]
  },
  {
   "cell_type": "code",
   "execution_count": 42,
   "metadata": {},
   "outputs": [
    {
     "name": "stdout",
     "output_type": "stream",
     "text": [
      "hello, stderr\n",
      "\n",
      "hi, stdout\n",
      "\n"
     ]
    }
   ],
   "source": [
    "print(error)\n",
    "print(output)"
   ]
  },
  {
   "cell_type": "markdown",
   "metadata": {
    "collapsed": true
   },
   "source": [
    "### Mixing in other languages (assuming that they're installed)"
   ]
  },
  {
   "cell_type": "markdown",
   "metadata": {},
   "source": [
    "The `%%script` magic is like the #! (shebang) line of a Unix script,\n",
    "specifying a program (bash, perl, ruby, etc.) with which to run.  \n",
    "But one can also directly use these:\n",
    "- %%ruby\n",
    "- %%perl\n",
    "- %%bash\n",
    "- %%html\n",
    "- %%latex\n",
    "- %%R"
   ]
  },
  {
   "cell_type": "code",
   "execution_count": 43,
   "metadata": {},
   "outputs": [
    {
     "name": "stdout",
     "output_type": "stream",
     "text": [
      "Hi, this is ruby.\n"
     ]
    }
   ],
   "source": [
    "%%ruby\n",
    "puts 'Hi, this is ruby.'"
   ]
  },
  {
   "cell_type": "code",
   "execution_count": 44,
   "metadata": {},
   "outputs": [
    {
     "name": "stdout",
     "output_type": "stream",
     "text": [
      "Hi, this is also ruby.\n"
     ]
    }
   ],
   "source": [
    "%%script ruby\n",
    "puts 'Hi, this is also ruby.'"
   ]
  },
  {
   "cell_type": "code",
   "execution_count": 45,
   "metadata": {},
   "outputs": [
    {
     "name": "stdout",
     "output_type": "stream",
     "text": [
      "Hello, this is perl\n"
     ]
    }
   ],
   "source": [
    "%%perl\n",
    "print \"Hello, this is perl\\n\";"
   ]
  },
  {
   "cell_type": "code",
   "execution_count": 46,
   "metadata": {},
   "outputs": [
    {
     "name": "stdout",
     "output_type": "stream",
     "text": [
      "Hullo, I'm bash\n"
     ]
    }
   ],
   "source": [
    "%%bash\n",
    "echo \"Hullo, I'm bash\""
   ]
  },
  {
   "cell_type": "code",
   "execution_count": 47,
   "metadata": {},
   "outputs": [
    {
     "data": {
      "text/html": [
       "<table>\n",
       "<tr>\n",
       "<th>Header 1</th>\n",
       "<th>Header 2</th>\n",
       "</tr>\n",
       "<tr>\n",
       "<td>row 1, cell 1</td>\n",
       "<td>row 1, cell 2</td>\n",
       "</tr>\n",
       "<tr>\n",
       "<td>row 2, cell 1</td>\n",
       "<td>row 2, cell 2</td>\n",
       "</tr>\n",
       "</table>"
      ],
      "text/plain": [
       "<IPython.core.display.HTML object>"
      ]
     },
     "metadata": {},
     "output_type": "display_data"
    }
   ],
   "source": [
    "%%html\n",
    "<table>\n",
    "<tr>\n",
    "<th>Header 1</th>\n",
    "<th>Header 2</th>\n",
    "</tr>\n",
    "<tr>\n",
    "<td>row 1, cell 1</td>\n",
    "<td>row 1, cell 2</td>\n",
    "</tr>\n",
    "<tr>\n",
    "<td>row 2, cell 1</td>\n",
    "<td>row 2, cell 2</td>\n",
    "</tr>\n",
    "</table>"
   ]
  },
  {
   "cell_type": "code",
   "execution_count": 48,
   "metadata": {},
   "outputs": [
    {
     "data": {
      "text/latex": [
       "\\begin{align}\n",
       "\\nabla \\times \\vec{\\mathbf{B}} -\\, \\frac1c\\, \\frac{\\partial\\vec{\\mathbf{E}}}{\\partial t} & = \\frac{4\\pi}{c}\\vec{\\mathbf{j}} \\\\\n",
       "\\nabla \\cdot \\vec{\\mathbf{E}} & = 4 \\pi \\rho \\\\\n",
       "\\nabla \\times \\vec{\\mathbf{E}}\\, +\\, \\frac1c\\, \\frac{\\partial\\vec{\\mathbf{B}}}{\\partial t} & = \\vec{\\mathbf{0}} \\\\\n",
       "\\nabla \\cdot \\vec{\\mathbf{B}} & = 0\n",
       "\\end{align}"
      ],
      "text/plain": [
       "<IPython.core.display.Latex object>"
      ]
     },
     "metadata": {},
     "output_type": "display_data"
    }
   ],
   "source": [
    "%%latex\n",
    "\\begin{align}\n",
    "\\nabla \\times \\vec{\\mathbf{B}} -\\, \\frac1c\\, \\frac{\\partial\\vec{\\mathbf{E}}}{\\partial t} & = \\frac{4\\pi}{c}\\vec{\\mathbf{j}} \\\\\n",
    "\\nabla \\cdot \\vec{\\mathbf{E}} & = 4 \\pi \\rho \\\\\n",
    "\\nabla \\times \\vec{\\mathbf{E}}\\, +\\, \\frac1c\\, \\frac{\\partial\\vec{\\mathbf{B}}}{\\partial t} & = \\vec{\\mathbf{0}} \\\\\n",
    "\\nabla \\cdot \\vec{\\mathbf{B}} & = 0\n",
    "\\end{align}"
   ]
  },
  {
   "cell_type": "markdown",
   "metadata": {},
   "source": [
    "### R"
   ]
  },
  {
   "cell_type": "markdown",
   "metadata": {},
   "source": [
    "The R world already has a powerful IDE, RStudio, where one can annotate code using Markdown and export to HTML.  \n",
    "A key difference between RStudio and Jupyter is that in Jupyter one can modify and rerun individual cells, without having to rerun everything."
   ]
  },
  {
   "cell_type": "code",
   "execution_count": 49,
   "metadata": {
    "collapsed": true
   },
   "outputs": [],
   "source": [
    "# first we need to install the necessary packages\n",
    "#!conda install -c r r-essentials \n",
    "#!conda install -y rpy2"
   ]
  },
  {
   "cell_type": "markdown",
   "metadata": {},
   "source": [
    "To run R from the Python kernel we need to load the rpy2 IPython extension"
   ]
  },
  {
   "cell_type": "code",
   "execution_count": 50,
   "metadata": {
    "collapsed": true
   },
   "outputs": [],
   "source": [
    "%load_ext rpy2.ipython"
   ]
  },
  {
   "cell_type": "code",
   "execution_count": 51,
   "metadata": {},
   "outputs": [
    {
     "data": {
      "text/plain": [
       "[1] \"Hello, this is R\"\n"
      ]
     },
     "metadata": {},
     "output_type": "display_data"
    }
   ],
   "source": [
    "%%R\n",
    "myString <- \"Hello, this is R\"\n",
    "print ( myString)"
   ]
  },
  {
   "cell_type": "markdown",
   "metadata": {},
   "source": [
    "Inline plotting in R is straightforward "
   ]
  },
  {
   "cell_type": "code",
   "execution_count": 52,
   "metadata": {},
   "outputs": [
    {
     "data": {
      "image/png": "[encoded data removed]"
     },
     "metadata": {},
     "output_type": "display_data"
    }
   ],
   "source": [
    "%%R \n",
    "# Define the cars vector with 5 values\n",
    "cars <- c(1, 3, 6, 4, 9)\n",
    "\n",
    "# Graph cars using blue points overlayed by a line \n",
    "plot(cars, type=\"o\", col=\"blue\")\n",
    "\n",
    "# Create a title with a red, bold/italic font\n",
    "title(main=\"Autos\", col.main=\"red\", font.main=4)"
   ]
  },
  {
   "cell_type": "markdown",
   "metadata": {},
   "source": [
    "Data in R cells is of course persistent"
   ]
  },
  {
   "cell_type": "code",
   "execution_count": 53,
   "metadata": {},
   "outputs": [
    {
     "data": {
      "image/png": "[encoded data removed]"
     },
     "metadata": {},
     "output_type": "display_data"
    }
   ],
   "source": [
    "%%R \n",
    "barplot(cars)"
   ]
  },
  {
   "cell_type": "markdown",
   "metadata": {},
   "source": [
    "We can plot a Python pandas dataframe with R code"
   ]
  },
  {
   "cell_type": "code",
   "execution_count": 54,
   "metadata": {
    "collapsed": true
   },
   "outputs": [],
   "source": [
    "import pandas as pd\n",
    "df = pd.DataFrame({\n",
    "    'cups_of_coffee': [0, 1, 2, 3, 4, 5, 6, 7, 8, 9],\n",
    "    'productivity': [2, 5, 6, 8, 9, 8, 0, 1, 0, -1]\n",
    "})"
   ]
  },
  {
   "cell_type": "code",
   "execution_count": 55,
   "metadata": {},
   "outputs": [
    {
     "data": {
      "image/png": "[encoded data removed]"
     },
     "metadata": {},
     "output_type": "display_data"
    }
   ],
   "source": [
    "%%R -i df -w 6 -h 4 --units cm -r 200\n",
    "# the first line says 'import df and make default figure size 5 by 5 inches \n",
    "# with resolution 200. You can change the units to px, cm, etc. as you wish.\n",
    "library(ggplot2)\n",
    "ggplot(df, aes(x=cups_of_coffee, y=productivity)) + geom_line()"
   ]
  },
  {
   "cell_type": "markdown",
   "metadata": {
    "collapsed": true
   },
   "source": [
    "### Extra: Octave/Matlab"
   ]
  },
  {
   "cell_type": "markdown",
   "metadata": {},
   "source": [
    "If we have Octave installed we could switch to an Octave kernel. This comes with a new set of magics"
   ]
  },
  {
   "cell_type": "code",
   "execution_count": 56,
   "metadata": {},
   "outputs": [
    {
     "data": {
      "application/json": {
       "cell": {
        "!": "OSMagics",
        "HTML": "Other",
        "R": "RMagics",
        "SVG": "Other",
        "bash": "Other",
        "capture": "ExecutionMagics",
        "debug": "ExecutionMagics",
        "file": "Other",
        "html": "DisplayMagics",
        "javascript": "DisplayMagics",
        "js": "DisplayMagics",
        "latex": "DisplayMagics",
        "perl": "Other",
        "prun": "ExecutionMagics",
        "pypy": "Other",
        "python": "Other",
        "python2": "Other",
        "python3": "Other",
        "ruby": "Other",
        "script": "ScriptMagics",
        "sh": "Other",
        "svg": "DisplayMagics",
        "sx": "OSMagics",
        "system": "OSMagics",
        "time": "ExecutionMagics",
        "timeit": "ExecutionMagics",
        "writefile": "OSMagics"
       },
       "line": {
        "R": "RMagics",
        "Rdevice": "RMagics",
        "Rget": "RMagics",
        "Rpull": "RMagics",
        "Rpush": "RMagics",
        "alias": "OSMagics",
        "alias_magic": "BasicMagics",
        "autocall": "AutoMagics",
        "automagic": "AutoMagics",
        "autosave": "KernelMagics",
        "bookmark": "OSMagics",
        "cat": "Other",
        "cd": "OSMagics",
        "clear": "KernelMagics",
        "colors": "BasicMagics",
        "config": "ConfigMagics",
        "connect_info": "KernelMagics",
        "cp": "Other",
        "debug": "ExecutionMagics",
        "dhist": "OSMagics",
        "dirs": "OSMagics",
        "doctest_mode": "BasicMagics",
        "ed": "Other",
        "edit": "KernelMagics",
        "env": "OSMagics",
        "gui": "BasicMagics",
        "hist": "Other",
        "history": "HistoryMagics",
        "killbgscripts": "ScriptMagics",
        "ldir": "Other",
        "less": "KernelMagics",
        "lf": "Other",
        "lk": "Other",
        "ll": "Other",
        "load": "CodeMagics",
        "load_ext": "ExtensionMagics",
        "loadpy": "CodeMagics",
        "logoff": "LoggingMagics",
        "logon": "LoggingMagics",
        "logstart": "LoggingMagics",
        "logstate": "LoggingMagics",
        "logstop": "LoggingMagics",
        "ls": "Other",
        "lsmagic": "BasicMagics",
        "lx": "Other",
        "macro": "ExecutionMagics",
        "magic": "BasicMagics",
        "man": "KernelMagics",
        "matplotlib": "PylabMagics",
        "mkdir": "Other",
        "more": "KernelMagics",
        "mv": "Other",
        "notebook": "BasicMagics",
        "page": "BasicMagics",
        "pastebin": "CodeMagics",
        "pdb": "ExecutionMagics",
        "pdef": "NamespaceMagics",
        "pdoc": "NamespaceMagics",
        "pfile": "NamespaceMagics",
        "pinfo": "NamespaceMagics",
        "pinfo2": "NamespaceMagics",
        "popd": "OSMagics",
        "pprint": "BasicMagics",
        "precision": "BasicMagics",
        "profile": "BasicMagics",
        "prun": "ExecutionMagics",
        "psearch": "NamespaceMagics",
        "psource": "NamespaceMagics",
        "pushd": "OSMagics",
        "pwd": "OSMagics",
        "pycat": "OSMagics",
        "pylab": "PylabMagics",
        "qtconsole": "KernelMagics",
        "quickref": "BasicMagics",
        "recall": "HistoryMagics",
        "rehashx": "OSMagics",
        "reload_ext": "ExtensionMagics",
        "rep": "Other",
        "rerun": "HistoryMagics",
        "reset": "NamespaceMagics",
        "reset_selective": "NamespaceMagics",
        "rm": "Other",
        "rmdir": "Other",
        "run": "ExecutionMagics",
        "save": "CodeMagics",
        "sc": "OSMagics",
        "set_env": "OSMagics",
        "store": "StoreMagics",
        "sx": "OSMagics",
        "system": "OSMagics",
        "tb": "ExecutionMagics",
        "time": "ExecutionMagics",
        "timeit": "ExecutionMagics",
        "unalias": "OSMagics",
        "unload_ext": "ExtensionMagics",
        "who": "NamespaceMagics",
        "who_ls": "NamespaceMagics",
        "whos": "NamespaceMagics",
        "xdel": "NamespaceMagics",
        "xmode": "BasicMagics"
       }
      },
      "text/plain": [
       "Available line magics:\n",
       "%R  %Rdevice  %Rget  %Rpull  %Rpush  %alias  %alias_magic  %autocall  %automagic  %autosave  %bookmark  %cat  %cd  %clear  %colors  %config  %connect_info  %cp  %debug  %dhist  %dirs  %doctest_mode  %ed  %edit  %env  %gui  %hist  %history  %killbgscripts  %ldir  %less  %lf  %lk  %ll  %load  %load_ext  %loadpy  %logoff  %logon  %logstart  %logstate  %logstop  %ls  %lsmagic  %lx  %macro  %magic  %man  %matplotlib  %mkdir  %more  %mv  %notebook  %page  %pastebin  %pdb  %pdef  %pdoc  %pfile  %pinfo  %pinfo2  %popd  %pprint  %precision  %profile  %prun  %psearch  %psource  %pushd  %pwd  %pycat  %pylab  %qtconsole  %quickref  %recall  %rehashx  %reload_ext  %rep  %rerun  %reset  %reset_selective  %rm  %rmdir  %run  %save  %sc  %set_env  %store  %sx  %system  %tb  %time  %timeit  %unalias  %unload_ext  %who  %who_ls  %whos  %xdel  %xmode\n",
       "\n",
       "Available cell magics:\n",
       "%%!  %%HTML  %%R  %%SVG  %%bash  %%capture  %%debug  %%file  %%html  %%javascript  %%js  %%latex  %%perl  %%prun  %%pypy  %%python  %%python2  %%python3  %%ruby  %%script  %%sh  %%svg  %%sx  %%system  %%time  %%timeit  %%writefile\n",
       "\n",
       "Automagic is ON, % prefix IS NOT needed for line magics."
      ]
     },
     "execution_count": 56,
     "metadata": {},
     "output_type": "execute_result"
    }
   ],
   "source": [
    "%lsmagic"
   ]
  },
  {
   "cell_type": "code",
   "execution_count": 57,
   "metadata": {},
   "outputs": [
    {
     "ename": "SyntaxError",
     "evalue": "invalid syntax (<ipython-input-57-1325ec8792e3>, line 3)",
     "output_type": "error",
     "traceback": [
      "\u001b[0;36m  File \u001b[0;32m\"<ipython-input-57-1325ec8792e3>\"\u001b[0;36m, line \u001b[0;32m3\u001b[0m\n\u001b[0;31m    grid on\u001b[0m\n\u001b[0m          ^\u001b[0m\n\u001b[0;31mSyntaxError\u001b[0m\u001b[0;31m:\u001b[0m invalid syntax\n"
     ]
    }
   ],
   "source": [
    "t = linspace(0,6*pi,100);\n",
    "plot(t,sin(t))\n",
    "grid on\n",
    "hold on\n",
    "plot(t,cos(t), 'r')"
   ]
  },
  {
   "cell_type": "code",
   "execution_count": null,
   "metadata": {
    "collapsed": true
   },
   "outputs": [],
   "source": [
    "tx = ty = linspace (-8, 8, 41)';\n",
    "[xx, yy] = meshgrid (tx, ty);\n",
    "r = sqrt (xx .^ 2 + yy .^ 2) + eps;\n",
    "tz = sin (r) ./ r;\n",
    "mesh (tx, ty, tz);"
   ]
  },
  {
   "cell_type": "markdown",
   "metadata": {
    "collapsed": true
   },
   "source": [
    "### Extra: Julia"
   ]
  },
  {
   "cell_type": "markdown",
   "metadata": {},
   "source": [
    "> This example has been adapted from the [IPython Cookbook](http://ipython-books.github.io/), by Cyrille Rossant, Packt Publishing, 2014.\n"
   ]
  },
  {
   "cell_type": "markdown",
   "metadata": {},
   "source": [
    "[Julia](https://en.wikipedia.org/wiki/Julia_(programming_language) is a high-level dynamic language designed for high-performance numerical analysis and computional science."
   ]
  },
  {
   "cell_type": "markdown",
   "metadata": {},
   "source": [
    "We switch to the Julia kernel."
   ]
  },
  {
   "cell_type": "code",
   "execution_count": null,
   "metadata": {
    "collapsed": true
   },
   "outputs": [],
   "source": [
    "println(\"Hello world!\")"
   ]
  },
  {
   "cell_type": "markdown",
   "metadata": {},
   "source": [
    "We create a polymorphic function `f`. It will be evaluated on arrays, so we use elementwise operators with a dot (.) prefix"
   ]
  },
  {
   "cell_type": "code",
   "execution_count": null,
   "metadata": {
    "collapsed": true
   },
   "outputs": [],
   "source": [
    "f(z, c) = z.*z .+ c"
   ]
  },
  {
   "cell_type": "markdown",
   "metadata": {},
   "source": [
    "Create a function julia that computes a Julia set. Optional named arguments are separated from positional arguments by a semicolon (;). Julia's syntax for flow control is close to Python's, except that colons are dropped, indentation doesn't count, and block end keywords are mandatory"
   ]
  },
  {
   "cell_type": "code",
   "execution_count": null,
   "metadata": {
    "collapsed": true
   },
   "outputs": [],
   "source": [
    "function julia(z, c; maxiter=200)\n",
    "    for n = 1:maxiter\n",
    "        if abs2(z) > 4.0\n",
    "            return n-1\n",
    "        end\n",
    "        z = f(z, c)\n",
    "    end\n",
    "    return maxiter\n",
    "end"
   ]
  },
  {
   "cell_type": "markdown",
   "metadata": {},
   "source": [
    "We can use Python packages from Julia. PyCall is first installed by Julia's built-in package manager (Pkg)"
   ]
  },
  {
   "cell_type": "code",
   "execution_count": null,
   "metadata": {
    "collapsed": true
   },
   "outputs": [],
   "source": [
    "#Pkg.add(\"PyCall\")\n",
    "using PyCall"
   ]
  },
  {
   "cell_type": "markdown",
   "metadata": {},
   "source": [
    "Python packages can be imported with the `@pyimport` **macro** (a metaprogramming feature in Julia). This macro is the equivalent of Python's `import` command."
   ]
  },
  {
   "cell_type": "code",
   "execution_count": null,
   "metadata": {
    "collapsed": true
   },
   "outputs": [],
   "source": [
    "@pyimport numpy as np"
   ]
  },
  {
   "cell_type": "markdown",
   "metadata": {},
   "source": [
    "The Gadfly plotting library offers a high-level plotting interface"
   ]
  },
  {
   "cell_type": "code",
   "execution_count": null,
   "metadata": {
    "collapsed": true
   },
   "outputs": [],
   "source": [
    "#Pkg.add(\"Gadfly\")\n",
    "using Gadfly"
   ]
  },
  {
   "cell_type": "markdown",
   "metadata": {},
   "source": [
    "We compute a Julia set by using two nested loops. Unlike Python, there is no significant performance penalty using for loops instead of vectorized operations in Julia. High-performance code can be written either with vectorized operations or for loops."
   ]
  },
  {
   "cell_type": "code",
   "execution_count": null,
   "metadata": {
    "collapsed": true
   },
   "outputs": [],
   "source": [
    "@time m = [julia(complex(r, i), complex(-0.06, 0.67)) \n",
    "#@time m = [julia(complex(r, i), complex(-0.8, 0.156)) \n",
    "           for i = 1:-.001:-1,\n",
    "               r = -1.5:.001:1.5];"
   ]
  },
  {
   "cell_type": "markdown",
   "metadata": {},
   "source": [
    "Use the `PyPlot` package to draw matplotlib figures in Julia."
   ]
  },
  {
   "cell_type": "code",
   "execution_count": null,
   "metadata": {
    "collapsed": true
   },
   "outputs": [],
   "source": [
    "#Pkg.add(\"PyPlot\")\n",
    "using PyPlot"
   ]
  },
  {
   "cell_type": "code",
   "execution_count": null,
   "metadata": {
    "collapsed": true
   },
   "outputs": [],
   "source": [
    "imshow(m, cmap=\"RdGy\", \n",
    "       extent=[-1.5, 1.5, -1, 1]);"
   ]
  },
  {
   "cell_type": "code",
   "execution_count": null,
   "metadata": {
    "collapsed": true
   },
   "outputs": [],
   "source": []
  },
  {
   "cell_type": "markdown",
   "metadata": {},
   "source": [
    "### Extra: Creating your own custom magic"
   ]
  },
  {
   "cell_type": "markdown",
   "metadata": {},
   "source": [
    "Using the `@register_cell_magic` decorator, we will create a cell magic command that compiles C++ code and executes it\n"
   ]
  },
  {
   "cell_type": "markdown",
   "metadata": {},
   "source": [
    "> This example has been borrowed from the [IPython Minibook](http://ipython-books.github.io/), by Cyrille Rossant, Packt Publishing, 2015.\n"
   ]
  },
  {
   "cell_type": "code",
   "execution_count": 58,
   "metadata": {
    "collapsed": true
   },
   "outputs": [],
   "source": [
    "from IPython.core.magic import register_cell_magic"
   ]
  },
  {
   "cell_type": "code",
   "execution_count": 59,
   "metadata": {
    "collapsed": true
   },
   "outputs": [],
   "source": [
    "@register_cell_magic\n",
    "def cpp(line, cell):\n",
    "    \"\"\"Compile, execute C++ code, and return the standard output.\"\"\"\n",
    "\n",
    "    # We first retrieve the current IPython interpreter instance.\n",
    "    ip = get_ipython()\n",
    "\n",
    "    # We define the source and executable filenames.\n",
    "    source_filename = '_temp.cpp'\n",
    "    program_filename = '_temp'\n",
    "\n",
    "    # We write the code to the C++ file.\n",
    "    with open(source_filename, 'w') as f:\n",
    "        f.write(cell)\n",
    "\n",
    "    # We compile the C++ code into an executable.\n",
    "    compile = ip.getoutput(\"g++ {0:s} -o {1:s}\".format(\n",
    "        source_filename, program_filename))\n",
    "\n",
    "    # We execute the executable and return the output.\n",
    "    output = ip.getoutput('./{0:s}'.format(program_filename))\n",
    "\n",
    "    print('\\n'.join(output))"
   ]
  },
  {
   "cell_type": "code",
   "execution_count": 60,
   "metadata": {},
   "outputs": [
    {
     "name": "stdout",
     "output_type": "stream",
     "text": [
      "Hello World\n"
     ]
    }
   ],
   "source": [
    "%%cpp \n",
    "#include<iostream>\n",
    "int main(){\n",
    "    std::cout << \"Hello World\";\n",
    "}"
   ]
  },
  {
   "cell_type": "markdown",
   "metadata": {},
   "source": [
    "This cell magic is now only available in the current notebook. To make it permanent we need to make an IPython extension. This we do by writing the definition of the function `cpp()` into a file on `PYTHONPATH` (for example current directory), and add a small function at the end"
   ]
  },
  {
   "cell_type": "code",
   "execution_count": 61,
   "metadata": {},
   "outputs": [
    {
     "name": "stdout",
     "output_type": "stream",
     "text": [
      "Writing cpp_ext.py\n"
     ]
    }
   ],
   "source": [
    "%%writefile cpp_ext.py\n",
    "def cpp(line, cell):\n",
    "    \"\"\"Compile, execute C++ code, and return the standard output.\"\"\"\n",
    "\n",
    "    # We first retrieve the current IPython interpreter instance.\n",
    "    ip = get_ipython()\n",
    "\n",
    "    # We define the source and executable filenames.\n",
    "    source_filename = '_temp.cpp'\n",
    "    program_filename = '_temp'\n",
    "\n",
    "    # We write the code to the C++ file.\n",
    "    with open(source_filename, 'w') as f:\n",
    "        f.write(cell)\n",
    "\n",
    "    # We compile the C++ code into an executable.\n",
    "    compile = ip.getoutput(\"g++ {0:s} -o {1:s}\".format(\n",
    "        source_filename, program_filename))\n",
    "\n",
    "    # We execute the executable and return the output.\n",
    "    output = ip.getoutput('./{0:s}'.format(program_filename))\n",
    "\n",
    "    print('\\n'.join(output))\n",
    "\n",
    "def load_ipython_extension(ipython):\n",
    "    ipython.register_magic_function(cpp,'cell')"
   ]
  },
  {
   "cell_type": "code",
   "execution_count": 62,
   "metadata": {
    "collapsed": true
   },
   "outputs": [],
   "source": [
    "%load_ext cpp_ext"
   ]
  },
  {
   "cell_type": "code",
   "execution_count": 63,
   "metadata": {
    "collapsed": true
   },
   "outputs": [],
   "source": [
    "%%cpp?"
   ]
  },
  {
   "cell_type": "markdown",
   "metadata": {
    "collapsed": true
   },
   "source": [
    "## Lesson key points\n",
    "\n",
    "- keyboard shortcuts simplify using Jupyter\n",
    "- magics allow you to\n",
    " - access the filesystem\n",
    " - time, debug and profile your code\n",
    " - run shell commands in underlying system\n",
    "- you can also create your own magics\n",
    "- you can add inline plots, and widgets provide more interactivity\n",
    "- the json format of Jupyter Notebooks is not optimal for version control with Git, but the nbdime tool helps\n",
    "- Jupyter can run many kernels, among them Python, Octave, Julia and R (assuming they are installed on the host running Jupyter)"
   ]
  },
  {
   "cell_type": "markdown",
   "metadata": {
    "collapsed": true
   },
   "source": []
  },
  {
   "cell_type": "markdown",
   "metadata": {},
   "source": [
    "# Use cases"
   ]
  },
  {
   "cell_type": "markdown",
   "metadata": {},
   "source": [
    "In this second part, we will split up and work in groups (or individually). Choose one theme from the following list:\n",
    "1. Data analysis. Study the [data_analysis.ipynb](https://github.com/coderefinery/jupyter/blob/master/data_analysis.ipynb) notebook, try to solve the exercises and discuss with other learners and instructors.\n",
    "2. Accelerating Python code. Study the [accelerating_python.ipynb](https://github.com/coderefinery/jupyter/blob/master/accelerating_python.ipynb) notebook, try to solve the exercises and discuss with other learners and instructors.\n",
    "3. Discussion group on possible use cases of Jupyter Notebooks\n",
    "    - Do you see possible use cases in your research, or does it not suit your needs? \n",
    "    - Would you consider publishing a Jupyter Notebook as supplementary material with your articles? \n",
    "    - What do you find to be particularly interesting/powerful about Jupyter, and what are the potential drawbacks and limitations? \n",
    "4. Do you want to research some other aspects of Jupyter Notebooks? Go ahead and feel free to discuss with other learners and instructors."
   ]
  },
  {
   "cell_type": "code",
   "execution_count": null,
   "metadata": {
    "collapsed": true
   },
   "outputs": [],
   "source": []
  }
 ],
 "metadata": {
  "anaconda-cloud": {},
  "kernelspec": {
   "display_name": "Python 2",
   "language": "python",
   "name": "python2"
  },
  "language_info": {
   "codemirror_mode": {
    "name": "ipython",
    "version": 2
   },
   "file_extension": ".py",
   "mimetype": "text/x-python",
   "name": "python",
   "nbconvert_exporter": "python",
   "pygments_lexer": "ipython2",
   "version": "2.7.13"
  },
  "widgets": {
   "state": {
    "befe852536ce4915b8fec02280018dd9": {
     "views": [
      {
       "cell_index": 68
      }
     ]
    }
   },
   "version": "1.2.0"
  }
 },
 "nbformat": 4,
 "nbformat_minor": 1
}
