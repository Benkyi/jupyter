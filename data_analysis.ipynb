{
 "cells": [
  {
   "cell_type": "markdown",
   "metadata": {},
   "source": [
    "# Jupyter Notebooks - part 2\n",
    "* ### Data analysis and visualization"
   ]
  },
  {
   "cell_type": "markdown",
   "metadata": {},
   "source": [
    "In this lesson you will learn \n",
    "- to do some data analysis using pandas\n",
    " - The important concept of *tidy* data\n",
    "- to produce nice plots with seaborn\n",
    "- how other types of media can be embedded in a notebook"
   ]
  },
  {
   "cell_type": "markdown",
   "metadata": {},
   "source": [
    "## Exploratory data analysis in Jupyter"
   ]
  },
  {
   "cell_type": "markdown",
   "metadata": {},
   "source": [
    "We will use four important Python packages\n",
    "1. `numpy` is the fundamental package for scientific computing with Python\n",
    " - for the purposes of this notebook `numpy` is like the engine of a car, it's under the hood running the show\n",
    "2. `pandas` is a more recently developed package for data manipulation and analysis \n",
    " - powerful high-level tool for data exploration\n",
    " - two fundamental data structures which can be applied to many types of data: `Series` and `DataFrames`  \n",
    "\n",
    "3. `matplotlib` is the standard Python package for plotting, \"grandfather of all Python visualization packages\"\n",
    "4. `seaborn` is a higher-level visualization package based on `matplotlib`\n",
    " - while `matplotlib` is extremely powerful, it can also be complex. \n",
    " - sometimes much effort needed to get good-looking graphs\n",
    " - default visualization much more appealing compared to `matplotlib`"
   ]
  },
  {
   "cell_type": "markdown",
   "metadata": {},
   "source": [
    "We will download and process a dataset on Nobel prizes. "
   ]
  },
  {
   "cell_type": "code",
   "execution_count": 3,
   "metadata": {
    "collapsed": true
   },
   "outputs": [],
   "source": [
    "import numpy as np\n",
    "import pandas as pd\n",
    "import matplotlib.pyplot as plt\n",
    "%matplotlib inline\n",
    "import seaborn as sns"
   ]
  },
  {
   "cell_type": "markdown",
   "metadata": {},
   "source": [
    "pandas defines a `read_csv` function that can read any CSV file. By giving the URL to the file, pandas will automatically download and parse the file, and return a `DataFrame` object. We need to specify a few options to make sure the dates are parsed correctly."
   ]
  },
  {
   "cell_type": "code",
   "execution_count": 4,
   "metadata": {
    "collapsed": true
   },
   "outputs": [],
   "source": [
    "# dataset from http://oppnadata.se/en/dataset/nobel-prizes/resource/f3da8ba9-a17f-4911-9003-4bcef93619cc\n",
    "nobel = pd.read_csv(\"data/nobels.csv\")"
   ]
  },
  {
   "cell_type": "markdown",
   "metadata": {},
   "source": [
    "The `nobel` variable now contains a `DataFrame` object, a Pandas data structure that contains 2D tabular data. The `head(n)` method displays the first `n` rows of this table."
   ]
  },
  {
   "cell_type": "code",
   "execution_count": 5,
   "metadata": {},
   "outputs": [
    {
     "data": {
      "text/html": [
       "<div>\n",
       "<style>\n",
       "    .dataframe thead tr:only-child th {\n",
       "        text-align: right;\n",
       "    }\n",
       "\n",
       "    .dataframe thead th {\n",
       "        text-align: left;\n",
       "    }\n",
       "\n",
       "    .dataframe tbody tr th {\n",
       "        vertical-align: top;\n",
       "    }\n",
       "</style>\n",
       "<table border=\"1\" class=\"dataframe\">\n",
       "  <thead>\n",
       "    <tr style=\"text-align: right;\">\n",
       "      <th></th>\n",
       "      <th>id</th>\n",
       "      <th>firstname</th>\n",
       "      <th>surname</th>\n",
       "      <th>born</th>\n",
       "      <th>died</th>\n",
       "      <th>bornCountry</th>\n",
       "      <th>bornCountryCode</th>\n",
       "      <th>bornCity</th>\n",
       "      <th>diedCountry</th>\n",
       "      <th>diedCountryCode</th>\n",
       "      <th>diedCity</th>\n",
       "      <th>gender</th>\n",
       "      <th>year</th>\n",
       "      <th>category</th>\n",
       "      <th>overallMotivation</th>\n",
       "      <th>share</th>\n",
       "      <th>motivation</th>\n",
       "      <th>name</th>\n",
       "      <th>city</th>\n",
       "      <th>country</th>\n",
       "    </tr>\n",
       "  </thead>\n",
       "  <tbody>\n",
       "    <tr>\n",
       "      <th>0</th>\n",
       "      <td>1</td>\n",
       "      <td>Wilhelm Conrad</td>\n",
       "      <td>Röntgen</td>\n",
       "      <td>1845-03-27</td>\n",
       "      <td>1923-02-10</td>\n",
       "      <td>Prussia (now Germany)</td>\n",
       "      <td>DE</td>\n",
       "      <td>Lennep (now Remscheid)</td>\n",
       "      <td>Germany</td>\n",
       "      <td>DE</td>\n",
       "      <td>Munich</td>\n",
       "      <td>male</td>\n",
       "      <td>1901.0</td>\n",
       "      <td>physics</td>\n",
       "      <td>NaN</td>\n",
       "      <td>1.0</td>\n",
       "      <td>\"in recognition of the extraordinary services ...</td>\n",
       "      <td>Munich University</td>\n",
       "      <td>Munich</td>\n",
       "      <td>Germany</td>\n",
       "    </tr>\n",
       "    <tr>\n",
       "      <th>1</th>\n",
       "      <td>2</td>\n",
       "      <td>Hendrik Antoon</td>\n",
       "      <td>Lorentz</td>\n",
       "      <td>1853-07-18</td>\n",
       "      <td>1928-02-04</td>\n",
       "      <td>the Netherlands</td>\n",
       "      <td>NL</td>\n",
       "      <td>Arnhem</td>\n",
       "      <td>the Netherlands</td>\n",
       "      <td>NL</td>\n",
       "      <td>NaN</td>\n",
       "      <td>male</td>\n",
       "      <td>1902.0</td>\n",
       "      <td>physics</td>\n",
       "      <td>NaN</td>\n",
       "      <td>2.0</td>\n",
       "      <td>\"in recognition of the extraordinary service t...</td>\n",
       "      <td>Leiden University</td>\n",
       "      <td>Leiden</td>\n",
       "      <td>the Netherlands</td>\n",
       "    </tr>\n",
       "    <tr>\n",
       "      <th>2</th>\n",
       "      <td>3</td>\n",
       "      <td>Pieter</td>\n",
       "      <td>Zeeman</td>\n",
       "      <td>1865-05-25</td>\n",
       "      <td>1943-10-09</td>\n",
       "      <td>the Netherlands</td>\n",
       "      <td>NL</td>\n",
       "      <td>Zonnemaire</td>\n",
       "      <td>the Netherlands</td>\n",
       "      <td>NL</td>\n",
       "      <td>Amsterdam</td>\n",
       "      <td>male</td>\n",
       "      <td>1902.0</td>\n",
       "      <td>physics</td>\n",
       "      <td>NaN</td>\n",
       "      <td>2.0</td>\n",
       "      <td>\"in recognition of the extraordinary service t...</td>\n",
       "      <td>Amsterdam University</td>\n",
       "      <td>Amsterdam</td>\n",
       "      <td>the Netherlands</td>\n",
       "    </tr>\n",
       "    <tr>\n",
       "      <th>3</th>\n",
       "      <td>4</td>\n",
       "      <td>Antoine Henri</td>\n",
       "      <td>Becquerel</td>\n",
       "      <td>1852-12-15</td>\n",
       "      <td>1908-08-25</td>\n",
       "      <td>France</td>\n",
       "      <td>FR</td>\n",
       "      <td>Paris</td>\n",
       "      <td>France</td>\n",
       "      <td>FR</td>\n",
       "      <td>NaN</td>\n",
       "      <td>male</td>\n",
       "      <td>1903.0</td>\n",
       "      <td>physics</td>\n",
       "      <td>NaN</td>\n",
       "      <td>2.0</td>\n",
       "      <td>\"in recognition of the extraordinary services ...</td>\n",
       "      <td>École Polytechnique</td>\n",
       "      <td>Paris</td>\n",
       "      <td>France</td>\n",
       "    </tr>\n",
       "    <tr>\n",
       "      <th>4</th>\n",
       "      <td>5</td>\n",
       "      <td>Pierre</td>\n",
       "      <td>Curie</td>\n",
       "      <td>1859-05-15</td>\n",
       "      <td>1906-04-19</td>\n",
       "      <td>France</td>\n",
       "      <td>FR</td>\n",
       "      <td>Paris</td>\n",
       "      <td>France</td>\n",
       "      <td>FR</td>\n",
       "      <td>Paris</td>\n",
       "      <td>male</td>\n",
       "      <td>1903.0</td>\n",
       "      <td>physics</td>\n",
       "      <td>NaN</td>\n",
       "      <td>4.0</td>\n",
       "      <td>\"in recognition of the extraordinary services ...</td>\n",
       "      <td>École municipale de physique et de chimie indu...</td>\n",
       "      <td>Paris</td>\n",
       "      <td>France</td>\n",
       "    </tr>\n",
       "  </tbody>\n",
       "</table>\n",
       "</div>"
      ],
      "text/plain": [
       "   id       firstname    surname        born        died  \\\n",
       "0   1  Wilhelm Conrad    Röntgen  1845-03-27  1923-02-10   \n",
       "1   2  Hendrik Antoon    Lorentz  1853-07-18  1928-02-04   \n",
       "2   3          Pieter     Zeeman  1865-05-25  1943-10-09   \n",
       "3   4   Antoine Henri  Becquerel  1852-12-15  1908-08-25   \n",
       "4   5          Pierre      Curie  1859-05-15  1906-04-19   \n",
       "\n",
       "             bornCountry bornCountryCode                bornCity  \\\n",
       "0  Prussia (now Germany)              DE  Lennep (now Remscheid)   \n",
       "1        the Netherlands              NL                  Arnhem   \n",
       "2        the Netherlands              NL              Zonnemaire   \n",
       "3                 France              FR                   Paris   \n",
       "4                 France              FR                   Paris   \n",
       "\n",
       "       diedCountry diedCountryCode   diedCity gender    year category  \\\n",
       "0          Germany              DE     Munich   male  1901.0  physics   \n",
       "1  the Netherlands              NL        NaN   male  1902.0  physics   \n",
       "2  the Netherlands              NL  Amsterdam   male  1902.0  physics   \n",
       "3           France              FR        NaN   male  1903.0  physics   \n",
       "4           France              FR      Paris   male  1903.0  physics   \n",
       "\n",
       "  overallMotivation  share                                         motivation  \\\n",
       "0               NaN    1.0  \"in recognition of the extraordinary services ...   \n",
       "1               NaN    2.0  \"in recognition of the extraordinary service t...   \n",
       "2               NaN    2.0  \"in recognition of the extraordinary service t...   \n",
       "3               NaN    2.0  \"in recognition of the extraordinary services ...   \n",
       "4               NaN    4.0  \"in recognition of the extraordinary services ...   \n",
       "\n",
       "                                                name       city  \\\n",
       "0                                  Munich University     Munich   \n",
       "1                                  Leiden University     Leiden   \n",
       "2                               Amsterdam University  Amsterdam   \n",
       "3                                École Polytechnique      Paris   \n",
       "4  École municipale de physique et de chimie indu...      Paris   \n",
       "\n",
       "           country  \n",
       "0          Germany  \n",
       "1  the Netherlands  \n",
       "2  the Netherlands  \n",
       "3           France  \n",
       "4           France  "
      ]
     },
     "execution_count": 5,
     "metadata": {},
     "output_type": "execute_result"
    }
   ],
   "source": [
    "nobel.head()"
   ]
  },
  {
   "cell_type": "markdown",
   "metadata": {},
   "source": [
    "Each column (and row) of the `DataFrame` is a `Series`. Series can be accessed by their names as follows."
   ]
  },
  {
   "cell_type": "code",
   "execution_count": 6,
   "metadata": {},
   "outputs": [
    {
     "data": {
      "text/plain": [
       "0      1901.0\n",
       "1      1902.0\n",
       "2      1902.0\n",
       "3      1903.0\n",
       "4      1903.0\n",
       "5      1903.0\n",
       "6      1911.0\n",
       "7      1904.0\n",
       "8      1905.0\n",
       "9      1906.0\n",
       "10     1907.0\n",
       "11     1908.0\n",
       "12     1909.0\n",
       "13     1909.0\n",
       "14     1910.0\n",
       "15     1911.0\n",
       "16     1912.0\n",
       "17     1913.0\n",
       "18     1914.0\n",
       "19     1915.0\n",
       "20     1915.0\n",
       "21     1917.0\n",
       "22     1918.0\n",
       "23     1919.0\n",
       "24     1920.0\n",
       "25     1921.0\n",
       "26     1922.0\n",
       "27     1923.0\n",
       "28     1924.0\n",
       "29     1925.0\n",
       "        ...  \n",
       "943    2014.0\n",
       "944    2014.0\n",
       "945    2014.0\n",
       "946    2014.0\n",
       "947    2014.0\n",
       "948    2014.0\n",
       "949    2014.0\n",
       "950    2014.0\n",
       "951    2015.0\n",
       "952    2015.0\n",
       "953    2015.0\n",
       "954    2015.0\n",
       "955    2015.0\n",
       "956    2015.0\n",
       "957    2015.0\n",
       "958    2015.0\n",
       "959    2015.0\n",
       "960    2015.0\n",
       "961    2015.0\n",
       "962    2016.0\n",
       "963    2016.0\n",
       "964    2016.0\n",
       "965    2016.0\n",
       "966    2016.0\n",
       "967    2016.0\n",
       "968    2016.0\n",
       "969    2016.0\n",
       "970    2016.0\n",
       "971    2016.0\n",
       "972    2016.0\n",
       "Name: year, Length: 973, dtype: float64"
      ]
     },
     "execution_count": 6,
     "metadata": {},
     "output_type": "execute_result"
    }
   ],
   "source": [
    "nobel[\"year\"]"
   ]
  },
  {
   "cell_type": "code",
   "execution_count": 7,
   "metadata": {},
   "outputs": [
    {
     "data": {
      "text/plain": [
       "pandas.core.series.Series"
      ]
     },
     "execution_count": 7,
     "metadata": {},
     "output_type": "execute_result"
    }
   ],
   "source": [
    "type(nobel[\"year\"])"
   ]
  },
  {
   "cell_type": "markdown",
   "metadata": {},
   "source": [
    "A Series object can produce statistical information about the datums in it."
   ]
  },
  {
   "cell_type": "code",
   "execution_count": 8,
   "metadata": {},
   "outputs": [
    {
     "data": {
      "text/plain": [
       "count    967.000000\n",
       "mean       2.002068\n",
       "std        0.929166\n",
       "min        1.000000\n",
       "25%        1.000000\n",
       "50%        2.000000\n",
       "75%        3.000000\n",
       "max        4.000000\n",
       "Name: share, dtype: float64"
      ]
     },
     "execution_count": 8,
     "metadata": {},
     "output_type": "execute_result"
    }
   ],
   "source": [
    "nobel[\"share\"].describe()"
   ]
  },
  {
   "cell_type": "markdown",
   "metadata": {},
   "source": [
    "It's also somewhat smart about the contents of the data it sees so it can summarize non-numerical data as well."
   ]
  },
  {
   "cell_type": "code",
   "execution_count": 9,
   "metadata": {},
   "outputs": [
    {
     "data": {
      "text/plain": [
       "count     941\n",
       "unique     76\n",
       "top        US\n",
       "freq      275\n",
       "Name: bornCountryCode, dtype: object"
      ]
     },
     "execution_count": 9,
     "metadata": {},
     "output_type": "execute_result"
    }
   ],
   "source": [
    "nobel[\"bornCountryCode\"].describe()"
   ]
  },
  {
   "cell_type": "markdown",
   "metadata": {},
   "source": [
    "If you call a method on the dataframe like count, it will call the same method on each of the series."
   ]
  },
  {
   "cell_type": "code",
   "execution_count": 10,
   "metadata": {},
   "outputs": [
    {
     "data": {
      "text/plain": [
       "id                   973\n",
       "firstname            967\n",
       "surname              937\n",
       "born                 973\n",
       "died                 973\n",
       "bornCountry          941\n",
       "bornCountryCode      941\n",
       "bornCity             939\n",
       "diedCountry          603\n",
       "diedCountryCode      602\n",
       "diedCity             597\n",
       "gender               973\n",
       "year                 967\n",
       "category             967\n",
       "overallMotivation     16\n",
       "share                967\n",
       "motivation           879\n",
       "name                 720\n",
       "city                 714\n",
       "country              714\n",
       "dtype: int64"
      ]
     },
     "execution_count": 10,
     "metadata": {},
     "output_type": "execute_result"
    }
   ],
   "source": [
    "nobel.count()"
   ]
  },
  {
   "cell_type": "markdown",
   "metadata": {},
   "source": [
    "The dataset is clearly not quite complete, especially in the death statistics. Possibly because the laureates are still alive?"
   ]
  },
  {
   "cell_type": "markdown",
   "metadata": {},
   "source": [
    "We can also use the function `describe()` to request statistics for the entire dataframe but then it will only give statistics for the numerical variables."
   ]
  },
  {
   "cell_type": "code",
   "execution_count": 11,
   "metadata": {},
   "outputs": [
    {
     "data": {
      "text/html": [
       "<div>\n",
       "<style>\n",
       "    .dataframe thead tr:only-child th {\n",
       "        text-align: right;\n",
       "    }\n",
       "\n",
       "    .dataframe thead th {\n",
       "        text-align: left;\n",
       "    }\n",
       "\n",
       "    .dataframe tbody tr th {\n",
       "        vertical-align: top;\n",
       "    }\n",
       "</style>\n",
       "<table border=\"1\" class=\"dataframe\">\n",
       "  <thead>\n",
       "    <tr style=\"text-align: right;\">\n",
       "      <th></th>\n",
       "      <th>id</th>\n",
       "      <th>year</th>\n",
       "      <th>share</th>\n",
       "    </tr>\n",
       "  </thead>\n",
       "  <tbody>\n",
       "    <tr>\n",
       "      <th>count</th>\n",
       "      <td>973.000000</td>\n",
       "      <td>967.00000</td>\n",
       "      <td>967.000000</td>\n",
       "    </tr>\n",
       "    <tr>\n",
       "      <th>mean</th>\n",
       "      <td>471.872559</td>\n",
       "      <td>1970.19545</td>\n",
       "      <td>2.002068</td>\n",
       "    </tr>\n",
       "    <tr>\n",
       "      <th>std</th>\n",
       "      <td>275.324029</td>\n",
       "      <td>32.90862</td>\n",
       "      <td>0.929166</td>\n",
       "    </tr>\n",
       "    <tr>\n",
       "      <th>min</th>\n",
       "      <td>1.000000</td>\n",
       "      <td>1901.00000</td>\n",
       "      <td>1.000000</td>\n",
       "    </tr>\n",
       "    <tr>\n",
       "      <th>25%</th>\n",
       "      <td>231.000000</td>\n",
       "      <td>1947.00000</td>\n",
       "      <td>1.000000</td>\n",
       "    </tr>\n",
       "    <tr>\n",
       "      <th>50%</th>\n",
       "      <td>464.000000</td>\n",
       "      <td>1976.00000</td>\n",
       "      <td>2.000000</td>\n",
       "    </tr>\n",
       "    <tr>\n",
       "      <th>75%</th>\n",
       "      <td>721.000000</td>\n",
       "      <td>1999.00000</td>\n",
       "      <td>3.000000</td>\n",
       "    </tr>\n",
       "    <tr>\n",
       "      <th>max</th>\n",
       "      <td>937.000000</td>\n",
       "      <td>2016.00000</td>\n",
       "      <td>4.000000</td>\n",
       "    </tr>\n",
       "  </tbody>\n",
       "</table>\n",
       "</div>"
      ],
      "text/plain": [
       "               id        year       share\n",
       "count  973.000000   967.00000  967.000000\n",
       "mean   471.872559  1970.19545    2.002068\n",
       "std    275.324029    32.90862    0.929166\n",
       "min      1.000000  1901.00000    1.000000\n",
       "25%    231.000000  1947.00000    1.000000\n",
       "50%    464.000000  1976.00000    2.000000\n",
       "75%    721.000000  1999.00000    3.000000\n",
       "max    937.000000  2016.00000    4.000000"
      ]
     },
     "execution_count": 11,
     "metadata": {},
     "output_type": "execute_result"
    }
   ],
   "source": [
    "nobel.describe()"
   ]
  },
  {
   "cell_type": "markdown",
   "metadata": {},
   "source": [
    "To calculate some more elaborate statistics, we first add a column (one Nobel prize per laureate). This will add the column \"number\" to the dataframe with the value 1 for each row."
   ]
  },
  {
   "cell_type": "code",
   "execution_count": 12,
   "metadata": {
    "collapsed": true
   },
   "outputs": [],
   "source": [
    "nobel[\"number\"] = 1"
   ]
  },
  {
   "cell_type": "markdown",
   "metadata": {},
   "source": [
    "### Age statistics"
   ]
  },
  {
   "cell_type": "markdown",
   "metadata": {},
   "source": [
    "Let's first look at statistics based on the age of prize recipients.  \n",
    "We need to convert the \"born\" column to datetime format. Datetimes are hardly ever recognized correctly."
   ]
  },
  {
   "cell_type": "code",
   "execution_count": 13,
   "metadata": {},
   "outputs": [
    {
     "data": {
      "text/plain": [
       "str"
      ]
     },
     "execution_count": 13,
     "metadata": {},
     "output_type": "execute_result"
    }
   ],
   "source": [
    "type(nobel[\"born\"][0])"
   ]
  },
  {
   "cell_type": "code",
   "execution_count": 14,
   "metadata": {
    "collapsed": true
   },
   "outputs": [],
   "source": [
    "nobel[\"born\"] = pd.to_datetime(nobel[\"born\"], errors ='coerce')\n",
    "# coercion is necessary because the data is a bit messy"
   ]
  },
  {
   "cell_type": "code",
   "execution_count": 15,
   "metadata": {},
   "outputs": [
    {
     "data": {
      "text/plain": [
       "pandas._libs.tslib.Timestamp"
      ]
     },
     "execution_count": 15,
     "metadata": {},
     "output_type": "execute_result"
    }
   ],
   "source": [
    "type(nobel[\"born\"][0])"
   ]
  },
  {
   "cell_type": "code",
   "execution_count": 16,
   "metadata": {},
   "outputs": [
    {
     "data": {
      "text/plain": [
       "0      1845.0\n",
       "1      1853.0\n",
       "2      1865.0\n",
       "3      1852.0\n",
       "4      1859.0\n",
       "5      1867.0\n",
       "6      1867.0\n",
       "7      1842.0\n",
       "8      1862.0\n",
       "9      1856.0\n",
       "10     1852.0\n",
       "11     1845.0\n",
       "12     1874.0\n",
       "13     1850.0\n",
       "14     1837.0\n",
       "15     1864.0\n",
       "16     1869.0\n",
       "17     1853.0\n",
       "18     1879.0\n",
       "19     1862.0\n",
       "20     1890.0\n",
       "21     1877.0\n",
       "22     1858.0\n",
       "23     1874.0\n",
       "24     1861.0\n",
       "25     1879.0\n",
       "26     1885.0\n",
       "27     1868.0\n",
       "28     1886.0\n",
       "29     1882.0\n",
       "        ...  \n",
       "943    1960.0\n",
       "944    1962.0\n",
       "945    1962.0\n",
       "946    1953.0\n",
       "947    1945.0\n",
       "948    1954.0\n",
       "949    1997.0\n",
       "950    1953.0\n",
       "951    1930.0\n",
       "952    1935.0\n",
       "953    1930.0\n",
       "954    1959.0\n",
       "955    1943.0\n",
       "956    1938.0\n",
       "957    1946.0\n",
       "958    1946.0\n",
       "959    1948.0\n",
       "960       NaN\n",
       "961    1945.0\n",
       "962    1945.0\n",
       "963    1934.0\n",
       "964    1951.0\n",
       "965    1943.0\n",
       "966    1944.0\n",
       "967    1942.0\n",
       "968    1951.0\n",
       "969    1951.0\n",
       "970    1948.0\n",
       "971    1949.0\n",
       "972    1941.0\n",
       "Name: born, Length: 973, dtype: float64"
      ]
     },
     "execution_count": 16,
     "metadata": {},
     "output_type": "execute_result"
    }
   ],
   "source": [
    "nobel[\"born\"].dt.year"
   ]
  },
  {
   "cell_type": "markdown",
   "metadata": {},
   "source": [
    "We can now add a column to the DataFrame with age when prize was received."
   ]
  },
  {
   "cell_type": "code",
   "execution_count": 17,
   "metadata": {},
   "outputs": [
    {
     "data": {
      "text/html": [
       "<div>\n",
       "<style>\n",
       "    .dataframe thead tr:only-child th {\n",
       "        text-align: right;\n",
       "    }\n",
       "\n",
       "    .dataframe thead th {\n",
       "        text-align: left;\n",
       "    }\n",
       "\n",
       "    .dataframe tbody tr th {\n",
       "        vertical-align: top;\n",
       "    }\n",
       "</style>\n",
       "<table border=\"1\" class=\"dataframe\">\n",
       "  <thead>\n",
       "    <tr style=\"text-align: right;\">\n",
       "      <th></th>\n",
       "      <th>surname</th>\n",
       "      <th>age</th>\n",
       "    </tr>\n",
       "  </thead>\n",
       "  <tbody>\n",
       "    <tr>\n",
       "      <th>0</th>\n",
       "      <td>Röntgen</td>\n",
       "      <td>56.0</td>\n",
       "    </tr>\n",
       "    <tr>\n",
       "      <th>1</th>\n",
       "      <td>Lorentz</td>\n",
       "      <td>49.0</td>\n",
       "    </tr>\n",
       "    <tr>\n",
       "      <th>2</th>\n",
       "      <td>Zeeman</td>\n",
       "      <td>37.0</td>\n",
       "    </tr>\n",
       "    <tr>\n",
       "      <th>3</th>\n",
       "      <td>Becquerel</td>\n",
       "      <td>51.0</td>\n",
       "    </tr>\n",
       "    <tr>\n",
       "      <th>4</th>\n",
       "      <td>Curie</td>\n",
       "      <td>44.0</td>\n",
       "    </tr>\n",
       "    <tr>\n",
       "      <th>5</th>\n",
       "      <td>Curie, née Sklodowska</td>\n",
       "      <td>36.0</td>\n",
       "    </tr>\n",
       "    <tr>\n",
       "      <th>6</th>\n",
       "      <td>Curie, née Sklodowska</td>\n",
       "      <td>44.0</td>\n",
       "    </tr>\n",
       "    <tr>\n",
       "      <th>7</th>\n",
       "      <td>(John William Strutt)</td>\n",
       "      <td>62.0</td>\n",
       "    </tr>\n",
       "    <tr>\n",
       "      <th>8</th>\n",
       "      <td>von Lenard</td>\n",
       "      <td>43.0</td>\n",
       "    </tr>\n",
       "    <tr>\n",
       "      <th>9</th>\n",
       "      <td>Thomson</td>\n",
       "      <td>50.0</td>\n",
       "    </tr>\n",
       "  </tbody>\n",
       "</table>\n",
       "</div>"
      ],
      "text/plain": [
       "                 surname   age\n",
       "0                Röntgen  56.0\n",
       "1                Lorentz  49.0\n",
       "2                 Zeeman  37.0\n",
       "3              Becquerel  51.0\n",
       "4                  Curie  44.0\n",
       "5  Curie, née Sklodowska  36.0\n",
       "6  Curie, née Sklodowska  44.0\n",
       "7  (John William Strutt)  62.0\n",
       "8             von Lenard  43.0\n",
       "9                Thomson  50.0"
      ]
     },
     "execution_count": 17,
     "metadata": {},
     "output_type": "execute_result"
    }
   ],
   "source": [
    "nobel[\"age\"] = nobel[\"year\"] - nobel[\"born\"].dt.year\n",
    "nobel[[\"surname\",\"age\"]].head(10)\n",
    "#print(nobel[\"age\"].to_string())"
   ]
  },
  {
   "cell_type": "markdown",
   "metadata": {},
   "source": [
    "We can now plot a histogram of the age at which laureates receive their prize, using the inbuilt matplotlib support of pandas "
   ]
  },
  {
   "cell_type": "code",
   "execution_count": 18,
   "metadata": {
    "collapsed": true
   },
   "outputs": [],
   "source": [
    "nobel.plot?"
   ]
  },
  {
   "cell_type": "code",
   "execution_count": 19,
   "metadata": {},
   "outputs": [
    {
     "data": {
      "image/png": "[encoded data removed]",
      "text/plain": [
       "<matplotlib.figure.Figure at 0x10cd30b10>"
      ]
     },
     "metadata": {},
     "output_type": "display_data"
    }
   ],
   "source": [
    "nobel[\"age\"].plot.hist(bins=[20,30,40,50,60,70,80,90,100],alpha=0.6);"
   ]
  },
  {
   "cell_type": "markdown",
   "metadata": {},
   "source": [
    "To extract the numbers, use the value_counts method"
   ]
  },
  {
   "cell_type": "code",
   "execution_count": 20,
   "metadata": {},
   "outputs": [
    {
     "data": {
      "text/plain": [
       "(60.0, 70.0]      258\n",
       "(50.0, 60.0]      251\n",
       "(40.0, 50.0]      177\n",
       "(70.0, 80.0]      150\n",
       "(30.0, 40.0]       60\n",
       "(80.0, 90.0]       38\n",
       "(19.999, 30.0]      1\n",
       "(90.0, 100.0]       0\n",
       "Name: age, dtype: int64"
      ]
     },
     "execution_count": 20,
     "metadata": {},
     "output_type": "execute_result"
    }
   ],
   "source": [
    "nobel[\"age\"].value_counts(bins=[20,30,40,50,60,70,80,90,100])"
   ]
  },
  {
   "cell_type": "markdown",
   "metadata": {},
   "source": [
    "An alternative plot that is is better for comparing distributions is the box plot.\n",
    "\n",
    "The \"by\" keyword tells by which value the the observations should be **grouped by**, which is the next topic."
   ]
  },
  {
   "cell_type": "code",
   "execution_count": 21,
   "metadata": {},
   "outputs": [
    {
     "data": {
      "text/plain": [
       "<matplotlib.axes._subplots.AxesSubplot at 0x10cd30050>"
      ]
     },
     "execution_count": 21,
     "metadata": {},
     "output_type": "execute_result"
    },
    {
     "data": {
      "image/png": "[encoded data removed]",
      "text/plain": [
       "<matplotlib.figure.Figure at 0x10cd0b690>"
      ]
     },
     "metadata": {},
     "output_type": "display_data"
    }
   ],
   "source": [
    "nobel.boxplot(column=\"age\", by=\"category\")"
   ]
  },
  {
   "cell_type": "markdown",
   "metadata": {},
   "source": [
    "### Country statistics - groupby"
   ]
  },
  {
   "cell_type": "markdown",
   "metadata": {},
   "source": [
    "We use the powerful `groupby` method to split data into groups, select the column \"number\", and sum up to get the total sum of Nobel prizes by country "
   ]
  },
  {
   "cell_type": "code",
   "execution_count": 22,
   "metadata": {
    "collapsed": true
   },
   "outputs": [],
   "source": [
    "nobels_by_country = nobel.groupby('bornCountry',sort=True)[\"number\"].sum()\n"
   ]
  },
  {
   "cell_type": "code",
   "execution_count": 23,
   "metadata": {},
   "outputs": [
    {
     "data": {
      "text/plain": [
       "count    121.000000\n",
       "mean       7.776860\n",
       "std       27.226974\n",
       "min        1.000000\n",
       "25%        1.000000\n",
       "50%        2.000000\n",
       "75%        5.000000\n",
       "max      275.000000\n",
       "Name: number, dtype: float64"
      ]
     },
     "execution_count": 23,
     "metadata": {},
     "output_type": "execute_result"
    }
   ],
   "source": [
    "nobels_by_country.describe()"
   ]
  },
  {
   "cell_type": "markdown",
   "metadata": {},
   "source": [
    "The pandas Series only shows a limited number of rows. Let's print them all"
   ]
  },
  {
   "cell_type": "code",
   "execution_count": 24,
   "metadata": {},
   "outputs": [
    {
     "name": "stdout",
     "output_type": "stream",
     "text": [
      "bornCountry\n",
      "Argentina                                           4\n",
      "Australia                                          11\n",
      "Austria                                            15\n",
      "Austria-Hungary (now Austria)                       2\n",
      "Austria-Hungary (now Bosnia and Herzegovina)        1\n",
      "Austria-Hungary (now Croatia)                       1\n",
      "Austria-Hungary (now Czech Republic)                4\n",
      "Austria-Hungary (now Hungary)                       3\n",
      "Austria-Hungary (now Poland)                        1\n",
      "Austria-Hungary (now Slovenia)                      1\n",
      "Austria-Hungary (now Ukraine)                       1\n",
      "Austrian Empire (now Austria)                       2\n",
      "Austrian Empire (now Czech Republic)                1\n",
      "Austrian Empire (now Italy)                         1\n",
      "Bavaria (now Germany)                               1\n",
      "Belgium                                             9\n",
      "Bosnia (now Bosnia and Herzegovina)                 1\n",
      "Brazil                                              1\n",
      "British India (now Bangladesh)                      1\n",
      "British India (now India)                           1\n",
      "British Mandate of Palestine (now Israel)           5\n",
      "British Protectorate of Palestine (now Israel)      1\n",
      "British West Indies (now Saint Lucia)               1\n",
      "Bulgaria                                            1\n",
      "Burma (now Myanmar)                                 1\n",
      "Canada                                             18\n",
      "Chile                                               2\n",
      "China                                              12\n",
      "Colombia                                            2\n",
      "Costa Rica                                          1\n",
      "Crete (now Greece)                                  1\n",
      "Cyprus                                              1\n",
      "Czechoslovakia (now Czech Republic)                 1\n",
      "Denmark                                            11\n",
      "East Friesland (now Germany)                        1\n",
      "East Timor                                          2\n",
      "Egypt                                               6\n",
      "Faroe Islands (Denmark)                             1\n",
      "Finland                                             2\n",
      "France                                             53\n",
      "Free City of Danzig (now Poland)                    1\n",
      "French Algeria (now Algeria)                        3\n",
      "German-occupied Poland (now Poland)                 1\n",
      "Germany                                            70\n",
      "Germany (now France)                                3\n",
      "Germany (now Poland)                               10\n",
      "Germany (now Russia)                                3\n",
      "Gold Coast (now Ghana)                              1\n",
      "Guadeloupe Island                                   1\n",
      "Guatemala                                           2\n",
      "Hesse-Kassel (now Germany)                          1\n",
      "Hungary                                             6\n",
      "Hungary (now Slovakia)                              1\n",
      "Iceland                                             1\n",
      "India                                               7\n",
      "India (now Pakistan)                                3\n",
      "Iran                                                1\n",
      "Ireland                                             5\n",
      "Italy                                              18\n",
      "Japan                                              29\n",
      "Java, Dutch East Indies (now Indonesia)             1\n",
      "Kenya                                               1\n",
      "Korea (now South Korea)                             2\n",
      "Liberia                                             2\n",
      "Lithuania                                           1\n",
      "Luxembourg                                          2\n",
      "Madagascar                                          1\n",
      "Mecklenburg (now Germany)                           1\n",
      "Mexico                                              3\n",
      "Morocco                                             2\n",
      "New Zealand                                         3\n",
      "Nigeria                                             1\n",
      "Northern Ireland                                    5\n",
      "Norway                                             13\n",
      "Ottoman Empire (now Republic of Macedonia)          1\n",
      "Ottoman Empire (now Turkey)                         1\n",
      "Pakistan                                            1\n",
      "Persia (now Iran)                                   1\n",
      "Peru                                                1\n",
      "Poland                                              6\n",
      "Poland (now Belarus)                                1\n",
      "Poland (now Lithuania)                              1\n",
      "Poland (now Ukraine)                                1\n",
      "Portugal                                            3\n",
      "Prussia (now Germany)                               7\n",
      "Prussia (now Poland)                                6\n",
      "Prussia (now Russia)                                1\n",
      "Romania                                             5\n",
      "Russia                                             20\n",
      "Russian Empire (now Azerbaijan)                     1\n",
      "Russian Empire (now Belarus)                        2\n",
      "Russian Empire (now Finland)                        3\n",
      "Russian Empire (now Latvia)                         1\n",
      "Russian Empire (now Lithuania)                      1\n",
      "Russian Empire (now Poland)                         5\n",
      "Russian Empire (now Russia)                         2\n",
      "Russian Empire (now Ukraine)                        2\n",
      "Saint Lucia                                         1\n",
      "Schleswig (now Germany)                             2\n",
      "Scotland                                            9\n",
      "South Africa                                        9\n",
      "Southern Rhodesia (now Zimbabwe)                    1\n",
      "Spain                                               7\n",
      "Sweden                                             29\n",
      "Switzerland                                        17\n",
      "Taiwan                                              1\n",
      "Tibet (now People's Republic of China)              1\n",
      "Trinidad                                            1\n",
      "Turkey                                              2\n",
      "Tuscany (now Italy)                                 1\n",
      "USA                                               275\n",
      "USSR (now Belarus)                                  1\n",
      "USSR (now Russia)                                   4\n",
      "Ukraine                                             1\n",
      "United Kingdom                                     88\n",
      "Venezuela                                           1\n",
      "Vietnam                                             1\n",
      "W&uuml;rttemberg (now Germany)                      1\n",
      "West Germany (now Germany)                          5\n",
      "Yemen                                               1\n",
      "the Netherlands                                    19\n"
     ]
    }
   ],
   "source": [
    "print(nobels_by_country.to_string())"
   ]
  },
  {
   "cell_type": "markdown",
   "metadata": {},
   "source": [
    "How many prizes have people born in Sweden received?"
   ]
  },
  {
   "cell_type": "code",
   "execution_count": 25,
   "metadata": {},
   "outputs": [
    {
     "data": {
      "text/plain": [
       "29"
      ]
     },
     "execution_count": 25,
     "metadata": {},
     "output_type": "execute_result"
    }
   ],
   "source": [
    "nobels_by_country[\"Sweden\"]"
   ]
  },
  {
   "cell_type": "markdown",
   "metadata": {},
   "source": [
    "Who were they?"
   ]
  },
  {
   "cell_type": "code",
   "execution_count": 26,
   "metadata": {},
   "outputs": [
    {
     "data": {
      "text/html": [
       "<div>\n",
       "<style>\n",
       "    .dataframe thead tr:only-child th {\n",
       "        text-align: right;\n",
       "    }\n",
       "\n",
       "    .dataframe thead th {\n",
       "        text-align: left;\n",
       "    }\n",
       "\n",
       "    .dataframe tbody tr th {\n",
       "        vertical-align: top;\n",
       "    }\n",
       "</style>\n",
       "<table border=\"1\" class=\"dataframe\">\n",
       "  <thead>\n",
       "    <tr style=\"text-align: right;\">\n",
       "      <th></th>\n",
       "      <th>id</th>\n",
       "      <th>firstname</th>\n",
       "      <th>surname</th>\n",
       "      <th>born</th>\n",
       "      <th>died</th>\n",
       "      <th>bornCountry</th>\n",
       "      <th>bornCountryCode</th>\n",
       "      <th>bornCity</th>\n",
       "      <th>diedCountry</th>\n",
       "      <th>diedCountryCode</th>\n",
       "      <th>...</th>\n",
       "      <th>year</th>\n",
       "      <th>category</th>\n",
       "      <th>overallMotivation</th>\n",
       "      <th>share</th>\n",
       "      <th>motivation</th>\n",
       "      <th>name</th>\n",
       "      <th>city</th>\n",
       "      <th>country</th>\n",
       "      <th>number</th>\n",
       "      <th>age</th>\n",
       "    </tr>\n",
       "  </thead>\n",
       "  <tbody>\n",
       "    <tr>\n",
       "      <th>16</th>\n",
       "      <td>17</td>\n",
       "      <td>Nils Gustaf</td>\n",
       "      <td>Dalén</td>\n",
       "      <td>1869-11-30 00:00:00</td>\n",
       "      <td>1937-12-09</td>\n",
       "      <td>Sweden</td>\n",
       "      <td>SE</td>\n",
       "      <td>Stenstorp</td>\n",
       "      <td>Sweden</td>\n",
       "      <td>SE</td>\n",
       "      <td>...</td>\n",
       "      <td>1912.0</td>\n",
       "      <td>physics</td>\n",
       "      <td>NaN</td>\n",
       "      <td>1.0</td>\n",
       "      <td>\"for his invention of automatic regulators for...</td>\n",
       "      <td>Swedish Gas-Accumulator Co.</td>\n",
       "      <td>Lidingö-Stockholm</td>\n",
       "      <td>Sweden</td>\n",
       "      <td>1</td>\n",
       "      <td>43.0</td>\n",
       "    </tr>\n",
       "    <tr>\n",
       "      <th>28</th>\n",
       "      <td>29</td>\n",
       "      <td>Karl Manne Georg</td>\n",
       "      <td>Siegbahn</td>\n",
       "      <td>1886-12-03 00:00:00</td>\n",
       "      <td>1978-09-26</td>\n",
       "      <td>Sweden</td>\n",
       "      <td>SE</td>\n",
       "      <td>Lund</td>\n",
       "      <td>Sweden</td>\n",
       "      <td>SE</td>\n",
       "      <td>...</td>\n",
       "      <td>1924.0</td>\n",
       "      <td>physics</td>\n",
       "      <td>NaN</td>\n",
       "      <td>1.0</td>\n",
       "      <td>\"for his discoveries and research in the field...</td>\n",
       "      <td>Uppsala University</td>\n",
       "      <td>Uppsala</td>\n",
       "      <td>Sweden</td>\n",
       "      <td>1</td>\n",
       "      <td>38.0</td>\n",
       "    </tr>\n",
       "    <tr>\n",
       "      <th>95</th>\n",
       "      <td>91</td>\n",
       "      <td>Hannes Olof Gösta</td>\n",
       "      <td>Alfvén</td>\n",
       "      <td>1908-05-30</td>\n",
       "      <td>1995-04-02</td>\n",
       "      <td>Sweden</td>\n",
       "      <td>SE</td>\n",
       "      <td>Norrköping</td>\n",
       "      <td>Sweden</td>\n",
       "      <td>SE</td>\n",
       "      <td>...</td>\n",
       "      <td>1970.0</td>\n",
       "      <td>physics</td>\n",
       "      <td>NaN</td>\n",
       "      <td>2.0</td>\n",
       "      <td>\"for fundamental work and discoveries in magne...</td>\n",
       "      <td>Royal Institute of Technology</td>\n",
       "      <td>Stockholm</td>\n",
       "      <td>Sweden</td>\n",
       "      <td>1</td>\n",
       "      <td>62.0</td>\n",
       "    </tr>\n",
       "    <tr>\n",
       "      <th>124</th>\n",
       "      <td>120</td>\n",
       "      <td>Kai M.</td>\n",
       "      <td>Siegbahn</td>\n",
       "      <td>1918-04-20</td>\n",
       "      <td>2007-07-20</td>\n",
       "      <td>Sweden</td>\n",
       "      <td>SE</td>\n",
       "      <td>Lund</td>\n",
       "      <td>Sweden</td>\n",
       "      <td>SE</td>\n",
       "      <td>...</td>\n",
       "      <td>1981.0</td>\n",
       "      <td>physics</td>\n",
       "      <td>NaN</td>\n",
       "      <td>2.0</td>\n",
       "      <td>\"for his contribution to the development of hi...</td>\n",
       "      <td>Uppsala University</td>\n",
       "      <td>Uppsala</td>\n",
       "      <td>Sweden</td>\n",
       "      <td>1</td>\n",
       "      <td>63.0</td>\n",
       "    </tr>\n",
       "    <tr>\n",
       "      <th>168</th>\n",
       "      <td>162</td>\n",
       "      <td>Svante August</td>\n",
       "      <td>Arrhenius</td>\n",
       "      <td>1859-02-19 00:00:00</td>\n",
       "      <td>1927-10-02</td>\n",
       "      <td>Sweden</td>\n",
       "      <td>SE</td>\n",
       "      <td>Vik</td>\n",
       "      <td>Sweden</td>\n",
       "      <td>SE</td>\n",
       "      <td>...</td>\n",
       "      <td>1903.0</td>\n",
       "      <td>chemistry</td>\n",
       "      <td>NaN</td>\n",
       "      <td>1.0</td>\n",
       "      <td>\"in recognition of the extraordinary services ...</td>\n",
       "      <td>Stockholm University</td>\n",
       "      <td>Stockholm</td>\n",
       "      <td>Sweden</td>\n",
       "      <td>1</td>\n",
       "      <td>44.0</td>\n",
       "    </tr>\n",
       "    <tr>\n",
       "      <th>187</th>\n",
       "      <td>183</td>\n",
       "      <td>The (Theodor)</td>\n",
       "      <td>Svedberg</td>\n",
       "      <td>1884-08-30 00:00:00</td>\n",
       "      <td>1971-02-25</td>\n",
       "      <td>Sweden</td>\n",
       "      <td>SE</td>\n",
       "      <td>Fleräng</td>\n",
       "      <td>Sweden</td>\n",
       "      <td>SE</td>\n",
       "      <td>...</td>\n",
       "      <td>1926.0</td>\n",
       "      <td>chemistry</td>\n",
       "      <td>NaN</td>\n",
       "      <td>1.0</td>\n",
       "      <td>\"for his work on disperse systems\"</td>\n",
       "      <td>Uppsala University</td>\n",
       "      <td>Uppsala</td>\n",
       "      <td>Sweden</td>\n",
       "      <td>1</td>\n",
       "      <td>42.0</td>\n",
       "    </tr>\n",
       "    <tr>\n",
       "      <th>217</th>\n",
       "      <td>208</td>\n",
       "      <td>Arne Wilhelm Kaurin</td>\n",
       "      <td>Tiselius</td>\n",
       "      <td>1902-08-10</td>\n",
       "      <td>1971-10-29</td>\n",
       "      <td>Sweden</td>\n",
       "      <td>SE</td>\n",
       "      <td>Stockholm</td>\n",
       "      <td>Sweden</td>\n",
       "      <td>SE</td>\n",
       "      <td>...</td>\n",
       "      <td>1948.0</td>\n",
       "      <td>chemistry</td>\n",
       "      <td>NaN</td>\n",
       "      <td>1.0</td>\n",
       "      <td>\"for his research on electrophoresis and adsor...</td>\n",
       "      <td>Uppsala University</td>\n",
       "      <td>Uppsala</td>\n",
       "      <td>Sweden</td>\n",
       "      <td>1</td>\n",
       "      <td>46.0</td>\n",
       "    </tr>\n",
       "    <tr>\n",
       "      <th>320</th>\n",
       "      <td>305</td>\n",
       "      <td>Allvar</td>\n",
       "      <td>Gullstrand</td>\n",
       "      <td>1862-06-05 00:00:00</td>\n",
       "      <td>1930-07-28</td>\n",
       "      <td>Sweden</td>\n",
       "      <td>SE</td>\n",
       "      <td>Landskrona</td>\n",
       "      <td>Sweden</td>\n",
       "      <td>SE</td>\n",
       "      <td>...</td>\n",
       "      <td>1911.0</td>\n",
       "      <td>medicine</td>\n",
       "      <td>NaN</td>\n",
       "      <td>1.0</td>\n",
       "      <td>\"for his work on the dioptrics of the eye\"</td>\n",
       "      <td>Uppsala University</td>\n",
       "      <td>Uppsala</td>\n",
       "      <td>Sweden</td>\n",
       "      <td>1</td>\n",
       "      <td>49.0</td>\n",
       "    </tr>\n",
       "    <tr>\n",
       "      <th>378</th>\n",
       "      <td>359</td>\n",
       "      <td>Axel Hugo Theodor</td>\n",
       "      <td>Theorell</td>\n",
       "      <td>1903-07-06</td>\n",
       "      <td>1982-08-15</td>\n",
       "      <td>Sweden</td>\n",
       "      <td>SE</td>\n",
       "      <td>Linköping</td>\n",
       "      <td>Sweden</td>\n",
       "      <td>SE</td>\n",
       "      <td>...</td>\n",
       "      <td>1955.0</td>\n",
       "      <td>medicine</td>\n",
       "      <td>NaN</td>\n",
       "      <td>1.0</td>\n",
       "      <td>\"for his discoveries concerning the nature and...</td>\n",
       "      <td>Karolinska Institutet, Nobel Medical Institute</td>\n",
       "      <td>Stockholm</td>\n",
       "      <td>Sweden</td>\n",
       "      <td>1</td>\n",
       "      <td>52.0</td>\n",
       "    </tr>\n",
       "    <tr>\n",
       "      <th>415</th>\n",
       "      <td>395</td>\n",
       "      <td>Ulf</td>\n",
       "      <td>von Euler</td>\n",
       "      <td>1905-02-07</td>\n",
       "      <td>1983-03-09</td>\n",
       "      <td>Sweden</td>\n",
       "      <td>SE</td>\n",
       "      <td>Stockholm</td>\n",
       "      <td>Sweden</td>\n",
       "      <td>SE</td>\n",
       "      <td>...</td>\n",
       "      <td>1970.0</td>\n",
       "      <td>medicine</td>\n",
       "      <td>NaN</td>\n",
       "      <td>3.0</td>\n",
       "      <td>\"for their discoveries concerning the humoral ...</td>\n",
       "      <td>Karolinska Institutet</td>\n",
       "      <td>Stockholm</td>\n",
       "      <td>Sweden</td>\n",
       "      <td>1</td>\n",
       "      <td>65.0</td>\n",
       "    </tr>\n",
       "    <tr>\n",
       "      <th>445</th>\n",
       "      <td>424</td>\n",
       "      <td>Torsten N.</td>\n",
       "      <td>Wiesel</td>\n",
       "      <td>1924-06-03</td>\n",
       "      <td>0000-00-00</td>\n",
       "      <td>Sweden</td>\n",
       "      <td>SE</td>\n",
       "      <td>Uppsala</td>\n",
       "      <td>NaN</td>\n",
       "      <td>NaN</td>\n",
       "      <td>...</td>\n",
       "      <td>1981.0</td>\n",
       "      <td>medicine</td>\n",
       "      <td>NaN</td>\n",
       "      <td>4.0</td>\n",
       "      <td>\"for their discoveries concerning information ...</td>\n",
       "      <td>Harvard Medical School</td>\n",
       "      <td>Boston, MA</td>\n",
       "      <td>USA</td>\n",
       "      <td>1</td>\n",
       "      <td>57.0</td>\n",
       "    </tr>\n",
       "    <tr>\n",
       "      <th>446</th>\n",
       "      <td>425</td>\n",
       "      <td>Sune K.</td>\n",
       "      <td>Bergström</td>\n",
       "      <td>1916-01-10</td>\n",
       "      <td>2004-08-15</td>\n",
       "      <td>Sweden</td>\n",
       "      <td>SE</td>\n",
       "      <td>Stockholm</td>\n",
       "      <td>Sweden</td>\n",
       "      <td>SE</td>\n",
       "      <td>...</td>\n",
       "      <td>1982.0</td>\n",
       "      <td>medicine</td>\n",
       "      <td>NaN</td>\n",
       "      <td>3.0</td>\n",
       "      <td>\"for their discoveries concerning prostaglandi...</td>\n",
       "      <td>Karolinska Institutet</td>\n",
       "      <td>Stockholm</td>\n",
       "      <td>Sweden</td>\n",
       "      <td>1</td>\n",
       "      <td>66.0</td>\n",
       "    </tr>\n",
       "    <tr>\n",
       "      <th>447</th>\n",
       "      <td>426</td>\n",
       "      <td>Bengt I.</td>\n",
       "      <td>Samuelsson</td>\n",
       "      <td>1934-05-21</td>\n",
       "      <td>0000-00-00</td>\n",
       "      <td>Sweden</td>\n",
       "      <td>SE</td>\n",
       "      <td>Halmstad</td>\n",
       "      <td>NaN</td>\n",
       "      <td>NaN</td>\n",
       "      <td>...</td>\n",
       "      <td>1982.0</td>\n",
       "      <td>medicine</td>\n",
       "      <td>NaN</td>\n",
       "      <td>3.0</td>\n",
       "      <td>\"for their discoveries concerning prostaglandi...</td>\n",
       "      <td>Karolinska Institutet</td>\n",
       "      <td>Stockholm</td>\n",
       "      <td>Sweden</td>\n",
       "      <td>1</td>\n",
       "      <td>48.0</td>\n",
       "    </tr>\n",
       "    <tr>\n",
       "      <th>494</th>\n",
       "      <td>473</td>\n",
       "      <td>Klas Pontus</td>\n",
       "      <td>Arnoldson</td>\n",
       "      <td>1844-10-27 00:00:00</td>\n",
       "      <td>1916-02-20</td>\n",
       "      <td>Sweden</td>\n",
       "      <td>SE</td>\n",
       "      <td>Gothenburg</td>\n",
       "      <td>Sweden</td>\n",
       "      <td>SE</td>\n",
       "      <td>...</td>\n",
       "      <td>1908.0</td>\n",
       "      <td>peace</td>\n",
       "      <td>NaN</td>\n",
       "      <td>2.0</td>\n",
       "      <td>NaN</td>\n",
       "      <td>NaN</td>\n",
       "      <td>NaN</td>\n",
       "      <td>NaN</td>\n",
       "      <td>1</td>\n",
       "      <td>64.0</td>\n",
       "    </tr>\n",
       "    <tr>\n",
       "      <th>508</th>\n",
       "      <td>485</td>\n",
       "      <td>Karl Hjalmar</td>\n",
       "      <td>Branting</td>\n",
       "      <td>1860-11-23 00:00:00</td>\n",
       "      <td>1925-02-24</td>\n",
       "      <td>Sweden</td>\n",
       "      <td>SE</td>\n",
       "      <td>Stockholm</td>\n",
       "      <td>Sweden</td>\n",
       "      <td>SE</td>\n",
       "      <td>...</td>\n",
       "      <td>1921.0</td>\n",
       "      <td>peace</td>\n",
       "      <td>NaN</td>\n",
       "      <td>2.0</td>\n",
       "      <td>NaN</td>\n",
       "      <td>NaN</td>\n",
       "      <td>NaN</td>\n",
       "      <td>NaN</td>\n",
       "      <td>1</td>\n",
       "      <td>61.0</td>\n",
       "    </tr>\n",
       "    <tr>\n",
       "      <th>518</th>\n",
       "      <td>495</td>\n",
       "      <td>Lars Olof Jonathan (Nathan)</td>\n",
       "      <td>Söderblom</td>\n",
       "      <td>1866-01-15 00:00:00</td>\n",
       "      <td>1931-07-12</td>\n",
       "      <td>Sweden</td>\n",
       "      <td>SE</td>\n",
       "      <td>Trönö</td>\n",
       "      <td>Sweden</td>\n",
       "      <td>SE</td>\n",
       "      <td>...</td>\n",
       "      <td>1930.0</td>\n",
       "      <td>peace</td>\n",
       "      <td>NaN</td>\n",
       "      <td>1.0</td>\n",
       "      <td>NaN</td>\n",
       "      <td>NaN</td>\n",
       "      <td>NaN</td>\n",
       "      <td>NaN</td>\n",
       "      <td>1</td>\n",
       "      <td>64.0</td>\n",
       "    </tr>\n",
       "    <tr>\n",
       "      <th>543</th>\n",
       "      <td>520</td>\n",
       "      <td>Dag Hjalmar Agne Carl</td>\n",
       "      <td>Hammarskjöld</td>\n",
       "      <td>1905-07-29</td>\n",
       "      <td>1961-09-18</td>\n",
       "      <td>Sweden</td>\n",
       "      <td>SE</td>\n",
       "      <td>Jönköping</td>\n",
       "      <td>Northern Rhodesia (now Zambia)</td>\n",
       "      <td>ZM</td>\n",
       "      <td>...</td>\n",
       "      <td>1961.0</td>\n",
       "      <td>peace</td>\n",
       "      <td>NaN</td>\n",
       "      <td>1.0</td>\n",
       "      <td>NaN</td>\n",
       "      <td>NaN</td>\n",
       "      <td>NaN</td>\n",
       "      <td>NaN</td>\n",
       "      <td>1</td>\n",
       "      <td>56.0</td>\n",
       "    </tr>\n",
       "    <tr>\n",
       "      <th>563</th>\n",
       "      <td>543</td>\n",
       "      <td>Alva</td>\n",
       "      <td>Myrdal</td>\n",
       "      <td>1902-01-31</td>\n",
       "      <td>1986-02-01</td>\n",
       "      <td>Sweden</td>\n",
       "      <td>SE</td>\n",
       "      <td>Uppsala</td>\n",
       "      <td>Sweden</td>\n",
       "      <td>SE</td>\n",
       "      <td>...</td>\n",
       "      <td>1982.0</td>\n",
       "      <td>peace</td>\n",
       "      <td>NaN</td>\n",
       "      <td>2.0</td>\n",
       "      <td>NaN</td>\n",
       "      <td>NaN</td>\n",
       "      <td>NaN</td>\n",
       "      <td>NaN</td>\n",
       "      <td>1</td>\n",
       "      <td>80.0</td>\n",
       "    </tr>\n",
       "    <tr>\n",
       "      <th>598</th>\n",
       "      <td>579</td>\n",
       "      <td>Selma Ottilia Lovisa</td>\n",
       "      <td>Lagerlöf</td>\n",
       "      <td>1858-11-20 00:00:00</td>\n",
       "      <td>1940-03-16</td>\n",
       "      <td>Sweden</td>\n",
       "      <td>SE</td>\n",
       "      <td>Mårbacka</td>\n",
       "      <td>Sweden</td>\n",
       "      <td>SE</td>\n",
       "      <td>...</td>\n",
       "      <td>1909.0</td>\n",
       "      <td>literature</td>\n",
       "      <td>NaN</td>\n",
       "      <td>1.0</td>\n",
       "      <td>\"in appreciation of the lofty idealism, vivid ...</td>\n",
       "      <td>NaN</td>\n",
       "      <td>NaN</td>\n",
       "      <td>NaN</td>\n",
       "      <td>1</td>\n",
       "      <td>51.0</td>\n",
       "    </tr>\n",
       "    <tr>\n",
       "      <th>604</th>\n",
       "      <td>585</td>\n",
       "      <td>Carl Gustaf Verner</td>\n",
       "      <td>von Heidenstam</td>\n",
       "      <td>1859-07-06 00:00:00</td>\n",
       "      <td>1940-05-20</td>\n",
       "      <td>Sweden</td>\n",
       "      <td>SE</td>\n",
       "      <td>Olshammar</td>\n",
       "      <td>Sweden</td>\n",
       "      <td>SE</td>\n",
       "      <td>...</td>\n",
       "      <td>1916.0</td>\n",
       "      <td>literature</td>\n",
       "      <td>NaN</td>\n",
       "      <td>1.0</td>\n",
       "      <td>\"in recognition of his significance as the lea...</td>\n",
       "      <td>NaN</td>\n",
       "      <td>NaN</td>\n",
       "      <td>NaN</td>\n",
       "      <td>1</td>\n",
       "      <td>57.0</td>\n",
       "    </tr>\n",
       "    <tr>\n",
       "      <th>619</th>\n",
       "      <td>604</td>\n",
       "      <td>Erik Axel</td>\n",
       "      <td>Karlfeldt</td>\n",
       "      <td>1864-07-20 00:00:00</td>\n",
       "      <td>1931-04-08</td>\n",
       "      <td>Sweden</td>\n",
       "      <td>SE</td>\n",
       "      <td>Karlbo</td>\n",
       "      <td>Sweden</td>\n",
       "      <td>SE</td>\n",
       "      <td>...</td>\n",
       "      <td>1931.0</td>\n",
       "      <td>literature</td>\n",
       "      <td>NaN</td>\n",
       "      <td>1.0</td>\n",
       "      <td>\"The poetry of Erik Axel Karlfeldt\"</td>\n",
       "      <td>NaN</td>\n",
       "      <td>NaN</td>\n",
       "      <td>NaN</td>\n",
       "      <td>1</td>\n",
       "      <td>67.0</td>\n",
       "    </tr>\n",
       "    <tr>\n",
       "      <th>634</th>\n",
       "      <td>622</td>\n",
       "      <td>Pär Fabian</td>\n",
       "      <td>Lagerkvist</td>\n",
       "      <td>1891-05-23 00:00:00</td>\n",
       "      <td>1974-07-11</td>\n",
       "      <td>Sweden</td>\n",
       "      <td>SE</td>\n",
       "      <td>Växjö</td>\n",
       "      <td>Sweden</td>\n",
       "      <td>SE</td>\n",
       "      <td>...</td>\n",
       "      <td>1951.0</td>\n",
       "      <td>literature</td>\n",
       "      <td>NaN</td>\n",
       "      <td>1.0</td>\n",
       "      <td>\"for the artistic vigour and true independence...</td>\n",
       "      <td>NaN</td>\n",
       "      <td>NaN</td>\n",
       "      <td>NaN</td>\n",
       "      <td>1</td>\n",
       "      <td>60.0</td>\n",
       "    </tr>\n",
       "    <tr>\n",
       "      <th>658</th>\n",
       "      <td>649</td>\n",
       "      <td>Eyvind</td>\n",
       "      <td>Johnson</td>\n",
       "      <td>1900-07-29</td>\n",
       "      <td>1976-08-25</td>\n",
       "      <td>Sweden</td>\n",
       "      <td>SE</td>\n",
       "      <td>Svartbjörnsbyn</td>\n",
       "      <td>Sweden</td>\n",
       "      <td>SE</td>\n",
       "      <td>...</td>\n",
       "      <td>1974.0</td>\n",
       "      <td>literature</td>\n",
       "      <td>NaN</td>\n",
       "      <td>2.0</td>\n",
       "      <td>\"for a narrative art, far-seeing in lands and ...</td>\n",
       "      <td>NaN</td>\n",
       "      <td>NaN</td>\n",
       "      <td>NaN</td>\n",
       "      <td>1</td>\n",
       "      <td>74.0</td>\n",
       "    </tr>\n",
       "    <tr>\n",
       "      <th>659</th>\n",
       "      <td>650</td>\n",
       "      <td>Harry</td>\n",
       "      <td>Martinson</td>\n",
       "      <td>1904-05-06</td>\n",
       "      <td>1978-02-11</td>\n",
       "      <td>Sweden</td>\n",
       "      <td>SE</td>\n",
       "      <td>Jämshög</td>\n",
       "      <td>Sweden</td>\n",
       "      <td>SE</td>\n",
       "      <td>...</td>\n",
       "      <td>1974.0</td>\n",
       "      <td>literature</td>\n",
       "      <td>NaN</td>\n",
       "      <td>2.0</td>\n",
       "      <td>\"for writings that catch the dewdrop and refle...</td>\n",
       "      <td>NaN</td>\n",
       "      <td>NaN</td>\n",
       "      <td>NaN</td>\n",
       "      <td>1</td>\n",
       "      <td>70.0</td>\n",
       "    </tr>\n",
       "    <tr>\n",
       "      <th>692</th>\n",
       "      <td>684</td>\n",
       "      <td>Gunnar</td>\n",
       "      <td>Myrdal</td>\n",
       "      <td>1898-12-06 00:00:00</td>\n",
       "      <td>1987-05-17</td>\n",
       "      <td>Sweden</td>\n",
       "      <td>SE</td>\n",
       "      <td>Skattungbyn</td>\n",
       "      <td>Sweden</td>\n",
       "      <td>SE</td>\n",
       "      <td>...</td>\n",
       "      <td>1974.0</td>\n",
       "      <td>economics</td>\n",
       "      <td>NaN</td>\n",
       "      <td>2.0</td>\n",
       "      <td>\"for their pioneering work in the theory of mo...</td>\n",
       "      <td>NaN</td>\n",
       "      <td>NaN</td>\n",
       "      <td>NaN</td>\n",
       "      <td>1</td>\n",
       "      <td>76.0</td>\n",
       "    </tr>\n",
       "    <tr>\n",
       "      <th>697</th>\n",
       "      <td>689</td>\n",
       "      <td>Bertil</td>\n",
       "      <td>Ohlin</td>\n",
       "      <td>1899-04-23 00:00:00</td>\n",
       "      <td>1979-08-03</td>\n",
       "      <td>Sweden</td>\n",
       "      <td>SE</td>\n",
       "      <td>Klippan</td>\n",
       "      <td>Sweden</td>\n",
       "      <td>SE</td>\n",
       "      <td>...</td>\n",
       "      <td>1977.0</td>\n",
       "      <td>economics</td>\n",
       "      <td>NaN</td>\n",
       "      <td>2.0</td>\n",
       "      <td>\"for their pathbreaking contribution to the th...</td>\n",
       "      <td>Stockholm School of Economics</td>\n",
       "      <td>Stockholm</td>\n",
       "      <td>Sweden</td>\n",
       "      <td>1</td>\n",
       "      <td>78.0</td>\n",
       "    </tr>\n",
       "    <tr>\n",
       "      <th>731</th>\n",
       "      <td>722</td>\n",
       "      <td>Arvid</td>\n",
       "      <td>Carlsson</td>\n",
       "      <td>1923-01-25</td>\n",
       "      <td>0000-00-00</td>\n",
       "      <td>Sweden</td>\n",
       "      <td>SE</td>\n",
       "      <td>Uppsala</td>\n",
       "      <td>NaN</td>\n",
       "      <td>NaN</td>\n",
       "      <td>...</td>\n",
       "      <td>2000.0</td>\n",
       "      <td>medicine</td>\n",
       "      <td>NaN</td>\n",
       "      <td>3.0</td>\n",
       "      <td>\"for their discoveries concerning signal trans...</td>\n",
       "      <td>Göteborg University</td>\n",
       "      <td>Gothenburg</td>\n",
       "      <td>Sweden</td>\n",
       "      <td>1</td>\n",
       "      <td>77.0</td>\n",
       "    </tr>\n",
       "    <tr>\n",
       "      <th>893</th>\n",
       "      <td>868</td>\n",
       "      <td>Tomas</td>\n",
       "      <td>Tranströmer</td>\n",
       "      <td>1931-04-15</td>\n",
       "      <td>2015-03-26</td>\n",
       "      <td>Sweden</td>\n",
       "      <td>SE</td>\n",
       "      <td>Stockholm</td>\n",
       "      <td>Sweden</td>\n",
       "      <td>SE</td>\n",
       "      <td>...</td>\n",
       "      <td>2011.0</td>\n",
       "      <td>literature</td>\n",
       "      <td>NaN</td>\n",
       "      <td>1.0</td>\n",
       "      <td>\"because, through his condensed, translucent i...</td>\n",
       "      <td>NaN</td>\n",
       "      <td>NaN</td>\n",
       "      <td>NaN</td>\n",
       "      <td>1</td>\n",
       "      <td>80.0</td>\n",
       "    </tr>\n",
       "    <tr>\n",
       "      <th>956</th>\n",
       "      <td>921</td>\n",
       "      <td>Tomas</td>\n",
       "      <td>Lindahl</td>\n",
       "      <td>1938-01-28</td>\n",
       "      <td>0000-00-00</td>\n",
       "      <td>Sweden</td>\n",
       "      <td>SE</td>\n",
       "      <td>Stockholm</td>\n",
       "      <td>NaN</td>\n",
       "      <td>NaN</td>\n",
       "      <td>...</td>\n",
       "      <td>2015.0</td>\n",
       "      <td>chemistry</td>\n",
       "      <td>NaN</td>\n",
       "      <td>3.0</td>\n",
       "      <td>\"for mechanistic studies of DNA repair\"</td>\n",
       "      <td>Francis Crick Institute</td>\n",
       "      <td>Hertfordshire</td>\n",
       "      <td>United Kingdom</td>\n",
       "      <td>1</td>\n",
       "      <td>77.0</td>\n",
       "    </tr>\n",
       "  </tbody>\n",
       "</table>\n",
       "<p>29 rows × 22 columns</p>\n",
       "</div>"
      ],
      "text/plain": [
       "      id                    firstname         surname                born  \\\n",
       "16    17                  Nils Gustaf           Dalén 1869-11-30 00:00:00   \n",
       "28    29             Karl Manne Georg        Siegbahn 1886-12-03 00:00:00   \n",
       "95    91            Hannes Olof Gösta          Alfvén          1908-05-30   \n",
       "124  120                       Kai M.        Siegbahn          1918-04-20   \n",
       "168  162                Svante August       Arrhenius 1859-02-19 00:00:00   \n",
       "187  183                The (Theodor)        Svedberg 1884-08-30 00:00:00   \n",
       "217  208          Arne Wilhelm Kaurin        Tiselius          1902-08-10   \n",
       "320  305                       Allvar      Gullstrand 1862-06-05 00:00:00   \n",
       "378  359            Axel Hugo Theodor        Theorell          1903-07-06   \n",
       "415  395                          Ulf       von Euler          1905-02-07   \n",
       "445  424                   Torsten N.          Wiesel          1924-06-03   \n",
       "446  425                      Sune K.       Bergström          1916-01-10   \n",
       "447  426                     Bengt I.      Samuelsson          1934-05-21   \n",
       "494  473                  Klas Pontus       Arnoldson 1844-10-27 00:00:00   \n",
       "508  485                 Karl Hjalmar        Branting 1860-11-23 00:00:00   \n",
       "518  495  Lars Olof Jonathan (Nathan)       Söderblom 1866-01-15 00:00:00   \n",
       "543  520        Dag Hjalmar Agne Carl    Hammarskjöld          1905-07-29   \n",
       "563  543                         Alva          Myrdal          1902-01-31   \n",
       "598  579         Selma Ottilia Lovisa        Lagerlöf 1858-11-20 00:00:00   \n",
       "604  585           Carl Gustaf Verner  von Heidenstam 1859-07-06 00:00:00   \n",
       "619  604                    Erik Axel       Karlfeldt 1864-07-20 00:00:00   \n",
       "634  622                   Pär Fabian      Lagerkvist 1891-05-23 00:00:00   \n",
       "658  649                       Eyvind         Johnson          1900-07-29   \n",
       "659  650                        Harry       Martinson          1904-05-06   \n",
       "692  684                       Gunnar          Myrdal 1898-12-06 00:00:00   \n",
       "697  689                       Bertil           Ohlin 1899-04-23 00:00:00   \n",
       "731  722                        Arvid        Carlsson          1923-01-25   \n",
       "893  868                        Tomas     Tranströmer          1931-04-15   \n",
       "956  921                        Tomas         Lindahl          1938-01-28   \n",
       "\n",
       "           died bornCountry bornCountryCode        bornCity  \\\n",
       "16   1937-12-09      Sweden              SE       Stenstorp   \n",
       "28   1978-09-26      Sweden              SE            Lund   \n",
       "95   1995-04-02      Sweden              SE      Norrköping   \n",
       "124  2007-07-20      Sweden              SE            Lund   \n",
       "168  1927-10-02      Sweden              SE             Vik   \n",
       "187  1971-02-25      Sweden              SE         Fleräng   \n",
       "217  1971-10-29      Sweden              SE       Stockholm   \n",
       "320  1930-07-28      Sweden              SE      Landskrona   \n",
       "378  1982-08-15      Sweden              SE       Linköping   \n",
       "415  1983-03-09      Sweden              SE       Stockholm   \n",
       "445  0000-00-00      Sweden              SE         Uppsala   \n",
       "446  2004-08-15      Sweden              SE       Stockholm   \n",
       "447  0000-00-00      Sweden              SE        Halmstad   \n",
       "494  1916-02-20      Sweden              SE      Gothenburg   \n",
       "508  1925-02-24      Sweden              SE       Stockholm   \n",
       "518  1931-07-12      Sweden              SE           Trönö   \n",
       "543  1961-09-18      Sweden              SE       Jönköping   \n",
       "563  1986-02-01      Sweden              SE         Uppsala   \n",
       "598  1940-03-16      Sweden              SE        Mårbacka   \n",
       "604  1940-05-20      Sweden              SE       Olshammar   \n",
       "619  1931-04-08      Sweden              SE          Karlbo   \n",
       "634  1974-07-11      Sweden              SE           Växjö   \n",
       "658  1976-08-25      Sweden              SE  Svartbjörnsbyn   \n",
       "659  1978-02-11      Sweden              SE         Jämshög   \n",
       "692  1987-05-17      Sweden              SE     Skattungbyn   \n",
       "697  1979-08-03      Sweden              SE         Klippan   \n",
       "731  0000-00-00      Sweden              SE         Uppsala   \n",
       "893  2015-03-26      Sweden              SE       Stockholm   \n",
       "956  0000-00-00      Sweden              SE       Stockholm   \n",
       "\n",
       "                        diedCountry diedCountryCode  ...     year    category  \\\n",
       "16                           Sweden              SE  ...   1912.0     physics   \n",
       "28                           Sweden              SE  ...   1924.0     physics   \n",
       "95                           Sweden              SE  ...   1970.0     physics   \n",
       "124                          Sweden              SE  ...   1981.0     physics   \n",
       "168                          Sweden              SE  ...   1903.0   chemistry   \n",
       "187                          Sweden              SE  ...   1926.0   chemistry   \n",
       "217                          Sweden              SE  ...   1948.0   chemistry   \n",
       "320                          Sweden              SE  ...   1911.0    medicine   \n",
       "378                          Sweden              SE  ...   1955.0    medicine   \n",
       "415                          Sweden              SE  ...   1970.0    medicine   \n",
       "445                             NaN             NaN  ...   1981.0    medicine   \n",
       "446                          Sweden              SE  ...   1982.0    medicine   \n",
       "447                             NaN             NaN  ...   1982.0    medicine   \n",
       "494                          Sweden              SE  ...   1908.0       peace   \n",
       "508                          Sweden              SE  ...   1921.0       peace   \n",
       "518                          Sweden              SE  ...   1930.0       peace   \n",
       "543  Northern Rhodesia (now Zambia)              ZM  ...   1961.0       peace   \n",
       "563                          Sweden              SE  ...   1982.0       peace   \n",
       "598                          Sweden              SE  ...   1909.0  literature   \n",
       "604                          Sweden              SE  ...   1916.0  literature   \n",
       "619                          Sweden              SE  ...   1931.0  literature   \n",
       "634                          Sweden              SE  ...   1951.0  literature   \n",
       "658                          Sweden              SE  ...   1974.0  literature   \n",
       "659                          Sweden              SE  ...   1974.0  literature   \n",
       "692                          Sweden              SE  ...   1974.0   economics   \n",
       "697                          Sweden              SE  ...   1977.0   economics   \n",
       "731                             NaN             NaN  ...   2000.0    medicine   \n",
       "893                          Sweden              SE  ...   2011.0  literature   \n",
       "956                             NaN             NaN  ...   2015.0   chemistry   \n",
       "\n",
       "     overallMotivation share  \\\n",
       "16                 NaN   1.0   \n",
       "28                 NaN   1.0   \n",
       "95                 NaN   2.0   \n",
       "124                NaN   2.0   \n",
       "168                NaN   1.0   \n",
       "187                NaN   1.0   \n",
       "217                NaN   1.0   \n",
       "320                NaN   1.0   \n",
       "378                NaN   1.0   \n",
       "415                NaN   3.0   \n",
       "445                NaN   4.0   \n",
       "446                NaN   3.0   \n",
       "447                NaN   3.0   \n",
       "494                NaN   2.0   \n",
       "508                NaN   2.0   \n",
       "518                NaN   1.0   \n",
       "543                NaN   1.0   \n",
       "563                NaN   2.0   \n",
       "598                NaN   1.0   \n",
       "604                NaN   1.0   \n",
       "619                NaN   1.0   \n",
       "634                NaN   1.0   \n",
       "658                NaN   2.0   \n",
       "659                NaN   2.0   \n",
       "692                NaN   2.0   \n",
       "697                NaN   2.0   \n",
       "731                NaN   3.0   \n",
       "893                NaN   1.0   \n",
       "956                NaN   3.0   \n",
       "\n",
       "                                            motivation  \\\n",
       "16   \"for his invention of automatic regulators for...   \n",
       "28   \"for his discoveries and research in the field...   \n",
       "95   \"for fundamental work and discoveries in magne...   \n",
       "124  \"for his contribution to the development of hi...   \n",
       "168  \"in recognition of the extraordinary services ...   \n",
       "187                 \"for his work on disperse systems\"   \n",
       "217  \"for his research on electrophoresis and adsor...   \n",
       "320         \"for his work on the dioptrics of the eye\"   \n",
       "378  \"for his discoveries concerning the nature and...   \n",
       "415  \"for their discoveries concerning the humoral ...   \n",
       "445  \"for their discoveries concerning information ...   \n",
       "446  \"for their discoveries concerning prostaglandi...   \n",
       "447  \"for their discoveries concerning prostaglandi...   \n",
       "494                                                NaN   \n",
       "508                                                NaN   \n",
       "518                                                NaN   \n",
       "543                                                NaN   \n",
       "563                                                NaN   \n",
       "598  \"in appreciation of the lofty idealism, vivid ...   \n",
       "604  \"in recognition of his significance as the lea...   \n",
       "619                \"The poetry of Erik Axel Karlfeldt\"   \n",
       "634  \"for the artistic vigour and true independence...   \n",
       "658  \"for a narrative art, far-seeing in lands and ...   \n",
       "659  \"for writings that catch the dewdrop and refle...   \n",
       "692  \"for their pioneering work in the theory of mo...   \n",
       "697  \"for their pathbreaking contribution to the th...   \n",
       "731  \"for their discoveries concerning signal trans...   \n",
       "893  \"because, through his condensed, translucent i...   \n",
       "956            \"for mechanistic studies of DNA repair\"   \n",
       "\n",
       "                                               name               city  \\\n",
       "16                      Swedish Gas-Accumulator Co.  Lidingö-Stockholm   \n",
       "28                               Uppsala University            Uppsala   \n",
       "95                    Royal Institute of Technology          Stockholm   \n",
       "124                              Uppsala University            Uppsala   \n",
       "168                            Stockholm University          Stockholm   \n",
       "187                              Uppsala University            Uppsala   \n",
       "217                              Uppsala University            Uppsala   \n",
       "320                              Uppsala University            Uppsala   \n",
       "378  Karolinska Institutet, Nobel Medical Institute          Stockholm   \n",
       "415                           Karolinska Institutet          Stockholm   \n",
       "445                          Harvard Medical School         Boston, MA   \n",
       "446                           Karolinska Institutet          Stockholm   \n",
       "447                           Karolinska Institutet          Stockholm   \n",
       "494                                             NaN                NaN   \n",
       "508                                             NaN                NaN   \n",
       "518                                             NaN                NaN   \n",
       "543                                             NaN                NaN   \n",
       "563                                             NaN                NaN   \n",
       "598                                             NaN                NaN   \n",
       "604                                             NaN                NaN   \n",
       "619                                             NaN                NaN   \n",
       "634                                             NaN                NaN   \n",
       "658                                             NaN                NaN   \n",
       "659                                             NaN                NaN   \n",
       "692                                             NaN                NaN   \n",
       "697                   Stockholm School of Economics          Stockholm   \n",
       "731                             Göteborg University         Gothenburg   \n",
       "893                                             NaN                NaN   \n",
       "956                         Francis Crick Institute      Hertfordshire   \n",
       "\n",
       "            country number   age  \n",
       "16           Sweden      1  43.0  \n",
       "28           Sweden      1  38.0  \n",
       "95           Sweden      1  62.0  \n",
       "124          Sweden      1  63.0  \n",
       "168          Sweden      1  44.0  \n",
       "187          Sweden      1  42.0  \n",
       "217          Sweden      1  46.0  \n",
       "320          Sweden      1  49.0  \n",
       "378          Sweden      1  52.0  \n",
       "415          Sweden      1  65.0  \n",
       "445             USA      1  57.0  \n",
       "446          Sweden      1  66.0  \n",
       "447          Sweden      1  48.0  \n",
       "494             NaN      1  64.0  \n",
       "508             NaN      1  61.0  \n",
       "518             NaN      1  64.0  \n",
       "543             NaN      1  56.0  \n",
       "563             NaN      1  80.0  \n",
       "598             NaN      1  51.0  \n",
       "604             NaN      1  57.0  \n",
       "619             NaN      1  67.0  \n",
       "634             NaN      1  60.0  \n",
       "658             NaN      1  74.0  \n",
       "659             NaN      1  70.0  \n",
       "692             NaN      1  76.0  \n",
       "697          Sweden      1  78.0  \n",
       "731          Sweden      1  77.0  \n",
       "893             NaN      1  80.0  \n",
       "956  United Kingdom      1  77.0  \n",
       "\n",
       "[29 rows x 22 columns]"
      ]
     },
     "execution_count": 26,
     "metadata": {},
     "output_type": "execute_result"
    }
   ],
   "source": [
    "nobel.loc[nobel['bornCountry'] == \"Sweden\"]"
   ]
  },
  {
   "cell_type": "markdown",
   "metadata": {},
   "source": [
    "We move on. Let's extract four countries and generate some plots"
   ]
  },
  {
   "cell_type": "code",
   "execution_count": 27,
   "metadata": {
    "collapsed": true
   },
   "outputs": [],
   "source": [
    "countries = np.array([\"France\", \"USA\", \"United Kingdom\", \"Sweden\"])"
   ]
  },
  {
   "cell_type": "code",
   "execution_count": 28,
   "metadata": {
    "collapsed": true
   },
   "outputs": [],
   "source": [
    "nobel2 = nobel.loc[nobel['bornCountry'].isin(countries)]"
   ]
  },
  {
   "cell_type": "markdown",
   "metadata": {},
   "source": [
    "We now group by both `bornCountry` and `category`"
   ]
  },
  {
   "cell_type": "code",
   "execution_count": 29,
   "metadata": {},
   "outputs": [
    {
     "data": {
      "text/plain": [
       "bornCountry     category  \n",
       "France          chemistry     10\n",
       "                economics      3\n",
       "                literature    11\n",
       "                medicine      12\n",
       "                peace          9\n",
       "                physics        8\n",
       "Sweden          chemistry      4\n",
       "                economics      2\n",
       "                literature     7\n",
       "                medicine       7\n",
       "                peace          5\n",
       "                physics        4\n",
       "USA             chemistry     56\n",
       "                economics     47\n",
       "                literature     9\n",
       "                medicine      74\n",
       "                peace         19\n",
       "                physics       70\n",
       "United Kingdom  chemistry     22\n",
       "                economics      7\n",
       "                literature     6\n",
       "                medicine      26\n",
       "                peace          5\n",
       "                physics       22\n",
       "Name: number, dtype: int64"
      ]
     },
     "execution_count": 29,
     "metadata": {},
     "output_type": "execute_result"
    }
   ],
   "source": [
    "nobels_by_country2 = nobel2.groupby(['bornCountry',\"category\"],sort=True).sum()\n",
    "nobels_by_country2[\"number\"].head(50)"
   ]
  },
  {
   "cell_type": "markdown",
   "metadata": {},
   "source": [
    "We can reshape the `DataFrame` a bit using the pivot_table method to create a spreadsheet-like representation"
   ]
  },
  {
   "cell_type": "code",
   "execution_count": 30,
   "metadata": {},
   "outputs": [
    {
     "data": {
      "text/html": [
       "<div>\n",
       "<style>\n",
       "    .dataframe thead tr:only-child th {\n",
       "        text-align: right;\n",
       "    }\n",
       "\n",
       "    .dataframe thead th {\n",
       "        text-align: left;\n",
       "    }\n",
       "\n",
       "    .dataframe tbody tr th {\n",
       "        vertical-align: top;\n",
       "    }\n",
       "</style>\n",
       "<table border=\"1\" class=\"dataframe\">\n",
       "  <thead>\n",
       "    <tr style=\"text-align: right;\">\n",
       "      <th>category</th>\n",
       "      <th>chemistry</th>\n",
       "      <th>economics</th>\n",
       "      <th>literature</th>\n",
       "      <th>medicine</th>\n",
       "      <th>peace</th>\n",
       "      <th>physics</th>\n",
       "    </tr>\n",
       "    <tr>\n",
       "      <th>bornCountry</th>\n",
       "      <th></th>\n",
       "      <th></th>\n",
       "      <th></th>\n",
       "      <th></th>\n",
       "      <th></th>\n",
       "      <th></th>\n",
       "    </tr>\n",
       "  </thead>\n",
       "  <tbody>\n",
       "    <tr>\n",
       "      <th>France</th>\n",
       "      <td>10</td>\n",
       "      <td>3</td>\n",
       "      <td>11</td>\n",
       "      <td>12</td>\n",
       "      <td>9</td>\n",
       "      <td>8</td>\n",
       "    </tr>\n",
       "    <tr>\n",
       "      <th>Sweden</th>\n",
       "      <td>4</td>\n",
       "      <td>2</td>\n",
       "      <td>7</td>\n",
       "      <td>7</td>\n",
       "      <td>5</td>\n",
       "      <td>4</td>\n",
       "    </tr>\n",
       "    <tr>\n",
       "      <th>USA</th>\n",
       "      <td>56</td>\n",
       "      <td>47</td>\n",
       "      <td>9</td>\n",
       "      <td>74</td>\n",
       "      <td>19</td>\n",
       "      <td>70</td>\n",
       "    </tr>\n",
       "    <tr>\n",
       "      <th>United Kingdom</th>\n",
       "      <td>22</td>\n",
       "      <td>7</td>\n",
       "      <td>6</td>\n",
       "      <td>26</td>\n",
       "      <td>5</td>\n",
       "      <td>22</td>\n",
       "    </tr>\n",
       "  </tbody>\n",
       "</table>\n",
       "</div>"
      ],
      "text/plain": [
       "category        chemistry  economics  literature  medicine  peace  physics\n",
       "bornCountry                                                               \n",
       "France                 10          3          11        12      9        8\n",
       "Sweden                  4          2           7         7      5        4\n",
       "USA                    56         47           9        74     19       70\n",
       "United Kingdom         22          7           6        26      5       22"
      ]
     },
     "execution_count": 30,
     "metadata": {},
     "output_type": "execute_result"
    }
   ],
   "source": [
    "table = nobel2.pivot_table(values=\"number\",index=\"bornCountry\", columns=\"category\",aggfunc=np.sum)\n",
    "table"
   ]
  },
  {
   "cell_type": "markdown",
   "metadata": {},
   "source": [
    "This representation can be used to make a heatmap visualization"
   ]
  },
  {
   "cell_type": "markdown",
   "metadata": {},
   "source": [
    "### <font color=\"red\"> *Exercise 2.1* </font>\n",
    "\n",
    "Gripped by literally morbid curiosity you want to know where Nobel laureates died and presumably are buried.\n",
    "\n",
    "Group the laureates by country of death, use `sort_values` function of pandas.DataFrame to sort them in ascending order and select the 5 countries with most deaths.\n"
   ]
  },
  {
   "cell_type": "code",
   "execution_count": 31,
   "metadata": {},
   "outputs": [
    {
     "data": {
      "text/plain": [
       "diedCountry\n",
       "USA               208\n",
       "United Kingdom     74\n",
       "France             52\n",
       "Germany            35\n",
       "Sweden             28\n",
       "Name: number, dtype: int64"
      ]
     },
     "execution_count": 31,
     "metadata": {},
     "output_type": "execute_result"
    }
   ],
   "source": [
    "nobels_by_country_of_death = nobel.groupby('diedCountry',sort=True)[\"number\"].sum()\n",
    "nobels_by_country_of_death.sort_values(ascending=False).head(5)"
   ]
  },
  {
   "cell_type": "markdown",
   "metadata": {},
   "source": [
    "### Single country statistics - filter\n",
    "\n",
    "Often the characteristics of a single subset are interesting.\n",
    "\n",
    "To do this we usually use some Python syntax that may look a bit strange at first. \n",
    "\n",
    "See what the following command produces. The `.head(5)` is just there to limit the results to the first 5."
   ]
  },
  {
   "cell_type": "code",
   "execution_count": 32,
   "metadata": {},
   "outputs": [
    {
     "data": {
      "text/plain": [
       "0    False\n",
       "1     True\n",
       "2     True\n",
       "3    False\n",
       "4    False\n",
       "Name: bornCountryCode, dtype: bool"
      ]
     },
     "execution_count": 32,
     "metadata": {},
     "output_type": "execute_result"
    }
   ],
   "source": [
    "nobel.head(5)[\"bornCountryCode\"] == \"NL\""
   ]
  },
  {
   "cell_type": "markdown",
   "metadata": {},
   "source": [
    "It uses some Python syntactic sugar to create a Series of boolean variables, True for the rows for which `[\"bornCountryCode\"] == \"NL\"` is true and False for the rest.\n",
    "\n",
    "If we pass this Series back to the DataFrame using the []-brackets we get all those rows from the DataFrame that were True in the Series"
   ]
  },
  {
   "cell_type": "code",
   "execution_count": 33,
   "metadata": {
    "collapsed": true
   },
   "outputs": [],
   "source": [
    "dutch_nobelists = nobel[nobel[\"bornCountryCode\"] == \"NL\"]"
   ]
  },
  {
   "cell_type": "markdown",
   "metadata": {},
   "source": [
    "It is also possible to combine the clauses for more complex filters/queries."
   ]
  },
  {
   "cell_type": "code",
   "execution_count": 34,
   "metadata": {
    "collapsed": true
   },
   "outputs": [],
   "source": [
    "born_and_died_in_sweden = nobel[(nobel[\"bornCountryCode\"] == \"SE\") \n",
    "                                & (nobel[\"diedCountryCode\"] == \"SE\")]\n"
   ]
  },
  {
   "cell_type": "markdown",
   "metadata": {},
   "source": [
    "### <font color=\"red\"> *Exercise 2.2* </font>\n",
    "\n",
    "Find out which Swedish Nobel prize winner did not die in Sweden.\n",
    "\n",
    "Hints: \n",
    "- the change is a very minor one, don't think too complicated\n",
    "- a NaN means that either the person is still alive or their place of death isn't known)\n",
    " - the `dropna` function can help you filter those but that is not strictly necessary\n"
   ]
  },
  {
   "cell_type": "code",
   "execution_count": 35,
   "metadata": {
    "collapsed": true
   },
   "outputs": [],
   "source": [
    "#write your answer here\n"
   ]
  },
  {
   "cell_type": "markdown",
   "metadata": {},
   "source": [
    "### Visualizing data with seaborn"
   ]
  },
  {
   "cell_type": "code",
   "execution_count": 36,
   "metadata": {},
   "outputs": [
    {
     "data": {
      "image/png": "[encoded data removed]",
      "text/plain": [
       "<matplotlib.figure.Figure at 0x10c82dcd0>"
      ]
     },
     "metadata": {},
     "output_type": "display_data"
    }
   ],
   "source": [
    "sns.heatmap(table,linewidths=.5, annot=True);"
   ]
  },
  {
   "cell_type": "markdown",
   "metadata": {},
   "source": [
    "Violin plots can reveal trends (but are not very quantitative)"
   ]
  },
  {
   "cell_type": "code",
   "execution_count": 37,
   "metadata": {
    "scrolled": true
   },
   "outputs": [
    {
     "data": {
      "image/png": "[encoded data removed]",
      "text/plain": [
       "<matplotlib.figure.Figure at 0x10ca947d0>"
      ]
     },
     "metadata": {},
     "output_type": "display_data"
    }
   ],
   "source": [
    "sns.violinplot(y=\"year\", x=\"bornCountry\",inner=\"stick\", data=nobel2);"
   ]
  },
  {
   "cell_type": "markdown",
   "metadata": {},
   "source": [
    "We can also use multiple conditions. Let's extract only physics prizes"
   ]
  },
  {
   "cell_type": "code",
   "execution_count": 38,
   "metadata": {},
   "outputs": [
    {
     "data": {
      "image/png": "[encoded data removed]",
      "text/plain": [
       "<matplotlib.figure.Figure at 0x10c3fce50>"
      ]
     },
     "metadata": {},
     "output_type": "display_data"
    }
   ],
   "source": [
    "nobel3 = nobel.loc[nobel['bornCountry'].isin(countries) & nobel['category'].isin(['physics'])]\n",
    "sns.violinplot(y=\"year\", x=\"bornCountry\",inner=\"stick\", data=nobel3);"
   ]
  },
  {
   "cell_type": "markdown",
   "metadata": {},
   "source": [
    "Swarmplots display categorical scatterplots with non-overlapping points"
   ]
  },
  {
   "cell_type": "code",
   "execution_count": 39,
   "metadata": {},
   "outputs": [
    {
     "data": {
      "image/png": "[encoded data removed]",
      "text/plain": [
       "<matplotlib.figure.Figure at 0x1100a93d0>"
      ]
     },
     "metadata": {},
     "output_type": "display_data"
    }
   ],
   "source": [
    "sns.swarmplot(y=\"year\", x=\"bornCountry\", data=nobel2, alpha=.5);"
   ]
  },
  {
   "cell_type": "code",
   "execution_count": 40,
   "metadata": {},
   "outputs": [
    {
     "data": {
      "image/png": "[encoded data removed]",
      "text/plain": [
       "<matplotlib.figure.Figure at 0x110ea4690>"
      ]
     },
     "metadata": {},
     "output_type": "display_data"
    }
   ],
   "source": [
    "sns.factorplot(x=\"bornCountry\", y=\"year\", col=\"category\", data=nobel2, kind=\"swarm\");"
   ]
  },
  {
   "cell_type": "code",
   "execution_count": 41,
   "metadata": {},
   "outputs": [
    {
     "data": {
      "image/png": "[encoded data removed]",
      "text/plain": [
       "<matplotlib.figure.Figure at 0x110cf6510>"
      ]
     },
     "metadata": {},
     "output_type": "display_data"
    }
   ],
   "source": [
    "sns.factorplot(x=\"bornCountry\", col=\"category\", data=nobel2, kind=\"count\");"
   ]
  },
  {
   "cell_type": "markdown",
   "metadata": {},
   "source": [
    "Seaborn uses a variant of the The Grammar of Graphics, on which most famously simple graphics libraries are based. This is beyond the scope of this notebook though."
   ]
  },
  {
   "cell_type": "markdown",
   "metadata": {},
   "source": [
    "### Other visualization packages\n",
    "* [Plotly](https://plot.ly/) - commercial online service for creating and sharing visualizations in notebooks\n",
    "* [Bokeh](http://bokeh.pydata.org/en/latest/) - web-based, general-purpose and fast visualization toolkit\n",
    "* [mpld3](http://mpld3.github.io/examples/index.html) - must be seen..."
   ]
  },
  {
   "cell_type": "markdown",
   "metadata": {},
   "source": [
    "# Tidy Data"
   ]
  },
  {
   "cell_type": "markdown",
   "metadata": {},
   "source": [
    "You may have observed that the data analysis seemed ridiculously easy in the example. This is in fact quite true, because the data was already **in the right format**.\n",
    "\n",
    "It is said that 80% of a data analysts time is spent on the gritty details of understanding data and getting it  to the right format and the other 20% on the actual analysis.\n",
    "\n",
    "Both Pandas in Python and the Tidyverse packages in R ascribe to the concept of **tidy** data as presented by Hadley Wickham. The original article on it can be found [here](https://www.jstatsoft.org/article/view/v059i10) and is worth a read.\n",
    "\n",
    "To summarize data is tidy when\n",
    "\n",
    "1. each variable forms a column\n",
    "2. each observation forms a row\n",
    "3. each type of observational unit forms a table\n",
    "\n",
    "What an observation is and what a variable is depend on the semantics of the analytics question you are facing.\n"
   ]
  },
  {
   "cell_type": "markdown",
   "metadata": {},
   "source": [
    "## Melting\n",
    "\n",
    "Let's assume we have some run time statistics from a 1500 m running event.\n",
    "\n",
    "| Runner   | 400m | 800m | 1200m | 1500m |\n",
    "|----------|------|------|-------|-------|\n",
    "| Runner 1 | 64   | 128  | 192   | 240   |\n",
    "| Runner 2 | 80   | 160  | 240   | 300   |\n",
    "| Runner 3 | 96   | 192  | 288   | 360   |\n",
    "\n",
    "This is a classical table generated for displaying information. The issue here is that the column names 400m, 800m, 1200m and 1500m are, in fact variables.\n",
    "\n",
    "To tidy the data we'd like it to be in the following format.\n",
    "\n",
    "| Runner   | distance | time(s) |\n",
    "|----------|----------|---------|\n",
    "| Runner 1 | 400m     | 64      |\n",
    "| Runner 1 | 800m     | 128     |\n",
    "| ....     | ...      | ...     |\n",
    "\n",
    "That way we can perform  aggregate operations on it, particularly we can **filter**  and **group** the data set. The data is also in a format where it is possible to model relationships between variables."
   ]
  },
  {
   "cell_type": "code",
   "execution_count": 42,
   "metadata": {},
   "outputs": [
    {
     "data": {
      "text/html": [
       "<div>\n",
       "<style>\n",
       "    .dataframe thead tr:only-child th {\n",
       "        text-align: right;\n",
       "    }\n",
       "\n",
       "    .dataframe thead th {\n",
       "        text-align: left;\n",
       "    }\n",
       "\n",
       "    .dataframe tbody tr th {\n",
       "        vertical-align: top;\n",
       "    }\n",
       "</style>\n",
       "<table border=\"1\" class=\"dataframe\">\n",
       "  <thead>\n",
       "    <tr style=\"text-align: right;\">\n",
       "      <th></th>\n",
       "      <th>400</th>\n",
       "      <th>800</th>\n",
       "      <th>1200</th>\n",
       "      <th>1500</th>\n",
       "      <th>Runner</th>\n",
       "    </tr>\n",
       "  </thead>\n",
       "  <tbody>\n",
       "    <tr>\n",
       "      <th>0</th>\n",
       "      <td>64</td>\n",
       "      <td>128</td>\n",
       "      <td>192</td>\n",
       "      <td>240</td>\n",
       "      <td>Runner 1</td>\n",
       "    </tr>\n",
       "    <tr>\n",
       "      <th>1</th>\n",
       "      <td>80</td>\n",
       "      <td>160</td>\n",
       "      <td>240</td>\n",
       "      <td>300</td>\n",
       "      <td>Runner 2</td>\n",
       "    </tr>\n",
       "    <tr>\n",
       "      <th>2</th>\n",
       "      <td>96</td>\n",
       "      <td>192</td>\n",
       "      <td>288</td>\n",
       "      <td>360</td>\n",
       "      <td>Runner 3</td>\n",
       "    </tr>\n",
       "  </tbody>\n",
       "</table>\n",
       "</div>"
      ],
      "text/plain": [
       "   400  800  1200  1500    Runner\n",
       "0   64  128   192   240  Runner 1\n",
       "1   80  160   240   300  Runner 2\n",
       "2   96  192   288   360  Runner 3"
      ]
     },
     "execution_count": 42,
     "metadata": {},
     "output_type": "execute_result"
    }
   ],
   "source": [
    "df = pd.DataFrame([\n",
    "        {'Runner': 'Runner 1', 400: 64, 800: 128, 1200: 192, 1500: 240},\n",
    "        {'Runner': 'Runner 2', 400: 80, 800: 160, 1200: 240, 1500: 300},\n",
    "        {'Runner': 'Runner 3', 400: 96, 800: 192, 1200: 288, 1500: 360},\n",
    "         ])\n",
    "df"
   ]
  },
  {
   "cell_type": "code",
   "execution_count": 43,
   "metadata": {},
   "outputs": [
    {
     "data": {
      "text/html": [
       "<div>\n",
       "<style>\n",
       "    .dataframe thead tr:only-child th {\n",
       "        text-align: right;\n",
       "    }\n",
       "\n",
       "    .dataframe thead th {\n",
       "        text-align: left;\n",
       "    }\n",
       "\n",
       "    .dataframe tbody tr th {\n",
       "        vertical-align: top;\n",
       "    }\n",
       "</style>\n",
       "<table border=\"1\" class=\"dataframe\">\n",
       "  <thead>\n",
       "    <tr style=\"text-align: right;\">\n",
       "      <th></th>\n",
       "      <th>Runner</th>\n",
       "      <th>distance</th>\n",
       "      <th>time</th>\n",
       "    </tr>\n",
       "  </thead>\n",
       "  <tbody>\n",
       "    <tr>\n",
       "      <th>0</th>\n",
       "      <td>Runner 1</td>\n",
       "      <td>400</td>\n",
       "      <td>64</td>\n",
       "    </tr>\n",
       "    <tr>\n",
       "      <th>1</th>\n",
       "      <td>Runner 2</td>\n",
       "      <td>400</td>\n",
       "      <td>80</td>\n",
       "    </tr>\n",
       "    <tr>\n",
       "      <th>2</th>\n",
       "      <td>Runner 3</td>\n",
       "      <td>400</td>\n",
       "      <td>96</td>\n",
       "    </tr>\n",
       "    <tr>\n",
       "      <th>3</th>\n",
       "      <td>Runner 1</td>\n",
       "      <td>800</td>\n",
       "      <td>128</td>\n",
       "    </tr>\n",
       "    <tr>\n",
       "      <th>4</th>\n",
       "      <td>Runner 2</td>\n",
       "      <td>800</td>\n",
       "      <td>160</td>\n",
       "    </tr>\n",
       "    <tr>\n",
       "      <th>5</th>\n",
       "      <td>Runner 3</td>\n",
       "      <td>800</td>\n",
       "      <td>192</td>\n",
       "    </tr>\n",
       "    <tr>\n",
       "      <th>6</th>\n",
       "      <td>Runner 1</td>\n",
       "      <td>1200</td>\n",
       "      <td>192</td>\n",
       "    </tr>\n",
       "    <tr>\n",
       "      <th>7</th>\n",
       "      <td>Runner 2</td>\n",
       "      <td>1200</td>\n",
       "      <td>240</td>\n",
       "    </tr>\n",
       "    <tr>\n",
       "      <th>8</th>\n",
       "      <td>Runner 3</td>\n",
       "      <td>1200</td>\n",
       "      <td>288</td>\n",
       "    </tr>\n",
       "    <tr>\n",
       "      <th>9</th>\n",
       "      <td>Runner 1</td>\n",
       "      <td>1500</td>\n",
       "      <td>240</td>\n",
       "    </tr>\n",
       "    <tr>\n",
       "      <th>10</th>\n",
       "      <td>Runner 2</td>\n",
       "      <td>1500</td>\n",
       "      <td>300</td>\n",
       "    </tr>\n",
       "    <tr>\n",
       "      <th>11</th>\n",
       "      <td>Runner 3</td>\n",
       "      <td>1500</td>\n",
       "      <td>360</td>\n",
       "    </tr>\n",
       "  </tbody>\n",
       "</table>\n",
       "</div>"
      ],
      "text/plain": [
       "      Runner distance  time\n",
       "0   Runner 1      400    64\n",
       "1   Runner 2      400    80\n",
       "2   Runner 3      400    96\n",
       "3   Runner 1      800   128\n",
       "4   Runner 2      800   160\n",
       "5   Runner 3      800   192\n",
       "6   Runner 1     1200   192\n",
       "7   Runner 2     1200   240\n",
       "8   Runner 3     1200   288\n",
       "9   Runner 1     1500   240\n",
       "10  Runner 2     1500   300\n",
       "11  Runner 3     1500   360"
      ]
     },
     "execution_count": 43,
     "metadata": {},
     "output_type": "execute_result"
    }
   ],
   "source": [
    "df = pd.melt(df, id_vars=\"Runner\", \n",
    "             value_vars=[400, 800, 1200, 1500], \n",
    "             var_name=\"distance\", \n",
    "             value_name=\"time\"\n",
    "            )\n",
    "df"
   ]
  },
  {
   "cell_type": "markdown",
   "metadata": {},
   "source": [
    "Now, to e.g. compute the time spent on each interval, we c"
   ]
  },
  {
   "cell_type": "code",
   "execution_count": 44,
   "metadata": {},
   "outputs": [
    {
     "data": {
      "text/plain": [
       "0      NaN\n",
       "1      NaN\n",
       "2      NaN\n",
       "3     64.0\n",
       "4     80.0\n",
       "5     96.0\n",
       "6     64.0\n",
       "7     80.0\n",
       "8     96.0\n",
       "9     48.0\n",
       "10    60.0\n",
       "11    72.0\n",
       "Name: time, dtype: float64"
      ]
     },
     "execution_count": 44,
     "metadata": {},
     "output_type": "execute_result"
    }
   ],
   "source": [
    "df.sort_values(\"distance\").groupby(\"Runner\").time.diff()"
   ]
  },
  {
   "cell_type": "markdown",
   "metadata": {},
   "source": [
    "## Merging\n",
    "\n",
    "The database world has the concept of joins and tidy data sometimes needs to be joined as well to create a larger DataFrame with redundant data.\n",
    "\n",
    "In Pandas the function to do this is called `merge`."
   ]
  },
  {
   "cell_type": "code",
   "execution_count": 46,
   "metadata": {
    "collapsed": true
   },
   "outputs": [],
   "source": [
    "orders = pd.DataFrame([\n",
    "        {\"Person\": \"Dick\", \"Pizza\": \"Pepperoni\"},\n",
    "        {\"Person\": \"Tom\", \"Pizza\": \"Hawaii\"},\n",
    "        {\"Person\": \"Harry\", \"Pizza\": \"Capricciosa\"}])\n",
    "\n",
    "toppings = pd.DataFrame([\n",
    "        {\"Pizza\": \"Pepperoni\", \"Ingredient 1\": \"Pepperoni\", \"Ingredient 2\": \"Cheese\"},\n",
    "        {\"Pizza\": \"Margherita\", \"Ingredient 1\": \"Cheese\", \"Ingredient 2\": \"Tomato\"},\n",
    "        {\"Pizza\": \"Hawaii\", \"Ingredient 1\": \"Ham\", \"Ingredient 2\": \"Pineapple\"},\n",
    "        {\"Pizza\": \"Capricciosa\", \"Ingredient 1\": \"Mushrooms\", \"Ingredient 2\": \"Ham\"},\n",
    "])\n",
    "    "
   ]
  },
  {
   "cell_type": "code",
   "execution_count": 47,
   "metadata": {},
   "outputs": [
    {
     "data": {
      "text/html": [
       "<div>\n",
       "<style>\n",
       "    .dataframe thead tr:only-child th {\n",
       "        text-align: right;\n",
       "    }\n",
       "\n",
       "    .dataframe thead th {\n",
       "        text-align: left;\n",
       "    }\n",
       "\n",
       "    .dataframe tbody tr th {\n",
       "        vertical-align: top;\n",
       "    }\n",
       "</style>\n",
       "<table border=\"1\" class=\"dataframe\">\n",
       "  <thead>\n",
       "    <tr style=\"text-align: right;\">\n",
       "      <th></th>\n",
       "      <th>Person</th>\n",
       "      <th>Pizza</th>\n",
       "      <th>Ingredient 1</th>\n",
       "      <th>Ingredient 2</th>\n",
       "    </tr>\n",
       "  </thead>\n",
       "  <tbody>\n",
       "    <tr>\n",
       "      <th>0</th>\n",
       "      <td>Dick</td>\n",
       "      <td>Pepperoni</td>\n",
       "      <td>Pepperoni</td>\n",
       "      <td>Cheese</td>\n",
       "    </tr>\n",
       "    <tr>\n",
       "      <th>1</th>\n",
       "      <td>Tom</td>\n",
       "      <td>Hawaii</td>\n",
       "      <td>Ham</td>\n",
       "      <td>Pineapple</td>\n",
       "    </tr>\n",
       "    <tr>\n",
       "      <th>2</th>\n",
       "      <td>Harry</td>\n",
       "      <td>Capricciosa</td>\n",
       "      <td>Mushrooms</td>\n",
       "      <td>Ham</td>\n",
       "    </tr>\n",
       "  </tbody>\n",
       "</table>\n",
       "</div>"
      ],
      "text/plain": [
       "  Person        Pizza Ingredient 1 Ingredient 2\n",
       "0   Dick    Pepperoni    Pepperoni       Cheese\n",
       "1    Tom       Hawaii          Ham    Pineapple\n",
       "2  Harry  Capricciosa    Mushrooms          Ham"
      ]
     },
     "execution_count": 47,
     "metadata": {},
     "output_type": "execute_result"
    }
   ],
   "source": [
    "person_toppings = orders.merge(toppings, on=\"Pizza\")\n",
    "person_toppings"
   ]
  },
  {
   "cell_type": "markdown",
   "metadata": {},
   "source": [
    "The default join type is an **inner** join. We could also do a **left**, **outer** or **right** join.\n",
    "\n",
    "If the concepts are not familiar don't worry, you'll run across them sooner or later."
   ]
  },
  {
   "cell_type": "code",
   "execution_count": 48,
   "metadata": {},
   "outputs": [
    {
     "data": {
      "text/html": [
       "<div>\n",
       "<style>\n",
       "    .dataframe thead tr:only-child th {\n",
       "        text-align: right;\n",
       "    }\n",
       "\n",
       "    .dataframe thead th {\n",
       "        text-align: left;\n",
       "    }\n",
       "\n",
       "    .dataframe tbody tr th {\n",
       "        vertical-align: top;\n",
       "    }\n",
       "</style>\n",
       "<table border=\"1\" class=\"dataframe\">\n",
       "  <thead>\n",
       "    <tr style=\"text-align: right;\">\n",
       "      <th></th>\n",
       "      <th>Person</th>\n",
       "      <th>Pizza</th>\n",
       "      <th>Ingredient 1</th>\n",
       "      <th>Ingredient 2</th>\n",
       "    </tr>\n",
       "  </thead>\n",
       "  <tbody>\n",
       "    <tr>\n",
       "      <th>0</th>\n",
       "      <td>Dick</td>\n",
       "      <td>Pepperoni</td>\n",
       "      <td>Pepperoni</td>\n",
       "      <td>Cheese</td>\n",
       "    </tr>\n",
       "    <tr>\n",
       "      <th>1</th>\n",
       "      <td>Tom</td>\n",
       "      <td>Hawaii</td>\n",
       "      <td>Ham</td>\n",
       "      <td>Pineapple</td>\n",
       "    </tr>\n",
       "    <tr>\n",
       "      <th>2</th>\n",
       "      <td>Harry</td>\n",
       "      <td>Capricciosa</td>\n",
       "      <td>Mushrooms</td>\n",
       "      <td>Ham</td>\n",
       "    </tr>\n",
       "    <tr>\n",
       "      <th>3</th>\n",
       "      <td>NaN</td>\n",
       "      <td>Margherita</td>\n",
       "      <td>Cheese</td>\n",
       "      <td>Tomato</td>\n",
       "    </tr>\n",
       "  </tbody>\n",
       "</table>\n",
       "</div>"
      ],
      "text/plain": [
       "  Person        Pizza Ingredient 1 Ingredient 2\n",
       "0   Dick    Pepperoni    Pepperoni       Cheese\n",
       "1    Tom       Hawaii          Ham    Pineapple\n",
       "2  Harry  Capricciosa    Mushrooms          Ham\n",
       "3    NaN   Margherita       Cheese       Tomato"
      ]
     },
     "execution_count": 48,
     "metadata": {},
     "output_type": "execute_result"
    }
   ],
   "source": [
    "orders.merge(toppings, on=\"Pizza\", how=\"outer\")\n"
   ]
  },
  {
   "cell_type": "markdown",
   "metadata": {},
   "source": [
    "### <font color=\"red\"> *Exercise 2.3* </font>\n",
    "The abovementioned pizza data is not yet **tidy** because the column labels \"Ingredient 1\" and \"Ingredient 2\" are in fact priority values.\n",
    "\n",
    "Make a tidy version of person_toppings. Who have ordered pizzas that have ham in it?"
   ]
  },
  {
   "cell_type": "code",
   "execution_count": null,
   "metadata": {
    "collapsed": true
   },
   "outputs": [],
   "source": []
  },
  {
   "cell_type": "markdown",
   "metadata": {},
   "source": [
    "## Other concepts\n",
    "\n",
    "This tutorial does not aim to be complete. We only have enough time to show you the way.\n",
    "\n",
    "Other important concepts for tidying data are\n",
    "* **splitting** data when a single column holds multiple variables\n",
    " * e.g. \"male10-18\" contains two variables, gender and age group\n",
    "* parsing dates, timestamps and other nontrivial datums\n"
   ]
  },
  {
   "cell_type": "markdown",
   "metadata": {
    "collapsed": true
   },
   "source": [
    "## Other types of media"
   ]
  },
  {
   "cell_type": "code",
   "execution_count": 49,
   "metadata": {},
   "outputs": [
    {
     "data": {
      "image/jpeg": "[encoded data removed]",
      "text/html": [
       "\n",
       "        <iframe\n",
       "            width=\"400\"\n",
       "            height=\"300\"\n",
       "            src=\"https://www.youtube.com/embed/j9YpkSX7NNM\"\n",
       "            frameborder=\"0\"\n",
       "            allowfullscreen\n",
       "        ></iframe>\n",
       "        "
      ],
      "text/plain": [
       "<IPython.lib.display.YouTubeVideo at 0x1100b36d0>"
      ]
     },
     "execution_count": 49,
     "metadata": {},
     "output_type": "execute_result"
    }
   ],
   "source": [
    "from IPython.display import YouTubeVideo\n",
    "YouTubeVideo('j9YpkSX7NNM')"
   ]
  },
  {
   "cell_type": "code",
   "execution_count": 50,
   "metadata": {},
   "outputs": [
    {
     "data": {
      "text/html": [
       "\n",
       "                <audio controls=\"controls\" >\n",
       "                    <source src=\"data:audio/x-wav;base64,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\" type=\"audio/x-wav\" />\n",
       "                    Your browser does not support the audio element.\n",
       "                </audio>\n",
       "              "
      ],
      "text/plain": [
       "<IPython.lib.display.Audio object>"
      ]
     },
     "execution_count": 50,
     "metadata": {},
     "output_type": "execute_result"
    }
   ],
   "source": [
    "from IPython.display import Audio\n",
    "Audio(\"data/GW150914_L1_whitenbp.wav\")"
   ]
  },
  {
   "cell_type": "code",
   "execution_count": 51,
   "metadata": {},
   "outputs": [
    {
     "data": {
      "text/html": [
       "\n",
       "        <iframe\n",
       "            width=\"100%\"\n",
       "            height=\"350\"\n",
       "            src=\"http://jupyter.org\"\n",
       "            frameborder=\"0\"\n",
       "            allowfullscreen\n",
       "        ></iframe>\n",
       "        "
      ],
      "text/plain": [
       "<IPython.lib.display.IFrame at 0x110d046d0>"
      ]
     },
     "execution_count": 51,
     "metadata": {},
     "output_type": "execute_result"
    }
   ],
   "source": [
    "from IPython.display import IFrame\n",
    "IFrame(\"http://jupyter.org\",width='100%',height=350)"
   ]
  },
  {
   "cell_type": "code",
   "execution_count": null,
   "metadata": {
    "collapsed": true
   },
   "outputs": [],
   "source": []
  }
 ],
 "metadata": {
  "anaconda-cloud": {},
  "kernelspec": {
   "display_name": "Python 2",
   "language": "python",
   "name": "python2"
  },
  "language_info": {
   "codemirror_mode": {
    "name": "ipython",
    "version": 2
   },
   "file_extension": ".py",
   "mimetype": "text/x-python",
   "name": "python",
   "nbconvert_exporter": "python",
   "pygments_lexer": "ipython2",
   "version": "2.7.13"
  }
 },
 "nbformat": 4,
 "nbformat_minor": 1
}
