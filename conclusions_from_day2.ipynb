{
 "cells": [
  {
   "cell_type": "markdown",
   "metadata": {},
   "source": [
    "# Conclusions from yesterday\n",
    "- ### and some clarifications"
   ]
  },
  {
   "cell_type": "markdown",
   "metadata": {},
   "source": [
    "Thanks for the feedback! Your comments on what could be improved are really useful."
   ]
  },
  {
   "cell_type": "markdown",
   "metadata": {},
   "source": [
    "### What we learned\n",
    " - how supercool Jupyter Notebooks are (or not, it isn't for everyone (unlike version control, automated testing, ...))\n",
    " - interacting with the notebook\n",
    " - how magics work\n",
    " - how interactive plotting works\n",
    " - how to mix programming and markup languages\n"
   ]
  },
  {
   "cell_type": "markdown",
   "metadata": {},
   "source": [
    "### Some unanswered questions\n",
    " 1. Version control \n",
    "  * a notebook file (.ipynb) is in json format. This can be version controlled, but it's not optimal. Under serious consideration by Jupyter developers\n",
    "  * GitHub renders Jupyter Notebooks\n",
    "  * you might want to version control everything (input and output, good for when you want the output to show on GitHub or nbviewer). Annoyance may arise when you only want to version control input (so `git status` should only show input changes). No universal solution yet, but `nbconvert` can clear the output for you\n",
    "  `jupyter nbconvert --to notebook --ClearOutputPreprocessor.enabled=True --inplace lesson_1.ipynb`\n",
    " 2. Sharing a copy of your environment\n",
    "  * [mybinder.org](https://mybinder.org) is an open-source project to turn GitHub repos into interactive notebooks. It runs in the cloud (Google Compute Engine cluster). Environment created from 1. Docker file, 2. requirements.txt, 3. environment.yml (for Conda)\n",
    " 3. Notebooks in collaborative setting\n",
    "  * project Jupyter-drive aims to bring [Jupyter Notebooks to Google Drive](https://github.com/jupyter/jupyter-drive)\n",
    "  * [JupyterHub](https://github.com/jupyterhub/jupyterhub) creates a multi-user hub to spawn, manage and proxy multiple Jupyter notebooks"
   ]
  },
  {
   "cell_type": "markdown",
   "metadata": {},
   "source": [
    "### Why should you use Jupyter?\n",
    " 1. Depends sensitively on your normal workflows. People use it for:\n",
    "  * data analysis, supplementary material, etc.\n",
    "  * testing/prototyping programming ideas (and then perhaps switching to an IDE)\n",
    "  * explaining code or results to collaborators\n",
    "  * teaching\n",
    "  * maybe it just doesn't suit your needs (but look out for JupyterLab)\n",
    " 2. [Gallery of interesting notebooks](https://github.com/jupyter/jupyter/wiki/A-gallery-of-interesting-Jupyter-and-IPython-Notebooks) for inspiration\n"
   ]
  },
  {
   "cell_type": "code",
   "execution_count": null,
   "metadata": {
    "collapsed": true
   },
   "outputs": [],
   "source": []
  }
 ],
 "metadata": {
  "kernelspec": {
   "display_name": "Python 3",
   "language": "python",
   "name": "python3"
  },
  "language_info": {
   "codemirror_mode": {
    "name": "ipython",
    "version": 3
   },
   "file_extension": ".py",
   "mimetype": "text/x-python",
   "name": "python",
   "nbconvert_exporter": "python",
   "pygments_lexer": "ipython3",
   "version": "3.6.1"
  }
 },
 "nbformat": 4,
 "nbformat_minor": 2
}
