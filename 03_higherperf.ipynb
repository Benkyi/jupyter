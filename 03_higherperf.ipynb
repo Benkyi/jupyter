{
 "cells": [
  {
   "cell_type": "markdown",
   "metadata": {},
   "source": [
    "# Higher-performance computing"
   ]
  },
  {
   "cell_type": "markdown",
   "metadata": {},
   "source": [
    "There are various ways to speed up the execution of code in a Jupyter notebook.  \n",
    "We will start scratching the surface by looking at\n",
    "\n",
    "- Numba\n",
    "- Fortran magic\n",
    "- Cython"
   ]
  },
  {
   "cell_type": "markdown",
   "metadata": {},
   "source": [
    "Other ways to increase performance include"
   ]
  },
  {
   "cell_type": "markdown",
   "metadata": {},
   "source": [
    "- **Numexpr** - a package that speeds up complex array operations (sometimes slow in numpy due to creation of many temporary arrays)\n",
    "- wrapping C libraries with **ctypes**\n",
    "- **CFFI** (C Foreign Function Interface for Python)\n",
    "- **SWIG** (Simplified Wrapper and Interface Generator)\n",
    "- create a new magic command which compiles C/C++/Fortran code, runs it and returns result!"
   ]
  },
  {
   "cell_type": "markdown",
   "metadata": {},
   "source": [
    "## Numba"
   ]
  },
  {
   "cell_type": "markdown",
   "metadata": {},
   "source": [
    "Numpy offers fast vector computations of arrays, but some algorithms can't be vectorized and require explicit loops.  \n",
    "However, Python loops are slow. `Numba` can speed up Python through a *just-in-time* (JIT) compiler, compiling Python code directly to machine code. "
   ]
  },
  {
   "cell_type": "markdown",
   "metadata": {},
   "source": [
    "### Random walk"
   ]
  },
  {
   "cell_type": "markdown",
   "metadata": {},
   "source": [
    "First without Numba"
   ]
  },
  {
   "cell_type": "code",
   "execution_count": 1,
   "metadata": {
    "collapsed": true
   },
   "outputs": [],
   "source": [
    "import math\n",
    "import random\n",
    "import numpy as np\n",
    "import matplotlib.pyplot as plt\n",
    "import seaborn\n",
    "%matplotlib inline"
   ]
  },
  {
   "cell_type": "code",
   "execution_count": 2,
   "metadata": {
    "collapsed": true
   },
   "outputs": [],
   "source": [
    "def step():\n",
    "    return 1. if random.random() > .5 else -1."
   ]
  },
  {
   "cell_type": "code",
   "execution_count": 3,
   "metadata": {
    "collapsed": true
   },
   "outputs": [],
   "source": [
    "def walk(n):\n",
    "    x = np.zeros(n)\n",
    "    dx = 1. / n\n",
    "    for i in range(n - 1):\n",
    "        x_new = x[i] + dx * step()\n",
    "        if x_new > 5e-3:\n",
    "            x[i + 1] = 0.\n",
    "        else:\n",
    "            x[i + 1] = x_new\n",
    "    return x"
   ]
  },
  {
   "cell_type": "code",
   "execution_count": 4,
   "metadata": {
    "collapsed": true
   },
   "outputs": [],
   "source": [
    "n = 100000\n",
    "x = walk(n)"
   ]
  },
  {
   "cell_type": "code",
   "execution_count": 5,
   "metadata": {
    "collapsed": false
   },
   "outputs": [
    {
     "data": {
      "text/plain": [
       "[<matplotlib.lines.Line2D at 0x11798ddd0>]"
      ]
     },
     "execution_count": 5,
     "metadata": {},
     "output_type": "execute_result"
    },
    {
     "data": {
      "image/png": "[encoded data removed]",
      "text/plain": [
       "<matplotlib.figure.Figure at 0x1176c61d0>"
      ]
     },
     "metadata": {},
     "output_type": "display_data"
    }
   ],
   "source": [
    "plt.plot(x)"
   ]
  },
  {
   "cell_type": "code",
   "execution_count": 6,
   "metadata": {
    "collapsed": false
   },
   "outputs": [
    {
     "name": "stdout",
     "output_type": "stream",
     "text": [
      "10 loops, best of 3: 106 ms per loop\n"
     ]
    }
   ],
   "source": [
    "%%timeit\n",
    "walk(n)"
   ]
  },
  {
   "cell_type": "markdown",
   "metadata": {},
   "source": [
    "### <font color=\"blue\"> Demo, *just-in-time* compilation"
   ]
  },
  {
   "cell_type": "markdown",
   "metadata": {},
   "source": [
    "We import the Numba package, and then add the decorator `@jit` immediately before the function definition"
   ]
  },
  {
   "cell_type": "code",
   "execution_count": null,
   "metadata": {
    "collapsed": true
   },
   "outputs": [],
   "source": []
  },
  {
   "cell_type": "markdown",
   "metadata": {},
   "source": [
    "The `nopython=True` argument activates nopython mode, which means that the code is translated directly to machine code, bypassing the CPython interpreter. The nopython mode is faster than python mode, but is more limited and for example lists and dictionaries are not supported. For optimal performance, try to stick with nopython!  "
   ]
  },
  {
   "cell_type": "code",
   "execution_count": null,
   "metadata": {
    "collapsed": true
   },
   "outputs": [],
   "source": []
  },
  {
   "cell_type": "markdown",
   "metadata": {},
   "source": [
    "## Mixing in Fortran and C "
   ]
  },
  {
   "cell_type": "markdown",
   "metadata": {},
   "source": [
    "* One can compile external functions in Fortran or C, and write python wrappers...\n",
    "* but it's even simpler to directly use Fortran or Cython, hiding away the wrapping! "
   ]
  },
  {
   "cell_type": "code",
   "execution_count": 69,
   "metadata": {
    "collapsed": true
   },
   "outputs": [],
   "source": [
    "#!pip install cython fortran-magic"
   ]
  },
  {
   "cell_type": "markdown",
   "metadata": {},
   "source": [
    "### Fortran"
   ]
  },
  {
   "cell_type": "markdown",
   "metadata": {},
   "source": [
    "The %%fortran cell magic allows us to write Fortran code into a cell, which gets compiled and imported using `f2py`.\n"
   ]
  },
  {
   "cell_type": "code",
   "execution_count": 70,
   "metadata": {
    "collapsed": false
   },
   "outputs": [],
   "source": [
    "%%fortran?"
   ]
  },
  {
   "cell_type": "code",
   "execution_count": 71,
   "metadata": {
    "collapsed": false
   },
   "outputs": [
    {
     "name": "stdout",
     "output_type": "stream",
     "text": [
      "The fortranmagic extension is already loaded. To reload it, use:\n",
      "  %reload_ext fortranmagic\n"
     ]
    }
   ],
   "source": [
    "%load_ext fortranmagic"
   ]
  },
  {
   "cell_type": "code",
   "execution_count": 72,
   "metadata": {
    "collapsed": true
   },
   "outputs": [
    {
     "name": "stdout",
     "output_type": "stream",
     "text": [
      "Running...\n",
      "   /Users/ktw/anaconda2/bin/python -m numpy.f2py -m _fortran_magic_67c6d4756b44a5d5ce607e55199e220e -c /Users/ktw/.ipython/fortran/_fortran_magic_67c6d4756b44a5d5ce607e55199e220e.f90\n",
      "running build\n",
      "running config_cc\n",
      "unifing config_cc, config, build_clib, build_ext, build commands --compiler options\n",
      "running config_fc\n",
      "unifing config_fc, config, build_clib, build_ext, build commands --fcompiler options\n",
      "running build_src\n",
      "build_src\n",
      "building extension \"_fortran_magic_67c6d4756b44a5d5ce607e55199e220e\" sources\n",
      "f2py options: []\n",
      "f2py:> /var/folders/2y/083kpwjs5zlc_3db05ll22180000gn/T/tmp9PZPHN/src.macosx-10.6-x86_64-2.7/_fortran_magic_67c6d4756b44a5d5ce607e55199e220emodule.c\n",
      "creating /var/folders/2y/083kpwjs5zlc_3db05ll22180000gn/T/tmp9PZPHN/src.macosx-10.6-x86_64-2.7\n",
      "Reading fortran codes...\n",
      "\tReading file '/Users/ktw/.ipython/fortran/_fortran_magic_67c6d4756b44a5d5ce607e55199e220e.f90' (format:free)\n",
      "Post-processing...\n",
      "\tBlock: _fortran_magic_67c6d4756b44a5d5ce607e55199e220e\n",
      "\t\t\tBlock: my_function\n",
      "Post-processing (stage 2)...\n",
      "Building modules...\n",
      "\tBuilding module \"_fortran_magic_67c6d4756b44a5d5ce607e55199e220e\"...\n",
      "\t\tCreating wrapper for Fortran subroutine \"my_function\"(\"my_function\")...\n",
      "\t\tConstructing wrapper function \"my_function\"...\n",
      "\t\t  z = my_function(x,y)\n",
      "\tWrote C/API module \"_fortran_magic_67c6d4756b44a5d5ce607e55199e220e\" to file \"/var/folders/2y/083kpwjs5zlc_3db05ll22180000gn/T/tmp9PZPHN/src.macosx-10.6-x86_64-2.7/_fortran_magic_67c6d4756b44a5d5ce607e55199e220emodule.c\"\n",
      "\tFortran 77 wrappers are saved to \"/var/folders/2y/083kpwjs5zlc_3db05ll22180000gn/T/tmp9PZPHN/src.macosx-10.6-x86_64-2.7/_fortran_magic_67c6d4756b44a5d5ce607e55199e220e-f2pywrappers.f\"\n",
      "  adding '/var/folders/2y/083kpwjs5zlc_3db05ll22180000gn/T/tmp9PZPHN/src.macosx-10.6-x86_64-2.7/fortranobject.c' to sources.\n",
      "  adding '/var/folders/2y/083kpwjs5zlc_3db05ll22180000gn/T/tmp9PZPHN/src.macosx-10.6-x86_64-2.7' to include_dirs.\n",
      "copying /Users/ktw/anaconda2/lib/python2.7/site-packages/numpy/f2py/src/fortranobject.c -> /var/folders/2y/083kpwjs5zlc_3db05ll22180000gn/T/tmp9PZPHN/src.macosx-10.6-x86_64-2.7\n",
      "copying /Users/ktw/anaconda2/lib/python2.7/site-packages/numpy/f2py/src/fortranobject.h -> /var/folders/2y/083kpwjs5zlc_3db05ll22180000gn/T/tmp9PZPHN/src.macosx-10.6-x86_64-2.7\n",
      "  adding '/var/folders/2y/083kpwjs5zlc_3db05ll22180000gn/T/tmp9PZPHN/src.macosx-10.6-x86_64-2.7/_fortran_magic_67c6d4756b44a5d5ce607e55199e220e-f2pywrappers.f' to sources.\n",
      "build_src: building npy-pkg config files\n",
      "running build_ext\n",
      "customize UnixCCompiler\n",
      "customize UnixCCompiler using build_ext\n",
      "customize Gnu95FCompiler\n",
      "Found executable /usr/local/bin/gfortran\n",
      "customize Gnu95FCompiler\n",
      "customize Gnu95FCompiler using build_ext\n",
      "building '_fortran_magic_67c6d4756b44a5d5ce607e55199e220e' extension\n",
      "compiling C sources\n",
      "C compiler: gcc -fno-strict-aliasing -I/Users/ktw/anaconda2/include -arch x86_64 -DNDEBUG -g -fwrapv -O3 -Wall -Wstrict-prototypes\n",
      "\n",
      "creating /var/folders/2y/083kpwjs5zlc_3db05ll22180000gn/T/tmp9PZPHN/var\n",
      "creating /var/folders/2y/083kpwjs5zlc_3db05ll22180000gn/T/tmp9PZPHN/var/folders\n",
      "creating /var/folders/2y/083kpwjs5zlc_3db05ll22180000gn/T/tmp9PZPHN/var/folders/2y\n",
      "creating /var/folders/2y/083kpwjs5zlc_3db05ll22180000gn/T/tmp9PZPHN/var/folders/2y/083kpwjs5zlc_3db05ll22180000gn\n",
      "creating /var/folders/2y/083kpwjs5zlc_3db05ll22180000gn/T/tmp9PZPHN/var/folders/2y/083kpwjs5zlc_3db05ll22180000gn/T\n",
      "creating /var/folders/2y/083kpwjs5zlc_3db05ll22180000gn/T/tmp9PZPHN/var/folders/2y/083kpwjs5zlc_3db05ll22180000gn/T/tmp9PZPHN\n",
      "creating /var/folders/2y/083kpwjs5zlc_3db05ll22180000gn/T/tmp9PZPHN/var/folders/2y/083kpwjs5zlc_3db05ll22180000gn/T/tmp9PZPHN/src.macosx-10.6-x86_64-2.7\n",
      "compile options: '-I/var/folders/2y/083kpwjs5zlc_3db05ll22180000gn/T/tmp9PZPHN/src.macosx-10.6-x86_64-2.7 -I/Users/ktw/anaconda2/lib/python2.7/site-packages/numpy/core/include -I/Users/ktw/anaconda2/include/python2.7 -c'\n",
      "gcc: /var/folders/2y/083kpwjs5zlc_3db05ll22180000gn/T/tmp9PZPHN/src.macosx-10.6-x86_64-2.7/_fortran_magic_67c6d4756b44a5d5ce607e55199e220emodule.c\n",
      "In file included from /var/folders/2y/083kpwjs5zlc_3db05ll22180000gn/T/tmp9PZPHN/src.macosx-10.6-x86_64-2.7/_fortran_magic_67c6d4756b44a5d5ce607e55199e220emodule.c:19:\n",
      "In file included from /var/folders/2y/083kpwjs5zlc_3db05ll22180000gn/T/tmp9PZPHN/src.macosx-10.6-x86_64-2.7/fortranobject.h:13:\n",
      "In file included from /Users/ktw/anaconda2/lib/python2.7/site-packages/numpy/core/include/numpy/arrayobject.h:4:\n",
      "In file included from /Users/ktw/anaconda2/lib/python2.7/site-packages/numpy/core/include/numpy/ndarrayobject.h:18:\n",
      "In file included from /Users/ktw/anaconda2/lib/python2.7/site-packages/numpy/core/include/numpy/ndarraytypes.h:1777:\n",
      "/Users/ktw/anaconda2/lib/python2.7/site-packages/numpy/core/include/numpy/npy_1_7_deprecated_api.h:15:2: warning: \"Using deprecated NumPy API, disable it by \"          \"#defining NPY_NO_DEPRECATED_API NPY_1_7_API_VERSION\" [-W#warnings]\n",
      "#warning \"Using deprecated NumPy API, disable it by \" \\\n",
      " ^\n",
      "1 warning generated.\n",
      "gcc: /var/folders/2y/083kpwjs5zlc_3db05ll22180000gn/T/tmp9PZPHN/src.macosx-10.6-x86_64-2.7/fortranobject.c\n",
      "In file included from /var/folders/2y/083kpwjs5zlc_3db05ll22180000gn/T/tmp9PZPHN/src.macosx-10.6-x86_64-2.7/fortranobject.c:2:\n",
      "In file included from /var/folders/2y/083kpwjs5zlc_3db05ll22180000gn/T/tmp9PZPHN/src.macosx-10.6-x86_64-2.7/fortranobject.h:13:\n",
      "In file included from /Users/ktw/anaconda2/lib/python2.7/site-packages/numpy/core/include/numpy/arrayobject.h:4:\n",
      "In file included from /Users/ktw/anaconda2/lib/python2.7/site-packages/numpy/core/include/numpy/ndarrayobject.h:18:\n",
      "In file included from /Users/ktw/anaconda2/lib/python2.7/site-packages/numpy/core/include/numpy/ndarraytypes.h:1777:\n",
      "/Users/ktw/anaconda2/lib/python2.7/site-packages/numpy/core/include/numpy/npy_1_7_deprecated_api.h:15:2: warning: \"Using deprecated NumPy API, disable it by \"          \"#defining NPY_NO_DEPRECATED_API NPY_1_7_API_VERSION\" [-W#warnings]\n",
      "#warning \"Using deprecated NumPy API, disable it by \" \\\n",
      " ^\n",
      "1 warning generated.\n",
      "compiling Fortran sources\n",
      "Fortran f77 compiler: /usr/local/bin/gfortran -Wall -g -ffixed-form -fno-second-underscore -arch x86_64 -fPIC -O3 -funroll-loops\n",
      "Fortran f90 compiler: /usr/local/bin/gfortran -Wall -g -fno-second-underscore -arch x86_64 -fPIC -O3 -funroll-loops\n",
      "Fortran fix compiler: /usr/local/bin/gfortran -Wall -g -ffixed-form -fno-second-underscore -Wall -g -fno-second-underscore -arch x86_64 -fPIC -O3 -funroll-loops\n",
      "creating /var/folders/2y/083kpwjs5zlc_3db05ll22180000gn/T/tmp9PZPHN/Users\n",
      "creating /var/folders/2y/083kpwjs5zlc_3db05ll22180000gn/T/tmp9PZPHN/Users/ktw\n",
      "creating /var/folders/2y/083kpwjs5zlc_3db05ll22180000gn/T/tmp9PZPHN/Users/ktw/.ipython\n",
      "creating /var/folders/2y/083kpwjs5zlc_3db05ll22180000gn/T/tmp9PZPHN/Users/ktw/.ipython/fortran\n",
      "compile options: '-I/var/folders/2y/083kpwjs5zlc_3db05ll22180000gn/T/tmp9PZPHN/src.macosx-10.6-x86_64-2.7 -I/Users/ktw/anaconda2/lib/python2.7/site-packages/numpy/core/include -I/Users/ktw/anaconda2/include/python2.7 -c'\n",
      "gfortran:f90: /Users/ktw/.ipython/fortran/_fortran_magic_67c6d4756b44a5d5ce607e55199e220e.f90\n",
      "/Users/ktw/.ipython/fortran/_fortran_magic_67c6d4756b44a5d5ce607e55199e220e.f90:1:2:\n",
      "\n",
      " # -vvv for verbose output for what is happening under the hood\n",
      "  1\n",
      "Warning: Illegal preprocessor directive\n",
      "/Users/ktw/.ipython/fortran/_fortran_magic_67c6d4756b44a5d5ce607e55199e220e.f90:2:2:\n",
      "\n",
      " # One can also give compiler flags, e.g. for OpenMP parallellization\n",
      "  1\n",
      "Warning: Illegal preprocessor directive\n",
      "/Users/ktw/.ipython/fortran/_fortran_magic_67c6d4756b44a5d5ce607e55199e220e.f90:3:2:\n",
      "\n",
      " #%%fortran -vvv --f90flags='-fopenmp' --extra='-lgomp' # for OpenMP support\n",
      "  1\n",
      "Warning: Illegal preprocessor directive\n",
      "gfortran:f77: /var/folders/2y/083kpwjs5zlc_3db05ll22180000gn/T/tmp9PZPHN/src.macosx-10.6-x86_64-2.7/_fortran_magic_67c6d4756b44a5d5ce607e55199e220e-f2pywrappers.f\n",
      "/usr/local/bin/gfortran -Wall -g -arch x86_64 -Wall -g -undefined dynamic_lookup -bundle /var/folders/2y/083kpwjs5zlc_3db05ll22180000gn/T/tmp9PZPHN/var/folders/2y/083kpwjs5zlc_3db05ll22180000gn/T/tmp9PZPHN/src.macosx-10.6-x86_64-2.7/_fortran_magic_67c6d4756b44a5d5ce607e55199e220emodule.o /var/folders/2y/083kpwjs5zlc_3db05ll22180000gn/T/tmp9PZPHN/var/folders/2y/083kpwjs5zlc_3db05ll22180000gn/T/tmp9PZPHN/src.macosx-10.6-x86_64-2.7/fortranobject.o /var/folders/2y/083kpwjs5zlc_3db05ll22180000gn/T/tmp9PZPHN/Users/ktw/.ipython/fortran/_fortran_magic_67c6d4756b44a5d5ce607e55199e220e.o /var/folders/2y/083kpwjs5zlc_3db05ll22180000gn/T/tmp9PZPHN/var/folders/2y/083kpwjs5zlc_3db05ll22180000gn/T/tmp9PZPHN/src.macosx-10.6-x86_64-2.7/_fortran_magic_67c6d4756b44a5d5ce607e55199e220e-f2pywrappers.o -L/usr/local/Cellar/gcc/6.2.0/lib/gcc/6/gcc/x86_64-apple-darwin15.6.0/6.2.0 -L/Users/ktw/anaconda2/lib -lgfortran -o ./_fortran_magic_67c6d4756b44a5d5ce607e55199e220e.so\n",
      "Removing build directory /var/folders/2y/083kpwjs5zlc_3db05ll22180000gn/T/tmp9PZPHN\n",
      "\n",
      "Ok. The following fortran objects are ready to use: my_function\n"
     ]
    }
   ],
   "source": [
    "%%fortran -vvv\n",
    "# -vvv for verbose output for what is happening under the hood\n",
    "# One can also give compiler flags, e.g. for OpenMP parallellization\n",
    "#%%fortran -vvv --f90flags='-fopenmp' --extra='-lgomp' # for OpenMP support\n",
    "subroutine my_function(x, y, z)\n",
    "    real, intent(in) :: x(:), y(:)\n",
    "    real, intent(out) :: z(size(x))\n",
    "    ! using vector operations  \n",
    "    z(:) = sin(x(:) + y(:))\n",
    "end subroutine"
   ]
  },
  {
   "cell_type": "code",
   "execution_count": 73,
   "metadata": {
    "collapsed": false
   },
   "outputs": [],
   "source": [
    "import numpy as np\n",
    "x = np.random.normal(size=100)\n",
    "y = np.random.normal(size=100)\n",
    "z = my_function(x, y)"
   ]
  },
  {
   "cell_type": "markdown",
   "metadata": {},
   "source": [
    "### Cython"
   ]
  },
  {
   "cell_type": "markdown",
   "metadata": {},
   "source": [
    "Cython is a superset of Python which supports calling C functions and declaring C types on variables and class attributes.\n",
    "Cython allows you to\n",
    "- wrap C/C++ libraries into Python\n",
    "- optimize Python code by statically compiling with C\n"
   ]
  },
  {
   "cell_type": "code",
   "execution_count": 74,
   "metadata": {
    "collapsed": false
   },
   "outputs": [
    {
     "name": "stdout",
     "output_type": "stream",
     "text": [
      "The Cython extension is already loaded. To reload it, use:\n",
      "  %reload_ext Cython\n"
     ]
    }
   ],
   "source": [
    "%load_ext Cython"
   ]
  },
  {
   "cell_type": "markdown",
   "metadata": {},
   "source": [
    "### <font color=\"blue\"> Demo: the Mandelbrot fractal"
   ]
  },
  {
   "cell_type": "markdown",
   "metadata": {},
   "source": [
    "Initialize:"
   ]
  },
  {
   "cell_type": "code",
   "execution_count": 75,
   "metadata": {
    "collapsed": true
   },
   "outputs": [],
   "source": [
    "size = 200\n",
    "iterations = 100"
   ]
  },
  {
   "cell_type": "markdown",
   "metadata": {},
   "source": [
    "#### Pure python"
   ]
  },
  {
   "cell_type": "code",
   "execution_count": 76,
   "metadata": {
    "collapsed": true
   },
   "outputs": [],
   "source": [
    "def mandelbrot_python(m, size, iterations):\n",
    "    for i in range(size):\n",
    "        for j in range(size):\n",
    "            c = -2 + 3./size*j + 1j*(1.5-3./size*i)\n",
    "            z = 0\n",
    "            for n in range(iterations):\n",
    "                if np.abs(z) <= 10:\n",
    "                    z = z*z + c\n",
    "                    m[i, j] = n\n",
    "                else:\n",
    "                    break"
   ]
  },
  {
   "cell_type": "code",
   "execution_count": 77,
   "metadata": {
    "collapsed": false
   },
   "outputs": [
    {
     "name": "stdout",
     "output_type": "stream",
     "text": [
      "1 loop, best of 1: 2.35 s per loop\n"
     ]
    }
   ],
   "source": [
    "%%timeit -n1 -r1 \n",
    "m = np.zeros((size, size))\n",
    "mandelbrot_python(m, size, iterations)"
   ]
  },
  {
   "cell_type": "markdown",
   "metadata": {},
   "source": [
    "#### First cython attempt\n",
    "\n",
    "First just add the cython magic"
   ]
  },
  {
   "cell_type": "code",
   "execution_count": null,
   "metadata": {
    "collapsed": true
   },
   "outputs": [],
   "source": []
  },
  {
   "cell_type": "code",
   "execution_count": null,
   "metadata": {
    "collapsed": false
   },
   "outputs": [],
   "source": []
  },
  {
   "cell_type": "markdown",
   "metadata": {},
   "source": [
    "#### Second attempt\n",
    "\n",
    "Now add type information, use *memory views* for NumPy arrays, and replace `np.dot()`"
   ]
  },
  {
   "cell_type": "code",
   "execution_count": null,
   "metadata": {
    "collapsed": true
   },
   "outputs": [],
   "source": []
  },
  {
   "cell_type": "code",
   "execution_count": null,
   "metadata": {
    "collapsed": false
   },
   "outputs": [],
   "source": []
  },
  {
   "cell_type": "markdown",
   "metadata": {},
   "source": [
    "### <font color=\"red\"> *Exercise: calculate primes*"
   ]
  },
  {
   "cell_type": "markdown",
   "metadata": {},
   "source": [
    "- Take the following Python code which returns prime numbers\n",
    "- Run it for `kmax=100` and time it\n",
    "- Add the most simple cythonization\n",
    "- Run again and time, compare to pure Python\n",
    "- Cythonize it properly! (Hint: replace `p=[]` also)\n",
    "- Try just-in-time compilation using `Numba` and compare to `Cython`"
   ]
  },
  {
   "cell_type": "code",
   "execution_count": 78,
   "metadata": {
    "collapsed": true
   },
   "outputs": [],
   "source": [
    "def primes(kmax):  \n",
    "    p = []\n",
    "    result = []  \n",
    "    if kmax > 1000:\n",
    "        kmax = 1000\n",
    "    k = 0\n",
    "    n = 2\n",
    "    while k < kmax:\n",
    "        i = 0\n",
    "        while i < k and n % p[i] != 0:\n",
    "            i = i + 1\n",
    "        if i == k:\n",
    "            p.append(n)\n",
    "            k = k + 1\n",
    "            result.append(n)\n",
    "        n = n + 1\n",
    "    return result"
   ]
  }
 ],
 "metadata": {
  "anaconda-cloud": {},
  "kernelspec": {
   "display_name": "Python [conda root]",
   "language": "python",
   "name": "conda-root-py"
  },
  "language_info": {
   "codemirror_mode": {
    "name": "ipython",
    "version": 2
   },
   "file_extension": ".py",
   "mimetype": "text/x-python",
   "name": "python",
   "nbconvert_exporter": "python",
   "pygments_lexer": "ipython2",
   "version": "2.7.12"
  }
 },
 "nbformat": 4,
 "nbformat_minor": 0
}
